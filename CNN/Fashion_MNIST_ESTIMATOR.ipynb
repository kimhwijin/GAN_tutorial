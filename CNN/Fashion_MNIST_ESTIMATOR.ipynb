{
  "nbformat": 4,
  "nbformat_minor": 0,
  "metadata": {
    "colab": {
      "name": "Fashion_MNIST_ESTIMATOR.ipynb",
      "provenance": [],
      "collapsed_sections": [],
      "authorship_tag": "ABX9TyMfV2iAr+xbv8Kk0ym4Sf7p",
      "include_colab_link": true
    },
    "kernelspec": {
      "name": "python3",
      "display_name": "Python 3"
    },
    "language_info": {
      "name": "python"
    }
  },
  "cells": [
    {
      "cell_type": "markdown",
      "metadata": {
        "id": "view-in-github",
        "colab_type": "text"
      },
      "source": [
        "<a href=\"https://colab.research.google.com/github/kimhwijin/TensorflowWithKeras/blob/master/CNN/Fashion_MNIST_ESTIMATOR.ipynb\" target=\"_parent\"><img src=\"https://colab.research.google.com/assets/colab-badge.svg\" alt=\"Open In Colab\"/></a>"
      ]
    },
    {
      "cell_type": "code",
      "metadata": {
        "id": "CzzIYc-XPJLY"
      },
      "source": [
        "import os\n",
        "import time\n",
        "import tensorflow as tf\n",
        "import numpy as np"
      ],
      "execution_count": 7,
      "outputs": []
    },
    {
      "cell_type": "code",
      "metadata": {
        "colab": {
          "base_uri": "https://localhost:8080/"
        },
        "id": "eAv6kmMHQhvf",
        "outputId": "007f8348-dadb-41de-84b8-9bad0e0c7c40"
      },
      "source": [
        "LABEL_DIMENSIONS = 10\n",
        "\n",
        "(train_images, train_labels) , (test_images, test_labels) = tf.keras.datasets.fashion_mnist.load_data()\n",
        "\n",
        "TRAINNING_SIZE = len(train_images)\n",
        "TEST_SIZE = len(test_images)\n",
        "\n",
        "train_images = np.asarray(train_images, dtype=np.float32,) / 255\n",
        "train_images = train_images.reshape((TRAINNING_SIZE,28,28,1))\n",
        "\n",
        "\n",
        "test_images = np.asarray(test_images, dtype=np.float32,) / 255\n",
        "test_images = test_images.reshape((TEST_SIZE, 28, 28, 1))\n",
        "\n",
        "train_labels = tf.keras.utils.to_categorical(train_labels, LABEL_DIMENSIONS)\n",
        "test_labels = tf.keras.utils.to_categorical(test_labels, LABEL_DIMENSIONS)\n",
        "\n",
        "print(train_labels.shape)\n",
        "print(test_labels.shape)"
      ],
      "execution_count": 8,
      "outputs": [
        {
          "output_type": "stream",
          "text": [
            "(60000, 10)\n",
            "(10000, 10)\n"
          ],
          "name": "stdout"
        }
      ]
    },
    {
      "cell_type": "code",
      "metadata": {
        "colab": {
          "base_uri": "https://localhost:8080/"
        },
        "id": "rT9P5fGmQktB",
        "outputId": "1fd89b90-61d7-47d8-b4de-ee89dffbb2a0"
      },
      "source": [
        "#tf keras 함수형 api 컨볼루션 모델\n",
        "inputs = tf.keras.Input(shape=(28,28,1))\n",
        "x = tf.keras.layers.Conv2D(filters=32, kernel_size=(3,3), activation='relu')(inputs)\n",
        "x = tf.keras.layers.MaxPool2D(pool_size=(2,2), strides=2)(x)\n",
        "x = tf.keras.layers.Conv2D(filters=64, kernel_size=(3,3), activation='relu')(x)\n",
        "x = tf.keras.layers.MaxPool2D(pool_size=(2,2), strides=2)(x)\n",
        "x = tf.keras.layers.Conv2D(filters=64, kernel_size=(3,3), activation='relu')(x)\n",
        "x = tf.keras.layers.Flatten()(x)\n",
        "x = tf.keras.layers.Dense(64, activation='relu')(x)\n",
        "predictions = tf.keras.layers.Dense(LABEL_DIMENSIONS, activation='softmax')(x)\n",
        "\n",
        "model = tf.keras.Model(inputs=inputs, outputs=predictions)\n",
        "model.summary()"
      ],
      "execution_count": 9,
      "outputs": [
        {
          "output_type": "stream",
          "text": [
            "Model: \"model_1\"\n",
            "_________________________________________________________________\n",
            "Layer (type)                 Output Shape              Param #   \n",
            "=================================================================\n",
            "input_2 (InputLayer)         [(None, 28, 28, 1)]       0         \n",
            "_________________________________________________________________\n",
            "conv2d_3 (Conv2D)            (None, 26, 26, 32)        320       \n",
            "_________________________________________________________________\n",
            "max_pooling2d_2 (MaxPooling2 (None, 13, 13, 32)        0         \n",
            "_________________________________________________________________\n",
            "conv2d_4 (Conv2D)            (None, 11, 11, 64)        18496     \n",
            "_________________________________________________________________\n",
            "max_pooling2d_3 (MaxPooling2 (None, 5, 5, 64)          0         \n",
            "_________________________________________________________________\n",
            "conv2d_5 (Conv2D)            (None, 3, 3, 64)          36928     \n",
            "_________________________________________________________________\n",
            "flatten_1 (Flatten)          (None, 576)               0         \n",
            "_________________________________________________________________\n",
            "dense_2 (Dense)              (None, 64)                36928     \n",
            "_________________________________________________________________\n",
            "dense_3 (Dense)              (None, 10)                650       \n",
            "=================================================================\n",
            "Total params: 93,322\n",
            "Trainable params: 93,322\n",
            "Non-trainable params: 0\n",
            "_________________________________________________________________\n"
          ],
          "name": "stdout"
        }
      ]
    },
    {
      "cell_type": "code",
      "metadata": {
        "colab": {
          "base_uri": "https://localhost:8080/"
        },
        "id": "37Hy1FTcR6vE",
        "outputId": "9fb8b2f5-859d-461c-fc79-c4922ecbb7de"
      },
      "source": [
        "#추정기\n",
        "optimizer = tf.keras.optimizers.SGD()\n",
        "model.compile(loss='categorical_crossentropy', optimizer=optimizer, metrics=['accuracy'])\n",
        "\n",
        "#기기 전력\n",
        "\n",
        "#cpu\n",
        "strategy = None\n",
        "#gpu\n",
        "#strategy = tf.distribute.MirroredStrategy()\n",
        "config = tf.estimator.RunConfig(train_distribute=strategy)\n",
        "\n",
        "estimator = tf.keras.estimator.model_to_estimator(model, config=config)"
      ],
      "execution_count": 10,
      "outputs": [
        {
          "output_type": "stream",
          "text": [
            "WARNING:tensorflow:Using temporary folder as model directory: /tmp/tmpam8klu8j\n",
            "INFO:tensorflow:Using the Keras model provided.\n"
          ],
          "name": "stdout"
        },
        {
          "output_type": "stream",
          "text": [
            "/usr/local/lib/python3.7/dist-packages/tensorflow/python/keras/backend.py:435: UserWarning: `tf.keras.backend.set_learning_phase` is deprecated and will be removed after 2020-10-11. To update it, simply pass a True/False value to the `training` argument of the `__call__` method of your layer or model.\n",
            "  warnings.warn('`tf.keras.backend.set_learning_phase` is deprecated and '\n"
          ],
          "name": "stderr"
        },
        {
          "output_type": "stream",
          "text": [
            "INFO:tensorflow:Using config: {'_model_dir': '/tmp/tmpam8klu8j', '_tf_random_seed': None, '_save_summary_steps': 100, '_save_checkpoints_steps': None, '_save_checkpoints_secs': 600, '_session_config': allow_soft_placement: true\n",
            "graph_options {\n",
            "  rewrite_options {\n",
            "    meta_optimizer_iterations: ONE\n",
            "  }\n",
            "}\n",
            ", '_keep_checkpoint_max': 5, '_keep_checkpoint_every_n_hours': 10000, '_log_step_count_steps': 100, '_train_distribute': None, '_device_fn': None, '_protocol': None, '_eval_distribute': None, '_experimental_distribute': None, '_experimental_max_worker_delay_secs': None, '_session_creation_timeout_secs': 7200, '_checkpoint_save_graph_def': True, '_service': None, '_cluster_spec': ClusterSpec({}), '_task_type': 'worker', '_task_id': 0, '_global_id_in_cluster': 0, '_master': '', '_evaluation_master': '', '_is_chief': True, '_num_ps_replicas': 0, '_num_worker_replicas': 1}\n"
          ],
          "name": "stdout"
        }
      ]
    },
    {
      "cell_type": "code",
      "metadata": {
        "id": "zKBDV2hpvaJr"
      },
      "source": [
        "def input_fn(images, labels, epochs, batch_size):\n",
        "  #input -> dataset\n",
        "  dataset = tf.data.Dataset.from_tensor_slices((images, labels))\n",
        "  SHUFFLE_SIZE = 5000\n",
        "  dataset = dataset.shuffle(SHUFFLE_SIZE).repeat(epochs).batch(batch_size)\n",
        "  #\n",
        "  dataset = dataset.prefetch(None)\n",
        "  return dataset"
      ],
      "execution_count": 11,
      "outputs": []
    },
    {
      "cell_type": "code",
      "metadata": {
        "colab": {
          "base_uri": "https://localhost:8080/"
        },
        "id": "Ku5v5PkR_Zk0",
        "outputId": "fd06e273-0cd2-48f9-dabb-36f20cacb0be"
      },
      "source": [
        "BATCH_SIZE = 512\n",
        "EPOCHS = 20\n",
        "estimator_train_result = estimator.train(input_fn=lambda:input_fn(train_images, train_labels, epochs=EPOCHS, batch_size=BATCH_SIZE))\n",
        "print(estimator_train_result)"
      ],
      "execution_count": 12,
      "outputs": [
        {
          "output_type": "stream",
          "text": [
            "WARNING:tensorflow:From /usr/local/lib/python3.7/dist-packages/tensorflow/python/training/training_util.py:236: Variable.initialized_value (from tensorflow.python.ops.variables) is deprecated and will be removed in a future version.\n",
            "Instructions for updating:\n",
            "Use Variable.read_value. Variables in 2.X are initialized automatically both in eager and graph (inside tf.defun) contexts.\n",
            "INFO:tensorflow:Calling model_fn.\n"
          ],
          "name": "stdout"
        },
        {
          "output_type": "stream",
          "text": [
            "/usr/local/lib/python3.7/dist-packages/tensorflow/python/keras/backend.py:435: UserWarning: `tf.keras.backend.set_learning_phase` is deprecated and will be removed after 2020-10-11. To update it, simply pass a True/False value to the `training` argument of the `__call__` method of your layer or model.\n",
            "  warnings.warn('`tf.keras.backend.set_learning_phase` is deprecated and '\n"
          ],
          "name": "stderr"
        },
        {
          "output_type": "stream",
          "text": [
            "INFO:tensorflow:Done calling model_fn.\n",
            "INFO:tensorflow:Warm-starting with WarmStartSettings: WarmStartSettings(ckpt_to_initialize_from='/tmp/tmpam8klu8j/keras/keras_model.ckpt', vars_to_warm_start='.*', var_name_to_vocab_info={}, var_name_to_prev_var_name={})\n",
            "INFO:tensorflow:Warm-starting from: /tmp/tmpam8klu8j/keras/keras_model.ckpt\n",
            "INFO:tensorflow:Warm-starting variables only in TRAINABLE_VARIABLES.\n",
            "INFO:tensorflow:Warm-started 10 variables.\n",
            "INFO:tensorflow:Create CheckpointSaverHook.\n",
            "INFO:tensorflow:Graph was finalized.\n",
            "INFO:tensorflow:Running local_init_op.\n",
            "INFO:tensorflow:Done running local_init_op.\n",
            "INFO:tensorflow:Calling checkpoint listeners before saving checkpoint 0...\n",
            "INFO:tensorflow:Saving checkpoints for 0 into /tmp/tmpam8klu8j/model.ckpt.\n",
            "INFO:tensorflow:Calling checkpoint listeners after saving checkpoint 0...\n",
            "INFO:tensorflow:loss = 2.302557, step = 0\n",
            "INFO:tensorflow:global_step/sec: 2.70386\n",
            "INFO:tensorflow:loss = 2.2184036, step = 100 (36.986 sec)\n",
            "INFO:tensorflow:global_step/sec: 2.69568\n",
            "INFO:tensorflow:loss = 1.7608315, step = 200 (37.100 sec)\n",
            "INFO:tensorflow:global_step/sec: 2.72409\n",
            "INFO:tensorflow:loss = 1.0416636, step = 300 (36.707 sec)\n",
            "INFO:tensorflow:global_step/sec: 2.70894\n",
            "INFO:tensorflow:loss = 0.93144345, step = 400 (36.918 sec)\n",
            "INFO:tensorflow:global_step/sec: 2.72265\n",
            "INFO:tensorflow:loss = 0.881414, step = 500 (36.727 sec)\n",
            "INFO:tensorflow:global_step/sec: 2.71204\n",
            "INFO:tensorflow:loss = 0.8117789, step = 600 (36.871 sec)\n",
            "INFO:tensorflow:global_step/sec: 2.7008\n",
            "INFO:tensorflow:loss = 0.7537112, step = 700 (37.026 sec)\n",
            "INFO:tensorflow:global_step/sec: 2.70797\n",
            "INFO:tensorflow:loss = 0.7673389, step = 800 (36.928 sec)\n",
            "INFO:tensorflow:global_step/sec: 2.72325\n",
            "INFO:tensorflow:loss = 0.70939356, step = 900 (36.721 sec)\n",
            "INFO:tensorflow:global_step/sec: 2.72722\n",
            "INFO:tensorflow:loss = 0.74775004, step = 1000 (36.667 sec)\n",
            "INFO:tensorflow:global_step/sec: 2.72696\n",
            "INFO:tensorflow:loss = 0.7096553, step = 1100 (36.672 sec)\n",
            "INFO:tensorflow:global_step/sec: 2.72123\n",
            "INFO:tensorflow:loss = 0.6641303, step = 1200 (36.747 sec)\n",
            "INFO:tensorflow:global_step/sec: 2.73423\n",
            "INFO:tensorflow:loss = 0.6368561, step = 1300 (36.573 sec)\n",
            "INFO:tensorflow:global_step/sec: 2.72544\n",
            "INFO:tensorflow:loss = 0.6532508, step = 1400 (36.692 sec)\n",
            "INFO:tensorflow:global_step/sec: 2.72976\n",
            "INFO:tensorflow:loss = 0.6626116, step = 1500 (36.636 sec)\n",
            "INFO:tensorflow:global_step/sec: 2.51875\n",
            "INFO:tensorflow:loss = 0.6359105, step = 1600 (39.712 sec)\n",
            "INFO:tensorflow:Calling checkpoint listeners before saving checkpoint 1617...\n",
            "INFO:tensorflow:Saving checkpoints for 1617 into /tmp/tmpam8klu8j/model.ckpt.\n",
            "INFO:tensorflow:Calling checkpoint listeners after saving checkpoint 1617...\n",
            "INFO:tensorflow:global_step/sec: 2.55444\n",
            "INFO:tensorflow:loss = 0.58904517, step = 1700 (39.135 sec)\n",
            "INFO:tensorflow:global_step/sec: 2.73297\n",
            "INFO:tensorflow:loss = 0.6555501, step = 1800 (36.591 sec)\n",
            "INFO:tensorflow:global_step/sec: 2.73209\n",
            "INFO:tensorflow:loss = 0.5018806, step = 1900 (36.601 sec)\n",
            "INFO:tensorflow:global_step/sec: 2.73188\n",
            "INFO:tensorflow:loss = 0.50807834, step = 2000 (36.609 sec)\n",
            "INFO:tensorflow:global_step/sec: 2.7303\n",
            "INFO:tensorflow:loss = 0.5089928, step = 2100 (36.622 sec)\n",
            "INFO:tensorflow:global_step/sec: 2.74881\n",
            "INFO:tensorflow:loss = 0.5687023, step = 2200 (36.380 sec)\n",
            "INFO:tensorflow:global_step/sec: 2.75164\n",
            "INFO:tensorflow:loss = 0.5703763, step = 2300 (36.342 sec)\n",
            "INFO:tensorflow:Calling checkpoint listeners before saving checkpoint 2344...\n",
            "INFO:tensorflow:Saving checkpoints for 2344 into /tmp/tmpam8klu8j/model.ckpt.\n",
            "INFO:tensorflow:Calling checkpoint listeners after saving checkpoint 2344...\n",
            "INFO:tensorflow:Loss for final step: 0.45451584.\n",
            "<tensorflow_estimator.python.estimator.estimator.EstimatorV2 object at 0x7fa0b02353d0>\n"
          ],
          "name": "stdout"
        }
      ]
    },
    {
      "cell_type": "code",
      "metadata": {
        "colab": {
          "base_uri": "https://localhost:8080/"
        },
        "id": "t0MP8bNn_u88",
        "outputId": "c3afaa4f-b5b3-4476-9799-b8286cb8b053"
      },
      "source": [
        "estimator.evaluate(lambda:input_fn(test_images, test_labels, epochs=1, batch_size=BATCH_SIZE))\n"
      ],
      "execution_count": 13,
      "outputs": [
        {
          "output_type": "stream",
          "text": [
            "INFO:tensorflow:Calling model_fn.\n"
          ],
          "name": "stdout"
        },
        {
          "output_type": "stream",
          "text": [
            "/usr/local/lib/python3.7/dist-packages/tensorflow/python/keras/backend.py:435: UserWarning: `tf.keras.backend.set_learning_phase` is deprecated and will be removed after 2020-10-11. To update it, simply pass a True/False value to the `training` argument of the `__call__` method of your layer or model.\n",
            "  warnings.warn('`tf.keras.backend.set_learning_phase` is deprecated and '\n",
            "/usr/local/lib/python3.7/dist-packages/tensorflow/python/keras/engine/training.py:2426: UserWarning: `Model.state_updates` will be removed in a future version. This property should not be used in TensorFlow 2.0, as `updates` are applied automatically.\n",
            "  warnings.warn('`Model.state_updates` will be removed in a future version. '\n"
          ],
          "name": "stderr"
        },
        {
          "output_type": "stream",
          "text": [
            "INFO:tensorflow:Done calling model_fn.\n",
            "INFO:tensorflow:Starting evaluation at 2021-05-30T16:15:13\n",
            "INFO:tensorflow:Graph was finalized.\n",
            "INFO:tensorflow:Restoring parameters from /tmp/tmpam8klu8j/model.ckpt-2344\n",
            "INFO:tensorflow:Running local_init_op.\n",
            "INFO:tensorflow:Done running local_init_op.\n",
            "INFO:tensorflow:Inference Time : 2.15433s\n",
            "INFO:tensorflow:Finished evaluation at 2021-05-30-16:15:15\n",
            "INFO:tensorflow:Saving dict for global step 2344: accuracy = 0.8002, global_step = 2344, loss = 0.55419254\n",
            "INFO:tensorflow:Saving 'checkpoint_path' summary for global step 2344: /tmp/tmpam8klu8j/model.ckpt-2344\n"
          ],
          "name": "stdout"
        },
        {
          "output_type": "execute_result",
          "data": {
            "text/plain": [
              "{'accuracy': 0.8002, 'global_step': 2344, 'loss': 0.55419254}"
            ]
          },
          "metadata": {
            "tags": []
          },
          "execution_count": 13
        }
      ]
    }
  ]
}