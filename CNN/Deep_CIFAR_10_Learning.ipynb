{
  "nbformat": 4,
  "nbformat_minor": 0,
  "metadata": {
    "colab": {
      "name": "Deep_CIFAR-10_Learning.ipynb",
      "provenance": [],
      "collapsed_sections": [],
      "mount_file_id": "1NfwzIh4UALWo0Lm3NkrVFUFur-EZCkZ5",
      "authorship_tag": "ABX9TyNMbbyGmfoe/tC7dPEQE3rx",
      "include_colab_link": true
    },
    "kernelspec": {
      "name": "python3",
      "display_name": "Python 3"
    },
    "language_info": {
      "name": "python"
    }
  },
  "cells": [
    {
      "cell_type": "markdown",
      "metadata": {
        "id": "view-in-github",
        "colab_type": "text"
      },
      "source": [
        "<a href=\"https://colab.research.google.com/github/kimhwijin/TensorflowWithKeras/blob/master/CNN/Deep_CIFAR_10_Learning.ipynb\" target=\"_parent\"><img src=\"https://colab.research.google.com/assets/colab-badge.svg\" alt=\"Open In Colab\"/></a>"
      ]
    },
    {
      "cell_type": "code",
      "metadata": {
        "id": "joVX_mrBYqJm"
      },
      "source": [
        "import tensorflow as tf\n",
        "from tensorflow.keras import datasets, models, layers, regularizers, optimizers\n",
        "from tensorflow.keras.preprocessing.image import ImageDataGenerator\n",
        "import numpy as np"
      ],
      "execution_count": 1,
      "outputs": []
    },
    {
      "cell_type": "code",
      "metadata": {
        "id": "12dIbFtkY7QL"
      },
      "source": [
        "EPOCHS = 15\n",
        "NUM_CLASSES = 10\n",
        "INPUT_SHAPE = (32, 32, 3)\n",
        "def load_data():\n",
        "  (x_train, y_train), (x_test, y_test) = datasets.cifar10.load_data()\n",
        "  \n",
        "  x_train = x_train.reshape(50000, 32, 32, 3)\n",
        "  x_test = x_test.reshape(10000, 32, 32, 3)\n",
        "  \n",
        "  x_train = x_train.astype('float32')\n",
        "  x_test = x_test.astype('float32')\n",
        "\n",
        "  #regularization\n",
        "\n",
        "  #x_train모든 값의 평균\n",
        "  mean = np.mean(x_train, axis=(0,1,2,3))\n",
        "  std = np.std(x_train, axis=(0,1,2,3))\n",
        "  x_train = (x_train - mean) / (std + 1e-7)\n",
        "  x_test = (x_test - mean) / (std + 1e-7)\n",
        "\n",
        "  y_train = tf.keras.utils.to_categorical(y_train, NUM_CLASSES)\n",
        "  y_test = tf.keras.utils.to_categorical(y_test, NUM_CLASSES)\n",
        "\n",
        "  return (x_train, y_train), (x_test, y_test)"
      ],
      "execution_count": 8,
      "outputs": []
    },
    {
      "cell_type": "code",
      "metadata": {
        "id": "m5YGnU06zoRr"
      },
      "source": [
        "#심층 cnn\n",
        "def build_deep_model(input_shape, num_classes):\n",
        "\n",
        "  model = models.Sequential()\n",
        "  #첫번째 블록\n",
        "  model.add(layers.Convolution2D(32, (3,3), padding='same', input_shape=input_shape,activation='relu'))\n",
        "  model.add(layers.BatchNormalization())\n",
        "  model.add(layers.Convolution2D(32, (3,3), padding='same', activation='relu'))\n",
        "  model.add(layers.BatchNormalization())\n",
        "  model.add(layers.MaxPooling2D(pool_size=(2,2)))\n",
        "  model.add(layers.Dropout(0.2))\n",
        "\n",
        "  model.add(layers.Convolution2D(64, (3,3), padding='same', activation='relu'))\n",
        "  model.add(layers.BatchNormalization())\n",
        "  model.add(layers.Convolution2D(64, (3,3), padding='same', activation='relu'))\n",
        "  model.add(layers.BatchNormalization())\n",
        "  model.add(layers.MaxPooling2D(pool_size=(2,2)))\n",
        "  model.add(layers.Dropout(0.3))\n",
        "\n",
        "  model.add(layers.Convolution2D(128, (3,3), padding='same', activation='relu'))\n",
        "  model.add(layers.BatchNormalization())\n",
        "  model.add(layers.Convolution2D(128, (3,3), padding='same', activation='relu'))\n",
        "  model.add(layers.BatchNormalization())\n",
        "  model.add(layers.MaxPooling2D(pool_size=(2,2)))\n",
        "  model.add(layers.Dropout(0.4))\n",
        "\n",
        "  model.add(layers.Flatten())\n",
        "  model.add(layers.Dense(num_classes, activation='softmax'))\n",
        "\n",
        "  summary = model.summary()\n",
        "  \n",
        "  return model"
      ],
      "execution_count": 7,
      "outputs": []
    },
    {
      "cell_type": "code",
      "metadata": {
        "id": "UJ4l5toAjU-Q"
      },
      "source": [
        "from tensorflow.keras.preprocessing.image import ImageDataGenerator\n",
        "\n",
        "(x_train, y_train), (x_test, y_test) = load_data()\n",
        "#이미지 보강\n",
        "datagen = ImageDataGenerator(\n",
        "    rotation_range = 30, #30도 회전\n",
        "    width_shift_range = 0.2,\n",
        "    height_shift_range = 0.2,\n",
        "    horizontal_flip=True,\n",
        ")\n",
        "datagen.fit(x_train)\n",
        "\n",
        "model = build_deep_model(INPUT_SHAPE, NUM_CLASSES)\n",
        "model.compile(loss='categorical_crossentropy', optimizer='RMSprop', metrics=['accuracy'])"
      ],
      "execution_count": null,
      "outputs": []
    },
    {
      "cell_type": "code",
      "metadata": {
        "id": "BFC4h8L9Z8_u"
      },
      "source": [
        "batch_size = 64\n",
        "model.fit(x_train,y_train, batch_size=batch_size, epochs=EPOCHS, validation_data=(x_test, y_test))\n",
        "\n",
        "model_json = model.to_json()\n",
        "with open('model.json', 'w') as json_file:\n",
        "  json_file.write(model_json)\n",
        "model.save_weights('model.h5')\n",
        "\n",
        "score = model.evaluate(x_test, y_test, batch_size=batch_size)\n",
        "print('\\nTest Score : ',score[0])\n",
        "print('\\nTest Accuracy : ',score[1])"
      ],
      "execution_count": null,
      "outputs": []
    },
    {
      "cell_type": "code",
      "metadata": {
        "id": "2zGKMOpdkACu"
      },
      "source": [
        "#with data generator\n",
        "batch_size = 64\n",
        "model.fit_generator(datagen.flow(x_train,y_train, batch_size=batch_size), epochs=EPOCHS, verbose=1, validation_data=(x_test,y_test))\n",
        "\n",
        "model_json = model.to_json()\n",
        "with open('model.json', 'w') as json_file:\n",
        "  json_file.write(model_json)\n",
        "model.save_weights('model.h5')\n",
        "\n",
        "#test\n",
        "score = model.evaluate(x_test, y_test, batch_size=128, verbose=1)\n",
        "print('\\nTest result: %.3f loss: %.3f ' %(score[1]*100, score[0]))"
      ],
      "execution_count": null,
      "outputs": []
    }
  ]
}