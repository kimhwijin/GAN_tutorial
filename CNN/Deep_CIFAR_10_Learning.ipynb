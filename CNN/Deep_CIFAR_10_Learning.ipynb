{
  "nbformat": 4,
  "nbformat_minor": 0,
  "metadata": {
    "colab": {
      "name": "Deep_CIFAR-10_Learning.ipynb",
      "provenance": [],
      "collapsed_sections": [],
      "authorship_tag": "ABX9TyNgCu9sS98VURslF2bPJTp4",
      "include_colab_link": true
    },
    "kernelspec": {
      "name": "python3",
      "display_name": "Python 3"
    },
    "language_info": {
      "name": "python"
    }
  },
  "cells": [
    {
      "cell_type": "markdown",
      "metadata": {
        "id": "view-in-github",
        "colab_type": "text"
      },
      "source": [
        "<a href=\"https://colab.research.google.com/github/kimhwijin/TensorflowWithKeras/blob/master/CNN/Deep_CIFAR_10_Learning.ipynb\" target=\"_parent\"><img src=\"https://colab.research.google.com/assets/colab-badge.svg\" alt=\"Open In Colab\"/></a>"
      ]
    },
    {
      "cell_type": "code",
      "metadata": {
        "id": "joVX_mrBYqJm"
      },
      "source": [
        "import tensorflow as tf\n",
        "from tensorflow.keras import datasets, models, layers, regularizers, optimizers\n",
        "from tensorflow.keras.preprocessing.image import ImageDataGenerator\n",
        "import numpy as np"
      ],
      "execution_count": 23,
      "outputs": []
    },
    {
      "cell_type": "code",
      "metadata": {
        "id": "12dIbFtkY7QL"
      },
      "source": [
        "EPOCHS = 50\n",
        "NUM_CLASSES = 10\n",
        "INPUT_SHAPE = (32, 32, 3)\n",
        "def load_data():\n",
        "  (x_train, y_train), (x_test, y_test) = datasets.cifar10.load_data()\n",
        "  \n",
        "  x_train = x_train.reshape(50000, 32, 32, 3)\n",
        "  x_test = x_test.reshape(10000, 32, 32, 3)\n",
        "  \n",
        "  x_train = x_train.astype('float32')\n",
        "  x_test = x_test.astype('float32')\n",
        "\n",
        "  #regularization\n",
        "\n",
        "  #x_train모든 값의 평균\n",
        "  mean = np.mean(x_train, axis=(0,1,2,3))\n",
        "  std = np.std(x_train, axis=(0,1,2,3))\n",
        "  x_train = (x_train - mean) / (std + 1e-7)\n",
        "  x_test = (x_test - mean) / (std + 1e-7)\n",
        "\n",
        "  y_train = tf.keras.utils.to_categorical(y_train, NUM_CLASSES)\n",
        "  y_test = tf.keras.utils.to_categorical(y_test, NUM_CLASSES)\n",
        "\n",
        "  return (x_train, y_train), (x_test, y_test)"
      ],
      "execution_count": 26,
      "outputs": []
    },
    {
      "cell_type": "code",
      "metadata": {
        "id": "m5YGnU06zoRr"
      },
      "source": [
        "#심층 cnn\n",
        "def build_deep_model(input_shape, num_classes):\n",
        "\n",
        "  model = models.Sequential()\n",
        "  #첫번째 블록\n",
        "  model.add(layers.Convolution2D(32, (3,3), padding='same', input_shape=input_shape,activation='relu'))\n",
        "  model.add(layers.BatchNormalization())\n",
        "  model.add(layers.Convolution2D(32, (3,3), padding='same', activation='relu'))\n",
        "  model.add(layers.BatchNormalization())\n",
        "  model.add(layers.MaxPooling2D(pool_size=(2,2)))\n",
        "  model.add(layers.Dropout(0.2))\n",
        "\n",
        "  model.add(layers.Convolution2D(64, (3,3), padding='same', activation='relu'))\n",
        "  model.add(layers.BatchNormalization())\n",
        "  model.add(layers.Convolution2D(64, (3,3), padding='same', activation='relu'))\n",
        "  model.add(layers.BatchNormalization())\n",
        "  model.add(layers.MaxPooling2D(pool_size=(2,2)))\n",
        "  model.add(layers.Dropout(0.3))\n",
        "\n",
        "  model.add(layers.Convolution2D(128, (3,3), padding='same', activation='relu'))\n",
        "  model.add(layers.BatchNormalization())\n",
        "  model.add(layers.Convolution2D(128, (3,3), padding='same', activation='relu'))\n",
        "  model.add(layers.BatchNormalization())\n",
        "  model.add(layers.MaxPooling2D(pool_size=(2,2)))\n",
        "  model.add(layers.Dropout(0.4))\n",
        "\n",
        "  model.add(layers.Flatten())\n",
        "  model.add(layers.Dense(num_classes, activation='softmax'))\n",
        "\n",
        "  model.summary()\n",
        "  return model"
      ],
      "execution_count": 27,
      "outputs": []
    },
    {
      "cell_type": "code",
      "metadata": {
        "colab": {
          "base_uri": "https://localhost:8080/"
        },
        "id": "BFC4h8L9Z8_u",
        "outputId": "573fa9eb-626c-4d7e-9db8-91f37beb9c25"
      },
      "source": [
        "(x_train, y_train), (x_test, y_test) = load_data()\n",
        "model = build_deep_model(INPUT_SHAPE, NUM_CLASSES)\n",
        "model.compile(loss='categorical_crossentropy', optimizer='RMSprop', metrics=['accuracy'])\n",
        "\n",
        "batch_size = 64\n",
        "model.fit(x_train,y_train, batch_size=batch_size, epochs=EPOCHS, validation_data=(x_test, y_test))\n",
        "score = model.evaluate(x_test, y_test, batch_size=batch_size)\n",
        "print('\\nTest Score : ',score[0])\n",
        "print('\\nTest Accuracy : ',score[1])"
      ],
      "execution_count": null,
      "outputs": [
        {
          "output_type": "stream",
          "text": [
            "Model: \"sequential_6\"\n",
            "_________________________________________________________________\n",
            "Layer (type)                 Output Shape              Param #   \n",
            "=================================================================\n",
            "conv2d_31 (Conv2D)           (None, 32, 32, 32)        896       \n",
            "_________________________________________________________________\n",
            "batch_normalization_30 (Batc (None, 32, 32, 32)        128       \n",
            "_________________________________________________________________\n",
            "conv2d_32 (Conv2D)           (None, 32, 32, 32)        9248      \n",
            "_________________________________________________________________\n",
            "batch_normalization_31 (Batc (None, 32, 32, 32)        128       \n",
            "_________________________________________________________________\n",
            "max_pooling2d_15 (MaxPooling (None, 16, 16, 32)        0         \n",
            "_________________________________________________________________\n",
            "dropout_15 (Dropout)         (None, 16, 16, 32)        0         \n",
            "_________________________________________________________________\n",
            "conv2d_33 (Conv2D)           (None, 16, 16, 64)        18496     \n",
            "_________________________________________________________________\n",
            "batch_normalization_32 (Batc (None, 16, 16, 64)        256       \n",
            "_________________________________________________________________\n",
            "conv2d_34 (Conv2D)           (None, 16, 16, 64)        36928     \n",
            "_________________________________________________________________\n",
            "batch_normalization_33 (Batc (None, 16, 16, 64)        256       \n",
            "_________________________________________________________________\n",
            "max_pooling2d_16 (MaxPooling (None, 8, 8, 64)          0         \n",
            "_________________________________________________________________\n",
            "dropout_16 (Dropout)         (None, 8, 8, 64)          0         \n",
            "_________________________________________________________________\n",
            "conv2d_35 (Conv2D)           (None, 8, 8, 128)         73856     \n",
            "_________________________________________________________________\n",
            "batch_normalization_34 (Batc (None, 8, 8, 128)         512       \n",
            "_________________________________________________________________\n",
            "conv2d_36 (Conv2D)           (None, 8, 8, 128)         147584    \n",
            "_________________________________________________________________\n",
            "batch_normalization_35 (Batc (None, 8, 8, 128)         512       \n",
            "_________________________________________________________________\n",
            "max_pooling2d_17 (MaxPooling (None, 4, 4, 128)         0         \n",
            "_________________________________________________________________\n",
            "dropout_17 (Dropout)         (None, 4, 4, 128)         0         \n",
            "_________________________________________________________________\n",
            "flatten_5 (Flatten)          (None, 2048)              0         \n",
            "_________________________________________________________________\n",
            "dense_5 (Dense)              (None, 10)                20490     \n",
            "=================================================================\n",
            "Total params: 309,290\n",
            "Trainable params: 308,394\n",
            "Non-trainable params: 896\n",
            "_________________________________________________________________\n",
            "Epoch 1/50\n",
            "782/782 [==============================] - 475s 604ms/step - loss: 1.6979 - accuracy: 0.4887 - val_loss: 1.1786 - val_accuracy: 0.6284\n",
            "Epoch 2/50\n",
            "782/782 [==============================] - 463s 592ms/step - loss: 1.0336 - accuracy: 0.6631 - val_loss: 0.9655 - val_accuracy: 0.6799\n",
            "Epoch 3/50\n",
            "782/782 [==============================] - 466s 596ms/step - loss: 0.8381 - accuracy: 0.7188 - val_loss: 0.8461 - val_accuracy: 0.7298\n",
            "Epoch 4/50\n",
            " 48/782 [>.............................] - ETA: 7:02 - loss: 0.7446 - accuracy: 0.7523"
          ],
          "name": "stdout"
        }
      ]
    }
  ]
}