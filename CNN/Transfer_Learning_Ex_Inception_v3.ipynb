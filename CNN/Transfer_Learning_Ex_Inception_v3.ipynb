{
  "nbformat": 4,
  "nbformat_minor": 0,
  "metadata": {
    "colab": {
      "name": "Transfer_Learning_Ex_Inception-v3.ipynb",
      "provenance": [],
      "collapsed_sections": [],
      "authorship_tag": "ABX9TyPhzQjohAlvsh5Zys0N/BYL",
      "include_colab_link": true
    },
    "kernelspec": {
      "name": "python3",
      "display_name": "Python 3"
    },
    "language_info": {
      "name": "python"
    }
  },
  "cells": [
    {
      "cell_type": "markdown",
      "metadata": {
        "id": "view-in-github",
        "colab_type": "text"
      },
      "source": [
        "<a href=\"https://colab.research.google.com/github/kimhwijin/TensorflowWithKeras/blob/master/CNN/Transfer_Learning_Ex_Inception_v3.ipynb\" target=\"_parent\"><img src=\"https://colab.research.google.com/assets/colab-badge.svg\" alt=\"Open In Colab\"/></a>"
      ]
    },
    {
      "cell_type": "code",
      "metadata": {
        "id": "MJzxnnuOtPtn"
      },
      "source": [
        "import tensorflow as tf\n",
        "from tensorflow.keras.applications.inception_v3 import InceptionV3\n",
        "from tensorflow.keras.preprocessing import image\n",
        "from tensorflow.keras import layers, models\n",
        "#사전에 훈련된 기본 모델\n",
        "base_model = InceptionV3(weights='imagenet', include_top=False)\n",
        "#미세 조정하고자 마지막 완전연결 계층(1024입력의 Dense계층)은 포함하지 않는다.\n",
        "#base_model.summary()"
      ],
      "execution_count": 5,
      "outputs": []
    },
    {
      "cell_type": "code",
      "metadata": {
        "id": "l1M5AwlNtzPx"
      },
      "source": [
        "x = base_model.output\n",
        "# 완전 연결 계층을 첫번째 계층으로 추가한다.\n",
        "x = layers.Dense(1024,activation='relu')(x)\n",
        "#200개 category를 가진 logistic 계층으로 한다.\n",
        "predictions = layers.Dense(200,activation='softmax')(x)\n",
        "\n",
        "#훈련할 모델\n",
        "model = models.Model(inputs=base_model.input, outputs=predictions)"
      ],
      "execution_count": 7,
      "outputs": []
    },
    {
      "cell_type": "code",
      "metadata": {
        "id": "wBsXGEWJvNo7"
      },
      "source": [
        "#inception V3 모델은 훈련 동안 고정한다.\n",
        "for layer in base_model.layers:\n",
        "  layer.trainable = False"
      ],
      "execution_count": 8,
      "outputs": []
    },
    {
      "cell_type": "code",
      "metadata": {
        "id": "qtVX31SWvTTX"
      },
      "source": [
        "#최상위 계층만 훈련한다.\n",
        "model.compile(optimizer='rmsprop', loss='categorical_crossentropy')\n",
        "\n",
        "#몇 개의 에폭 동안 새로운 데이터로 모델 훈련\n",
        "#model.fit_generator()\n"
      ],
      "execution_count": null,
      "outputs": []
    },
    {
      "cell_type": "code",
      "metadata": {
        "id": "0HOV0IhNv7t8"
      },
      "source": [
        "#172번째 부터 training 을 실시함\n",
        "for layer in model.layers[:172]:\n",
        "  layer.trainable = False\n",
        "for layer in model.layers[172:]:\n",
        "  layer.trainable = True\n",
        "#효과적으로 변경하기 위해 모델을 재컴파일\n",
        "from keras.optimizers import SGD\n",
        "model.compile(loss=SGD(lr=0.0001, momentum=0.9), loss='categorical_crossentropy')\n",
        "#모델 다시 훈련\n",
        "# 상위 밀집 계층과 함께"
      ],
      "execution_count": 12,
      "outputs": []
    }
  ]
}