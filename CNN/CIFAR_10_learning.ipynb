{
  "nbformat": 4,
  "nbformat_minor": 0,
  "metadata": {
    "colab": {
      "name": "CIFAR-10_learning.ipynb",
      "provenance": [],
      "collapsed_sections": [],
      "authorship_tag": "ABX9TyPRkBj5lbuwvDDa5Q+vm9/i",
      "include_colab_link": true
    },
    "kernelspec": {
      "name": "python3",
      "display_name": "Python 3"
    },
    "language_info": {
      "name": "python"
    }
  },
  "cells": [
    {
      "cell_type": "markdown",
      "metadata": {
        "id": "view-in-github",
        "colab_type": "text"
      },
      "source": [
        "<a href=\"https://colab.research.google.com/github/kimhwijin/TensorflowWithKeras/blob/master/CNN/CIFAR_10_learning.ipynb\" target=\"_parent\"><img src=\"https://colab.research.google.com/assets/colab-badge.svg\" alt=\"Open In Colab\"/></a>"
      ]
    },
    {
      "cell_type": "code",
      "metadata": {
        "colab": {
          "base_uri": "https://localhost:8080/"
        },
        "id": "rx9LChytG_Fh",
        "outputId": "194d28ab-068c-4a3d-8303-80c9761b8f55"
      },
      "source": [
        "import tensorflow as tf\n",
        "from tensorflow.keras import layers, models, datasets, optimizers\n",
        "\n",
        "#CIFAR-10 : 3채널 , 32 x 32 , 60k 의 이미지\n",
        "IMG_CHANNELS = 3\n",
        "IMG_ROWS = 32\n",
        "IMG_COLS = 32\n",
        "INPUT_SHAPE = (IMG_ROWS, IMG_COLS,IMG_CHANNELS)\n",
        "#상수\n",
        "BATCH_SIZE = 128\n",
        "EPOCHS = 20\n",
        "CLASSES = 10\n",
        "VERBOSE = 1\n",
        "VALIDATION_SPLIT = 0.2\n",
        "OPTIMIZER = optimizers.RMSprop()\n",
        "\n",
        "(x_train, y_train), (x_test, y_test) = datasets.cifar10.load_data()\n",
        "\n",
        "x_train = x_train.reshape(50000, 32, 32, 3)\n",
        "x_test = x_test.reshape(10000, 32, 32, 3)\n",
        "\n",
        "x_train , x_test = x_train/255.0, x_test/255.0\n",
        "\n",
        "x_train = x_train.astype('float32')\n",
        "x_test = x_test.astype('float32')\n",
        "\n",
        "y_train = tf.keras.utils.to_categorical(y_train, CLASSES)\n",
        "y_test = tf.keras.utils.to_categorical(y_test, CLASSES)"
      ],
      "execution_count": 13,
      "outputs": [
        {
          "output_type": "stream",
          "text": [
            "Downloading data from https://www.cs.toronto.edu/~kriz/cifar-10-python.tar.gz\n",
            "170500096/170498071 [==============================] - 4s 0us/step\n"
          ],
          "name": "stdout"
        }
      ]
    },
    {
      "cell_type": "code",
      "metadata": {
        "id": "XYSXd2iaHuAZ"
      },
      "source": [
        "#32개의 3 x 3 CNN filter\n",
        "#출력차원은 입력차원과 동일 32 x 32\n",
        "#activations = relu\n",
        "#MAX풀링크기 : 2 x 2 , 드롭아웃 : 25%\n",
        "\n",
        "#convnet\n",
        "def build(input_shape, classes):\n",
        "  model = models.Sequential()\n",
        "  model.add(layers.Convolution2D(32, (3,3), activation='relu', input_shape=input_shape))\n",
        "  model.add(layers.MaxPooling2D(pool_size=(2,2)))\n",
        "  model.add(layers.Dropout(0.25))\n",
        "\n",
        "  model.add(layers.Flatten())\n",
        "  model.add(layers.Dense(512, activation='relu'))\n",
        "  model.add(layers.Dropout(0.5))\n",
        "  model.add(layers.Dense(classes, activation='softmax'))\n",
        "  return model"
      ],
      "execution_count": 14,
      "outputs": []
    },
    {
      "cell_type": "code",
      "metadata": {
        "colab": {
          "base_uri": "https://localhost:8080/"
        },
        "id": "4jvTyMpmJGoS",
        "outputId": "0c339f08-b69d-492c-e9fe-1a5c9f029831"
      },
      "source": [
        "callbacks = [\n",
        "             tf.keras.callbacks.TensorBoard(log_dir='./CIFAR-10_logs')\n",
        "]\n",
        "\n",
        "\n",
        "model = build(INPUT_SHAPE, CLASSES)\n",
        "#train\n",
        "model.compile(loss='categorical_crossentropy', optimizer=OPTIMIZER, metrics=['accuracy'])\n",
        "model.fit(x_train, y_train, batch_size=BATCH_SIZE, epochs=EPOCHS, validation_split=VALIDATION_SPLIT,verbose=VERBOSE)\n",
        "score = model.evaluate(x_test, y_test, batch_size=BATCH_SIZE, verbose=VERBOSE)\n",
        "print('\\nTEST SCORE : ', score[0])\n",
        "print('ACCURACY : ', score[1])"
      ],
      "execution_count": 16,
      "outputs": [
        {
          "output_type": "stream",
          "text": [
            "Epoch 1/20\n",
            "313/313 [==============================] - 47s 147ms/step - loss: 2.1912 - accuracy: 0.2895 - val_loss: 1.4695 - val_accuracy: 0.4825\n",
            "Epoch 2/20\n",
            "313/313 [==============================] - 45s 145ms/step - loss: 1.4319 - accuracy: 0.4909 - val_loss: 1.3688 - val_accuracy: 0.5190\n",
            "Epoch 3/20\n",
            "313/313 [==============================] - 46s 146ms/step - loss: 1.2934 - accuracy: 0.5480 - val_loss: 1.2247 - val_accuracy: 0.5745\n",
            "Epoch 4/20\n",
            "313/313 [==============================] - 46s 146ms/step - loss: 1.1685 - accuracy: 0.5908 - val_loss: 1.2215 - val_accuracy: 0.5686\n",
            "Epoch 5/20\n",
            "313/313 [==============================] - 46s 147ms/step - loss: 1.0988 - accuracy: 0.6140 - val_loss: 1.1216 - val_accuracy: 0.6122\n",
            "Epoch 6/20\n",
            "313/313 [==============================] - 46s 147ms/step - loss: 1.0491 - accuracy: 0.6322 - val_loss: 1.0607 - val_accuracy: 0.6321\n",
            "Epoch 7/20\n",
            "313/313 [==============================] - 46s 146ms/step - loss: 0.9874 - accuracy: 0.6553 - val_loss: 1.1227 - val_accuracy: 0.6209\n",
            "Epoch 8/20\n",
            "313/313 [==============================] - 46s 147ms/step - loss: 0.9311 - accuracy: 0.6752 - val_loss: 1.0669 - val_accuracy: 0.6338\n",
            "Epoch 9/20\n",
            "313/313 [==============================] - 46s 146ms/step - loss: 0.8943 - accuracy: 0.6871 - val_loss: 1.0304 - val_accuracy: 0.6532\n",
            "Epoch 10/20\n",
            "313/313 [==============================] - 46s 146ms/step - loss: 0.8416 - accuracy: 0.7058 - val_loss: 1.0840 - val_accuracy: 0.6381\n",
            "Epoch 11/20\n",
            "313/313 [==============================] - 46s 146ms/step - loss: 0.8035 - accuracy: 0.7198 - val_loss: 1.0740 - val_accuracy: 0.6409\n",
            "Epoch 12/20\n",
            "313/313 [==============================] - 46s 146ms/step - loss: 0.7721 - accuracy: 0.7318 - val_loss: 1.0577 - val_accuracy: 0.6509\n",
            "Epoch 13/20\n",
            "313/313 [==============================] - 46s 146ms/step - loss: 0.7502 - accuracy: 0.7407 - val_loss: 1.0853 - val_accuracy: 0.6480\n",
            "Epoch 14/20\n",
            "313/313 [==============================] - 46s 146ms/step - loss: 0.7175 - accuracy: 0.7517 - val_loss: 1.0664 - val_accuracy: 0.6448\n",
            "Epoch 15/20\n",
            "313/313 [==============================] - 46s 147ms/step - loss: 0.6832 - accuracy: 0.7635 - val_loss: 0.9830 - val_accuracy: 0.6822\n",
            "Epoch 16/20\n",
            "313/313 [==============================] - 46s 148ms/step - loss: 0.6603 - accuracy: 0.7729 - val_loss: 0.9787 - val_accuracy: 0.6772\n",
            "Epoch 17/20\n",
            "313/313 [==============================] - 45s 145ms/step - loss: 0.6455 - accuracy: 0.7765 - val_loss: 1.0298 - val_accuracy: 0.6733\n",
            "Epoch 18/20\n",
            "313/313 [==============================] - 46s 146ms/step - loss: 0.6124 - accuracy: 0.7891 - val_loss: 1.1556 - val_accuracy: 0.6534\n",
            "Epoch 19/20\n",
            "313/313 [==============================] - 46s 146ms/step - loss: 0.5826 - accuracy: 0.7989 - val_loss: 1.0017 - val_accuracy: 0.6867\n",
            "Epoch 20/20\n",
            "313/313 [==============================] - 46s 146ms/step - loss: 0.5811 - accuracy: 0.8010 - val_loss: 1.0540 - val_accuracy: 0.6788\n",
            "79/79 [==============================] - 2s 31ms/step - loss: 1.0402 - accuracy: 0.6699\n",
            "\n",
            "TEST SCORE :  1.040222406387329\n",
            "ACCURACY :  0.6699000000953674\n"
          ],
          "name": "stdout"
        }
      ]
    }
  ]
}