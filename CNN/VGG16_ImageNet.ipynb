{
  "nbformat": 4,
  "nbformat_minor": 0,
  "metadata": {
    "colab": {
      "name": "VGG16_ImageNet.ipynb",
      "provenance": [],
      "collapsed_sections": [],
      "mount_file_id": "1z-YZIWSuSwj36NxPdwGEbK08lMDrIU57",
      "authorship_tag": "ABX9TyP9jiHsUTuDcJREYym61rRM",
      "include_colab_link": true
    },
    "kernelspec": {
      "name": "python3",
      "display_name": "Python 3"
    },
    "language_info": {
      "name": "python"
    }
  },
  "cells": [
    {
      "cell_type": "markdown",
      "metadata": {
        "id": "view-in-github",
        "colab_type": "text"
      },
      "source": [
        "<a href=\"https://colab.research.google.com/github/kimhwijin/TensorflowWithKeras/blob/master/CNN/VGG16_ImageNet.ipynb\" target=\"_parent\"><img src=\"https://colab.research.google.com/assets/colab-badge.svg\" alt=\"Open In Colab\"/></a>"
      ]
    },
    {
      "cell_type": "code",
      "metadata": {
        "id": "NqoJuYnS5B5o"
      },
      "source": [
        "import tensorflow as tf\n",
        "from tensorflow.keras import layers, models\n",
        "import cv2\n",
        "import numpy as np\n",
        "from tensorflow.keras.applications.vgg16 import VGG16\n",
        "import matplotlib.pyplot as plt"
      ],
      "execution_count": 6,
      "outputs": []
    },
    {
      "cell_type": "code",
      "metadata": {
        "id": "FP9XRXHX6IZw"
      },
      "source": [
        "def build(weights_path=None):\n",
        "  model = models.Sequential()\n",
        "  model.add(layers.ZeroPadding2D(1,1), input_shape=(224,224,3))\n",
        "  model.add(layers.Convolution2D(64, (3,3), activation='relu'))\n",
        "  model.add(layers.ZeroPadding2D(1,1))\n",
        "  model.add(layers.Convolution2D(64, (3,3), activation='relu'))\n",
        "  model.add(layers.MaxPooling2D((2,2), strides=(2,2)))\n",
        "  model.add(layers.ZeroPadding2D(1,1))\n",
        "  model.add(layers.Convolution2D(128, (3,3), activation='relu'))\n",
        "\n",
        "  model.add(layers.ZeroPadding2D(1,1))\n",
        "  model.add(layers.Convolution2D(128, (3,3), activation='relu'))\n",
        "  model.add(layers.MaxPooling2D((2,2), strides=(2,2)))\n",
        "  model.add(layers.ZeroPadding2D(1,1))\n",
        "  model.add(layers.Convolution2D(256, (3,3), activation='relu'))\n",
        "  model.add(layers.ZeroPadding2D(1,1))\n",
        "  model.add(layers.Convolution2D(256, (3,3), activation='relu'))\n",
        "\n",
        "  model.add(layers.ZeroPadding2D(1,1))\n",
        "  model.add(layers.Convolution2D(256, (3,3), activation='relu'))\n",
        "  model.add(layers.MaxPooling2D((2,2), strides=(2,2)))\n",
        "  model.add(layers.ZeroPadding2D(1,1))\n",
        "  model.add(layers.Convolution2D(512, (3,3), activation='relu'))\n",
        "  model.add(layers.ZeroPadding2D(1,1))\n",
        "  model.add(layers.Convolution2D(512, (3,3), activation='relu'))\n",
        "  model.add(layers.ZeroPadding2D(1,1))\n",
        "  model.add(layers.Convolution2D(512, (3,3), activation='relu'))\n",
        "  model.add(layers.MaxPooling2D((2,2), strides=(2,2)))\n",
        "\n",
        "  model.add(layers.ZeroPadding2D(1,1))\n",
        "  model.add(layers.Convolution2D(512, (3,3), activation='relu'))\n",
        "  model.add(layers.ZeroPadding2D(1,1))\n",
        "  model.add(layers.Convolution2D(512, (3,3), activation='relu'))\n",
        "  model.add(layers.ZeroPadding2D(1,1))\n",
        "  model.add(layers.Convolution2D(512, (3,3), activation='relu'))\n",
        "  model.add(layers.MaxPooling2D((2,2), strides=(2,2)))\n",
        "\n",
        "  model.add(layers.Flatten())\n",
        "\n",
        "  #vgg 최상위 계층\n",
        "  model.add(layers.Dense(4096, activation='relu'))\n",
        "  model.add(layers.Dropout(0.5))\n",
        "  model.add(layers.Dense(4096, activation='relu'))\n",
        "  model.add(layers.Dropout(0.5))\n",
        "  model.add(layers.Dense(1000,activation='softmax'))\n",
        "\n",
        "  if weights_path:\n",
        "    model.load_weights(weights_path)\n",
        "  return model"
      ],
      "execution_count": 7,
      "outputs": []
    },
    {
      "cell_type": "code",
      "metadata": {
        "id": "UdEDJ9Y27eaM"
      },
      "source": [
        "drive_dir = 'drive/MyDrive/Colab Notebooks/'\n",
        "#img_dir = drive_dir + '/image_datas/cat285.jpg'\n",
        "img_dir = drive_dir + '/image_datas/train820.jpg'\n",
        "im = cv2.resize(cv2.imread(img_dir), (224,224)).astype(np.float32)\n",
        "im = np.expand_dims(im, axis =0)\n",
        "\n",
        "model = VGG16(weights='imagenet', include_top=True)\n",
        "model.compile(optimizer='sgd', loss='categorical_crossentropy')"
      ],
      "execution_count": 11,
      "outputs": []
    },
    {
      "cell_type": "code",
      "metadata": {
        "colab": {
          "base_uri": "https://localhost:8080/",
          "height": 282
        },
        "id": "qAMTMnMh9ECM",
        "outputId": "b410dd40-15bb-4dbf-ad59-9fe6a8336e8f"
      },
      "source": [
        "out = model.predict(im)\n",
        "index = np.argmax(out)\n",
        "print(index)\n",
        "\n",
        "plt.plot(out.ravel())\n",
        "plt.show()"
      ],
      "execution_count": 12,
      "outputs": [
        {
          "output_type": "stream",
          "text": [
            "820\n"
          ],
          "name": "stdout"
        },
        {
          "output_type": "display_data",
          "data": {
            "image/png": "[encoded data removed]",
            "text/plain": [
              "<Figure size 432x288 with 1 Axes>"
            ]
          },
          "metadata": {
            "tags": [],
            "needs_background": "light"
          }
        }
      ]
    }
  ]
}