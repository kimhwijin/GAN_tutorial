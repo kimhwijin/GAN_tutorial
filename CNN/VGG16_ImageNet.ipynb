{
  "nbformat": 4,
  "nbformat_minor": 0,
  "metadata": {
    "colab": {
      "name": "VGG16_ImageNet.ipynb",
      "provenance": [],
      "collapsed_sections": [],
      "mount_file_id": "1z-YZIWSuSwj36NxPdwGEbK08lMDrIU57",
      "authorship_tag": "ABX9TyNIQf6r1yCm86a9IV5M0P/2",
      "include_colab_link": true
    },
    "kernelspec": {
      "name": "python3",
      "display_name": "Python 3"
    },
    "language_info": {
      "name": "python"
    }
  },
  "cells": [
    {
      "cell_type": "markdown",
      "metadata": {
        "id": "view-in-github",
        "colab_type": "text"
      },
      "source": [
        "<a href=\"https://colab.research.google.com/github/kimhwijin/TensorflowWithKeras/blob/master/CNN/VGG16_ImageNet.ipynb\" target=\"_parent\"><img src=\"https://colab.research.google.com/assets/colab-badge.svg\" alt=\"Open In Colab\"/></a>"
      ]
    },
    {
      "cell_type": "code",
      "metadata": {
        "id": "NqoJuYnS5B5o"
      },
      "source": [
        "import tensorflow as tf\n",
        "from tensorflow.keras import layers, models\n",
        "import cv2\n",
        "import numpy as np\n",
        "from tensorflow.keras.applications.vgg16 import VGG16\n",
        "import matplotlib.pyplot as plt"
      ],
      "execution_count": 6,
      "outputs": []
    },
    {
      "cell_type": "code",
      "metadata": {
        "id": "FP9XRXHX6IZw"
      },
      "source": [
        "def build(weights_path=None):\n",
        "  model = models.Sequential()\n",
        "  model.add(layers.ZeroPadding2D(1,1), input_shape=(224,224,3))\n",
        "  model.add(layers.Convolution2D(64, (3,3), activation='relu'))\n",
        "  model.add(layers.ZeroPadding2D(1,1))\n",
        "  model.add(layers.Convolution2D(64, (3,3), activation='relu'))\n",
        "  model.add(layers.MaxPooling2D((2,2), strides=(2,2)))\n",
        "  model.add(layers.ZeroPadding2D(1,1))\n",
        "  model.add(layers.Convolution2D(128, (3,3), activation='relu'))\n",
        "\n",
        "  model.add(layers.ZeroPadding2D(1,1))\n",
        "  model.add(layers.Convolution2D(128, (3,3), activation='relu'))\n",
        "  model.add(layers.MaxPooling2D((2,2), strides=(2,2)))\n",
        "  model.add(layers.ZeroPadding2D(1,1))\n",
        "  model.add(layers.Convolution2D(256, (3,3), activation='relu'))\n",
        "  model.add(layers.ZeroPadding2D(1,1))\n",
        "  model.add(layers.Convolution2D(256, (3,3), activation='relu'))\n",
        "\n",
        "  model.add(layers.ZeroPadding2D(1,1))\n",
        "  model.add(layers.Convolution2D(256, (3,3), activation='relu'))\n",
        "  model.add(layers.MaxPooling2D((2,2), strides=(2,2)))\n",
        "  model.add(layers.ZeroPadding2D(1,1))\n",
        "  model.add(layers.Convolution2D(512, (3,3), activation='relu'))\n",
        "  model.add(layers.ZeroPadding2D(1,1))\n",
        "  model.add(layers.Convolution2D(512, (3,3), activation='relu'))\n",
        "  model.add(layers.ZeroPadding2D(1,1))\n",
        "  model.add(layers.Convolution2D(512, (3,3), activation='relu'))\n",
        "  model.add(layers.MaxPooling2D((2,2), strides=(2,2)))\n",
        "\n",
        "  model.add(layers.ZeroPadding2D(1,1))\n",
        "  model.add(layers.Convolution2D(512, (3,3), activation='relu'))\n",
        "  model.add(layers.ZeroPadding2D(1,1))\n",
        "  model.add(layers.Convolution2D(512, (3,3), activation='relu'))\n",
        "  model.add(layers.ZeroPadding2D(1,1))\n",
        "  model.add(layers.Convolution2D(512, (3,3), activation='relu'))\n",
        "  model.add(layers.MaxPooling2D((2,2), strides=(2,2)))\n",
        "\n",
        "  model.add(layers.Flatten())\n",
        "\n",
        "  #vgg 최상위 계층\n",
        "  model.add(layers.Dense(4096, activation='relu'))\n",
        "  model.add(layers.Dropout(0.5))\n",
        "  model.add(layers.Dense(4096, activation='relu'))\n",
        "  model.add(layers.Dropout(0.5))\n",
        "  model.add(layers.Dense(1000,activation='softmax'))\n",
        "\n",
        "  if weights_path:\n",
        "    model.load_weights(weights_path)\n",
        "  return model"
      ],
      "execution_count": 7,
      "outputs": []
    },
    {
      "cell_type": "code",
      "metadata": {
        "id": "UdEDJ9Y27eaM"
      },
      "source": [
        "drive_dir = 'drive/MyDrive/Colab Notebooks/'\n",
        "#img_dir = drive_dir + '/image_datas/cat285.jpg'\n",
        "#img_dir = drive_dir + '/image_datas/train820.jpg'\n",
        "img_dir = drive_dir + '/image_datas/cat285.jpg'\n",
        "im = cv2.resize(cv2.imread(img_dir), (224,224)).astype(np.float32)\n",
        "im = np.expand_dims(im, axis =0)\n",
        "\n",
        "model = VGG16(weights='imagenet', include_top=True)\n",
        "model.compile(optimizer='sgd', loss='categorical_crossentropy')"
      ],
      "execution_count": 16,
      "outputs": []
    },
    {
      "cell_type": "code",
      "metadata": {
        "colab": {
          "base_uri": "https://localhost:8080/",
          "height": 282
        },
        "id": "qAMTMnMh9ECM",
        "outputId": "5542c1bf-051a-412b-eb42-2e4f56668b93"
      },
      "source": [
        "out = model.predict(im)\n",
        "index = np.argmax(out)\n",
        "print(index)\n",
        "\n",
        "plt.plot(out.ravel())\n",
        "plt.show()"
      ],
      "execution_count": 14,
      "outputs": [
        {
          "output_type": "stream",
          "text": [
            "464\n"
          ],
          "name": "stdout"
        },
        {
          "output_type": "display_data",
          "data": {
            "image/png": "[encoded data removed]",
            "text/plain": [
              "<Figure size 432x288 with 1 Axes>"
            ]
          },
          "metadata": {
            "tags": [],
            "needs_background": "light"
          }
        }
      ]
    },
    {
      "cell_type": "code",
      "metadata": {
        "colab": {
          "base_uri": "https://localhost:8080/"
        },
        "id": "HtVT5-oz_rtc",
        "outputId": "0259135d-3b6f-438c-9322-63d3ccbd4a83"
      },
      "source": [
        "from tensorflow.keras.preprocessing import image\n",
        "from tensorflow.keras.applications.vgg16 import preprocess_input\n",
        "\n",
        "#모델 재활용\n",
        "base_model = VGG16(weights='imagenet', include_top=True)\n",
        "print(base_model)\n",
        "for i , layer in enumerate(base_model.layers):\n",
        "  print(i, layer.name, layer.output_shape)\n"
      ],
      "execution_count": 17,
      "outputs": [
        {
          "output_type": "stream",
          "text": [
            "<tensorflow.python.keras.engine.functional.Functional object at 0x7f70ed88f350>\n",
            "0 input_7 [(None, 224, 224, 3)]\n",
            "1 block1_conv1 (None, 224, 224, 64)\n",
            "2 block1_conv2 (None, 224, 224, 64)\n",
            "3 block1_pool (None, 112, 112, 64)\n",
            "4 block2_conv1 (None, 112, 112, 128)\n",
            "5 block2_conv2 (None, 112, 112, 128)\n",
            "6 block2_pool (None, 56, 56, 128)\n",
            "7 block3_conv1 (None, 56, 56, 256)\n",
            "8 block3_conv2 (None, 56, 56, 256)\n",
            "9 block3_conv3 (None, 56, 56, 256)\n",
            "10 block3_pool (None, 28, 28, 256)\n",
            "11 block4_conv1 (None, 28, 28, 512)\n",
            "12 block4_conv2 (None, 28, 28, 512)\n",
            "13 block4_conv3 (None, 28, 28, 512)\n",
            "14 block4_pool (None, 14, 14, 512)\n",
            "15 block5_conv1 (None, 14, 14, 512)\n",
            "16 block5_conv2 (None, 14, 14, 512)\n",
            "17 block5_conv3 (None, 14, 14, 512)\n",
            "18 block5_pool (None, 7, 7, 512)\n",
            "19 flatten (None, 25088)\n",
            "20 fc1 (None, 4096)\n",
            "21 fc2 (None, 4096)\n",
            "22 predictions (None, 1000)\n"
          ],
          "name": "stdout"
        }
      ]
    },
    {
      "cell_type": "code",
      "metadata": {
        "colab": {
          "base_uri": "https://localhost:8080/"
        },
        "id": "F07f3oYGAORK",
        "outputId": "04def6ec-f7d2-4c8d-fa9f-69b45307e962"
      },
      "source": [
        "#block4_pool 블록에서 feature 추출\n",
        "model = models.Model(inputs=base_model.input,outputs=base_model.get_layer('block4_pool').output)\n",
        "img_path = img_dir\n",
        "img = image.load_img(img_path, target_size=(224,224))\n",
        "x = image.img_to_array(img)\n",
        "x = np.expand_dims(x, axis=0)\n",
        "x = preprocess_input(x)\n",
        "\n",
        "#이블록에서 feature 가져오기\n",
        "features = model.predict(x)\n",
        "print(features)\n"
      ],
      "execution_count": 18,
      "outputs": [
        {
          "output_type": "stream",
          "text": [
            "[[[[  0.          0.         39.35796   ...   0.         16.966978\n",
            "      0.       ]\n",
            "   [  0.          0.          0.        ...   0.        113.09012\n",
            "      0.       ]\n",
            "   [  0.          0.          0.        ...   0.         37.012146\n",
            "      0.       ]\n",
            "   ...\n",
            "   [  0.          0.          0.        ...   0.        326.4104\n",
            "      0.       ]\n",
            "   [  0.          0.         64.13715   ...   0.        493.87878\n",
            "      0.       ]\n",
            "   [  0.          0.        108.555435  ...   0.        229.08469\n",
            "      0.       ]]\n",
            "\n",
            "  [[  0.          0.         45.328106  ...   0.         70.422905\n",
            "      0.       ]\n",
            "   [  0.          0.          0.        ...   0.        102.91939\n",
            "      0.       ]\n",
            "   [  0.          0.          0.        ...   0.         47.795708\n",
            "      0.       ]\n",
            "   ...\n",
            "   [  0.          0.        165.1672    ...   0.          0.\n",
            "      0.       ]\n",
            "   [  0.          0.          0.        ...   0.        460.68292\n",
            "      0.       ]\n",
            "   [  0.          0.        223.93097   ...   0.        617.19006\n",
            "      0.       ]]\n",
            "\n",
            "  [[  0.          0.          8.129662  ...   0.         57.6461\n",
            "      0.       ]\n",
            "   [  0.          0.          0.        ...   0.         76.528915\n",
            "      0.       ]\n",
            "   [  0.          0.          0.        ...   0.         71.07835\n",
            "      0.       ]\n",
            "   ...\n",
            "   [  2.1457796   0.          0.        ...   0.          0.\n",
            "    821.61035  ]\n",
            "   [  0.          0.          0.        ...   0.        288.9618\n",
            "      0.       ]\n",
            "   [  0.          0.         92.03051   ...   0.        711.0708\n",
            "      0.       ]]\n",
            "\n",
            "  ...\n",
            "\n",
            "  [[  0.          0.         40.615288  ...   0.         80.77956\n",
            "      0.       ]\n",
            "   [  0.          0.          0.        ...   0.        198.74686\n",
            "      0.       ]\n",
            "   [  0.          0.          0.        ...   0.          0.\n",
            "      0.       ]\n",
            "   ...\n",
            "   [  0.          0.          0.        ...   0.         50.391247\n",
            "    251.16795  ]\n",
            "   [  0.          0.         68.264595  ...   0.          0.\n",
            "    370.1204   ]\n",
            "   [  0.          0.          0.        ...   0.        801.7696\n",
            "      0.       ]]\n",
            "\n",
            "  [[  0.          0.          0.        ...   0.          0.\n",
            "      0.       ]\n",
            "   [595.00665   190.66406   699.84985   ...   0.          0.\n",
            "      0.       ]\n",
            "   [847.34814     0.        658.3763    ... 303.17545     0.\n",
            "      8.237867 ]\n",
            "   ...\n",
            "   [324.4935      0.         59.086494  ...   0.          0.\n",
            "      0.       ]\n",
            "   [495.7991    174.05872     0.        ...   0.          0.\n",
            "    446.53354  ]\n",
            "   [  0.          0.        225.53479   ...   0.        194.86508\n",
            "      0.       ]]\n",
            "\n",
            "  [[  0.          0.        508.52478   ...  96.4047      0.\n",
            "      0.       ]\n",
            "   [224.5798      0.         80.881454  ...   0.          0.\n",
            "      0.       ]\n",
            "   [179.6035      0.        159.69307   ...  60.43453     0.\n",
            "      0.       ]\n",
            "   ...\n",
            "   [  0.          0.        421.4047    ...   0.          0.\n",
            "      0.       ]\n",
            "   [300.20435     0.          0.        ...   0.          0.\n",
            "      0.       ]\n",
            "   [ 87.27993     2.0426168 640.63635   ...  42.25783   101.749535\n",
            "      0.       ]]]]\n"
          ],
          "name": "stdout"
        }
      ]
    }
  ]
}