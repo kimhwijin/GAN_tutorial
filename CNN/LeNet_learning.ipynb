{
  "nbformat": 4,
  "nbformat_minor": 0,
  "metadata": {
    "colab": {
      "name": "LeNet_learning.ipynb",
      "provenance": [],
      "collapsed_sections": [],
      "mount_file_id": "1JqiJ59OLWRJhpDsZjerElLKQonA7QDLl",
      "authorship_tag": "ABX9TyOX9F5zTdes/xCbEfSFxQKl",
      "include_colab_link": true
    },
    "kernelspec": {
      "name": "python3",
      "display_name": "Python 3"
    },
    "language_info": {
      "name": "python"
    }
  },
  "cells": [
    {
      "cell_type": "markdown",
      "metadata": {
        "id": "view-in-github",
        "colab_type": "text"
      },
      "source": [
        "<a href=\"https://colab.research.google.com/github/kimhwijin/TensorflowWithKeras/blob/master/CNN/LeNet_learning.ipynb\" target=\"_parent\"><img src=\"https://colab.research.google.com/assets/colab-badge.svg\" alt=\"Open In Colab\"/></a>"
      ]
    },
    {
      "cell_type": "code",
      "metadata": {
        "id": "uae5spAv9B3m"
      },
      "source": [
        "'''\n",
        "#ConvNet example\n",
        "#32개의 병렬 특징, 3 x 3 필터 크기, 28 x 28의 입력 데이터\n",
        "import tensorflow as tf\n",
        "model = tf.keras.models.Sequential()\n",
        "model.add(tf.keras.layers.Conv2D(32, (3,3), activation='relu', input_shape=(28,28,1)))\n",
        "#28 x 28 이미지에, 3 x 3 컨볼루션을 통해, 32개의 출력 체널을 생성한다.\n",
        "'''"
      ],
      "execution_count": 2,
      "outputs": []
    },
    {
      "cell_type": "code",
      "metadata": {
        "id": "suI6U6Oa_Gm9"
      },
      "source": [
        "import tensorflow as tf\n",
        "from tensorflow import keras\n",
        "\n",
        "EPOCHS = 10\n",
        "BATCH_SIZE = 128\n",
        "VERBOSE = 1\n",
        "OPTIMIZER = keras.optimizers.Adam()\n",
        "VALIDATION_SPLIT = 0.95\n",
        "\n",
        "IMG_ROWS , IMG_COLS = 28, 28\n",
        "INPUT_SHAPE = (IMG_ROWS, IMG_COLS, 1)\n",
        "NB_CLASSES = 10"
      ],
      "execution_count": 14,
      "outputs": []
    },
    {
      "cell_type": "code",
      "metadata": {
        "id": "-Amc7oowAjxW"
      },
      "source": [
        "#conv net 정의\n",
        "def build(input_shape, classes):\n",
        "  model = keras.models.Sequential()\n",
        "  #CONV -> RELU -> POOL\n",
        "  #신경망에서 5 x 5 크기의 20개의 컨볼류션 필터를 학습한다.\n",
        "  #Convolution2D 는 파이프라인 첫단계이므로 input_shape를 정의해야한다.\n",
        "  model.add(keras.layers.Convolution2D(20, (5,5), activation='relu',input_shape=input_shape))\n",
        "  model.add(keras.layers.MaxPooling2D(pool_size=(2,2), strides=(2,2)))\n",
        "\n",
        "  #conv => relu => pool\n",
        "  model.add(keras.layers.Convolution2D(50, (5,5), activation='relu'))\n",
        "  model.add(keras.layers.MaxPooling2D(pool_size=(2,2), strides=(2,2)))\n",
        "\n",
        "  #Flatten -> relu layers\n",
        "  model.add(keras.layers.Flatten())\n",
        "  model.add(keras.layers.Dense(500, activation='relu'))\n",
        "\n",
        "  #soft max classifier\n",
        "  model.add(keras.layers.Dense(classes, activation='softmax'))\n",
        "  return model\n",
        "\n",
        "# 28 x 28 x 1 : input -> "
      ],
      "execution_count": 15,
      "outputs": []
    },
    {
      "cell_type": "code",
      "metadata": {
        "colab": {
          "base_uri": "https://localhost:8080/"
        },
        "id": "i6Co0Zd1C3wP",
        "outputId": "0bc1538a-49da-45a2-82db-49f77c814abf"
      },
      "source": [
        "#data load\n",
        "(x_train, y_train), (x_test, y_test) = keras.datasets.mnist.load_data()\n",
        "\n",
        "#크기 조정\n",
        "x_train = x_train.reshape(60000, 28, 28, 1)\n",
        "x_test = x_test.reshape(10000, 28, 28, 1)\n",
        "\n",
        "#정규화\n",
        "x_train, x_test = x_train/255.0, x_test/255.0\n",
        "\n",
        "#형식 변환\n",
        "x_train = x_train.astype('float32')\n",
        "x_test = x_test.astype('float32')\n",
        "\n",
        "#부류 벡터를 이진 부류 벡터로 변환\n",
        "y_train = keras.utils.to_categorical(y_train, NB_CLASSES)\n",
        "y_test = keras.utils.to_categorical(y_test, NB_CLASSES)\n",
        "\n",
        "#최적화기와 모델 초기화\n",
        "model = build(input_shape=INPUT_SHAPE, classes=NB_CLASSES)\n",
        "model.compile(loss='categorical_crossentropy', optimizer=OPTIMIZER, metrics=['accuracy'])\n",
        "model.summary()\n",
        "\n",
        "#텐서보드 사용\n",
        "callbacks = [\n",
        "             #텐서보드 로그를 './logs' 디렉터리에 작성\n",
        "             keras.callbacks.TensorBoard(log_dir='./logs')\n",
        "]\n",
        "\n",
        "#적합화\n",
        "history = model.fit(x_train, y_train,batch_size=BATCH_SIZE, epochs=EPOCHS, verbose=VERBOSE,callbacks=callbacks,validation_split=VALIDATION_SPLIT)\n",
        "score = model.evaluate(x_test, y_test, verbose=VERBOSE)\n",
        "print(\"\\nTEST SCORE : \", score[0])\n",
        "print(\"TEST ACCURACY : \", score[1])"
      ],
      "execution_count": 16,
      "outputs": [
        {
          "output_type": "stream",
          "text": [
            "Model: \"sequential_6\"\n",
            "_________________________________________________________________\n",
            "Layer (type)                 Output Shape              Param #   \n",
            "=================================================================\n",
            "conv2d_9 (Conv2D)            (None, 24, 24, 20)        520       \n",
            "_________________________________________________________________\n",
            "max_pooling2d_7 (MaxPooling2 (None, 12, 12, 20)        0         \n",
            "_________________________________________________________________\n",
            "conv2d_10 (Conv2D)           (None, 8, 8, 50)          25050     \n",
            "_________________________________________________________________\n",
            "max_pooling2d_8 (MaxPooling2 (None, 4, 4, 50)          0         \n",
            "_________________________________________________________________\n",
            "flatten_3 (Flatten)          (None, 800)               0         \n",
            "_________________________________________________________________\n",
            "dense_5 (Dense)              (None, 500)               400500    \n",
            "_________________________________________________________________\n",
            "dense_6 (Dense)              (None, 10)                5010      \n",
            "=================================================================\n",
            "Total params: 431,080\n",
            "Trainable params: 431,080\n",
            "Non-trainable params: 0\n",
            "_________________________________________________________________\n",
            "Epoch 1/10\n",
            "24/24 [==============================] - 13s 551ms/step - loss: 1.6931 - accuracy: 0.4966 - val_loss: 0.4566 - val_accuracy: 0.8582\n",
            "Epoch 2/10\n",
            "24/24 [==============================] - 12s 537ms/step - loss: 0.3762 - accuracy: 0.8820 - val_loss: 0.3191 - val_accuracy: 0.9015\n",
            "Epoch 3/10\n",
            "24/24 [==============================] - 12s 539ms/step - loss: 0.2313 - accuracy: 0.9347 - val_loss: 0.2153 - val_accuracy: 0.9333\n",
            "Epoch 4/10\n",
            "24/24 [==============================] - 13s 540ms/step - loss: 0.1512 - accuracy: 0.9570 - val_loss: 0.1916 - val_accuracy: 0.9393\n",
            "Epoch 5/10\n",
            "24/24 [==============================] - 13s 541ms/step - loss: 0.1232 - accuracy: 0.9654 - val_loss: 0.1613 - val_accuracy: 0.9498\n",
            "Epoch 6/10\n",
            "24/24 [==============================] - 13s 540ms/step - loss: 0.0953 - accuracy: 0.9773 - val_loss: 0.1545 - val_accuracy: 0.9522\n",
            "Epoch 7/10\n",
            "24/24 [==============================] - 12s 539ms/step - loss: 0.0756 - accuracy: 0.9806 - val_loss: 0.1224 - val_accuracy: 0.9620\n",
            "Epoch 8/10\n",
            "24/24 [==============================] - 12s 537ms/step - loss: 0.0528 - accuracy: 0.9898 - val_loss: 0.1387 - val_accuracy: 0.9566\n",
            "Epoch 9/10\n",
            "24/24 [==============================] - 12s 537ms/step - loss: 0.0500 - accuracy: 0.9874 - val_loss: 0.1236 - val_accuracy: 0.9610\n",
            "Epoch 10/10\n",
            "24/24 [==============================] - 12s 536ms/step - loss: 0.0450 - accuracy: 0.9903 - val_loss: 0.1132 - val_accuracy: 0.9661\n",
            "313/313 [==============================] - 3s 8ms/step - loss: 0.0902 - accuracy: 0.9723\n",
            "\n",
            "TEST SCORE :  0.09015123546123505\n",
            "TEST ACCURACY :  0.9722999930381775\n"
          ],
          "name": "stdout"
        }
      ]
    },
    {
      "cell_type": "code",
      "metadata": {
        "colab": {
          "base_uri": "https://localhost:8080/"
        },
        "id": "DDt0vj4PF3vu",
        "outputId": "d345875c-6256-4359-ead1-0f7ddd90bdfc"
      },
      "source": [
        "from google.colab import drive\n",
        "drive.mount('/content/drive')"
      ],
      "execution_count": 17,
      "outputs": [
        {
          "output_type": "stream",
          "text": [
            "Drive already mounted at /content/drive; to attempt to forcibly remount, call drive.mount(\"/content/drive\", force_remount=True).\n"
          ],
          "name": "stdout"
        }
      ]
    }
  ]
}