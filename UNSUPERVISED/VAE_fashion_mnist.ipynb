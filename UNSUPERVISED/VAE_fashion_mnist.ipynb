{
  "nbformat": 4,
  "nbformat_minor": 0,
  "metadata": {
    "colab": {
      "name": "VAE_fashion_mnist.ipynb",
      "provenance": [],
      "collapsed_sections": [],
      "authorship_tag": "ABX9TyPWD9CLVctLN/xzJ+H6vB6O",
      "include_colab_link": true
    },
    "kernelspec": {
      "name": "python3",
      "display_name": "Python 3"
    },
    "language_info": {
      "name": "python"
    },
    "accelerator": "TPU"
  },
  "cells": [
    {
      "cell_type": "markdown",
      "metadata": {
        "id": "view-in-github",
        "colab_type": "text"
      },
      "source": [
        "<a href=\"https://colab.research.google.com/github/kimhwijin/TensorflowWithKeras/blob/master/UNSUPERVISED/VAE_fashion_mnist.ipynb\" target=\"_parent\"><img src=\"https://colab.research.google.com/assets/colab-badge.svg\" alt=\"Open In Colab\"/></a>"
      ]
    },
    {
      "cell_type": "code",
      "metadata": {
        "id": "ZC4VBVze_lBK"
      },
      "source": [
        "import tensorflow as tf\n",
        "import numpy as np\n",
        "from matplotlib import pyplot as plt\n",
        "from    PIL import Image"
      ],
      "execution_count": 23,
      "outputs": []
    },
    {
      "cell_type": "code",
      "metadata": {
        "id": "NCSiLqhnBRDr"
      },
      "source": [
        "np.random.seed(11)\n",
        "tf.random.set_seed(11)"
      ],
      "execution_count": 24,
      "outputs": []
    },
    {
      "cell_type": "code",
      "metadata": {
        "colab": {
          "base_uri": "https://localhost:8080/"
        },
        "id": "K2RBXKejBVKs",
        "outputId": "7c4c3d3b-de96-47d1-e2a0-5e01ff54fbef"
      },
      "source": [
        "(x_train, y_train), (x_test, y_test) = tf.keras.datasets.fashion_mnist.load_data()\n",
        "x_train, x_test = x_train.astype(np.float32) / 255.0 , x_test.astype(np.float32) / 255.0\n",
        "print(x_train.shape, y_train.shape)\n",
        "print(x_test.shape, y_test.shape)\n",
        "\n",
        "#이미지 변수\n",
        "new_im = Image.new('L', (280, 280))"
      ],
      "execution_count": 25,
      "outputs": [
        {
          "output_type": "stream",
          "text": [
            "(60000, 28, 28) (60000,)\n",
            "(10000, 28, 28) (10000,)\n"
          ],
          "name": "stdout"
        }
      ]
    },
    {
      "cell_type": "code",
      "metadata": {
        "colab": {
          "base_uri": "https://localhost:8080/",
          "height": 118
        },
        "id": "XCw8ZkABBo0J",
        "outputId": "680aa415-95b5-4a5b-9f7b-94c5a1b7e0e0"
      },
      "source": [
        "#데이터셋의 샘플 사진\n",
        "number = 10\n",
        "plt.figure(figsize=(20,4))\n",
        "for index in range(number):\n",
        "    ax = plt.subplot(2, number, index + 1)\n",
        "    plt.imshow(x_train[index], cmap='gray')\n",
        "plt.show()"
      ],
      "execution_count": 26,
      "outputs": [
        {
          "output_type": "display_data",
          "data": {
            "image/png": "[encoded data removed]",
            "text/plain": [
              "<Figure size 1440x288 with 10 Axes>"
            ]
          },
          "metadata": {
            "tags": [],
            "needs_background": "light"
          }
        }
      ]
    },
    {
      "cell_type": "code",
      "metadata": {
        "id": "ONKJqMz8B4XU"
      },
      "source": [
        "#하이퍼 파라미터\n",
        "image_size = 28*28\n",
        "h_dim = 512\n",
        "z_dim = 10\n",
        "num_epochs = 80\n",
        "batch_size = 100\n",
        "learning_rate = 1e-3"
      ],
      "execution_count": 27,
      "outputs": []
    },
    {
      "cell_type": "code",
      "metadata": {
        "id": "4kBeOaxcCGzd"
      },
      "source": [
        "#VAE model class\n",
        "\n",
        "class VAE(tf.keras.Model):\n",
        "    \"\"\"\n",
        "    Encoder : input x 에서 아직 모르는 z 에 관해 E(z)_평균, log(V(z))_로그분산을 생성한다.\n",
        "    Sampler : 생성한 평균과 분산을 통해서, 가우시안 분포를 따르는 잠재 변수 z를 샘플링한다.\n",
        "    Decoder : z를 통해 x_hat 을 reconstruction 한다.\n",
        "    \n",
        "    Sampling Trick : 임의로 Sampling 할경우, z를 통해 h_hat을 생성하고, loss 를 통해서 역전파를 실시해야하는데, Sampling의 경우 불가능하다.\n",
        "    따라서, Sampling 할때 특정 식을 통해서 분포 z를 생성한다.\n",
        "    z = E(z) + ϵ * sqrt(V(z)) (ϵ : 0,1 의 정규분포)\n",
        "​\n",
        "    \"\"\"\n",
        "    def __init__(self):\n",
        "        super(VAE, self).__init__()\n",
        "\n",
        "        # input => h\n",
        "        self.fc1 = tf.keras.layers.Dense(h_dim)\n",
        "        # h => mu and variance\n",
        "        #히든 레이어에서 기대값(평균값)과 log(분산)을 구하는 layer\n",
        "        self.fc2 = tf.keras.layers.Dense(z_dim)\n",
        "        self.fc3 = tf.keras.layers.Dense(z_dim)\n",
        "\n",
        "        # sampled z => h\n",
        "        self.fc4 = tf.keras.layers.Dense(h_dim)\n",
        "        # h => image\n",
        "        self.fc5 = tf.keras.layers.Dense(image_size)\n",
        "\n",
        "\n",
        "    def encode(self, x):\n",
        "        h = tf.nn.relu(self.fc1(x))\n",
        "        # mu, log_variance\n",
        "        return self.fc2(h), self.fc3(h)\n",
        "\n",
        "    def reparameterize(self, mu, log_var):\n",
        "        \"\"\"\n",
        "        reparametrize trick\n",
        "        :param mu:\n",
        "        :param log_var:\n",
        "        :return:\n",
        "        \"\"\"\n",
        "\n",
        "        std = tf.exp(log_var * 0.5)\n",
        "        #엡실론\n",
        "        eps = tf.random.normal(std.shape)\n",
        "        return mu + eps * std\n",
        "\n",
        "    def decode_logits(self, z):\n",
        "        h = tf.nn.relu(self.fc4(z))\n",
        "        return self.fc5(h)\n",
        "\n",
        "    def decode(self, z):\n",
        "        return tf.nn.sigmoid(self.decode_logits(z))\n",
        "\n",
        "    def call(self, inputs, training=None, mask=None):\n",
        "        # encoder\n",
        "        mu, log_var = self.encode(inputs)\n",
        "        # sample\n",
        "        z = self.reparameterize(mu, log_var)\n",
        "        # decode\n",
        "        x_reconstructed_logits = self.decode_logits(z)\n",
        "\n",
        "        return x_reconstructed_logits, mu, log_var"
      ],
      "execution_count": 28,
      "outputs": []
    },
    {
      "cell_type": "code",
      "metadata": {
        "colab": {
          "base_uri": "https://localhost:8080/"
        },
        "id": "frQWX4VjEfXM",
        "outputId": "5e9472a0-5c89-49dc-a867-2a273812e01e"
      },
      "source": [
        "model = VAE()\n",
        "model.build(input_shape=(4, image_size))\n",
        "model.summary()\n",
        "optimizer = tf.keras.optimizers.Adam(learning_rate)"
      ],
      "execution_count": 29,
      "outputs": [
        {
          "output_type": "stream",
          "text": [
            "Model: \"vae_4\"\n",
            "_________________________________________________________________\n",
            "Layer (type)                 Output Shape              Param #   \n",
            "=================================================================\n",
            "dense_10 (Dense)             multiple                  401920    \n",
            "_________________________________________________________________\n",
            "dense_11 (Dense)             multiple                  5130      \n",
            "_________________________________________________________________\n",
            "dense_12 (Dense)             multiple                  5130      \n",
            "_________________________________________________________________\n",
            "dense_13 (Dense)             multiple                  5632      \n",
            "_________________________________________________________________\n",
            "dense_14 (Dense)             multiple                  402192    \n",
            "=================================================================\n",
            "Total params: 820,004\n",
            "Trainable params: 820,004\n",
            "Non-trainable params: 0\n",
            "_________________________________________________________________\n"
          ],
          "name": "stdout"
        }
      ]
    },
    {
      "cell_type": "code",
      "metadata": {
        "id": "FeNOU0F3EvKs"
      },
      "source": [
        "dataset = tf.data.Dataset.from_tensor_slices(x_train)\n",
        "dataset = dataset.shuffle(batch_size * 5).batch(batch_size)\n",
        "\n",
        "num_batches = x_train.shape[0] // batch_size\n",
        "\n",
        "for epoch in range(num_epochs):\n",
        "\n",
        "    for step, x in enumerate(dataset):\n",
        "\n",
        "        x = tf.reshape(x, [-1, image_size])\n",
        "\n",
        "        with tf.GradientTape() as tape:\n",
        "\n",
        "            # Forward pass\n",
        "            x_reconstruction_logits, mu, log_var = model(x)\n",
        "\n",
        "            # Compute reconstruction loss and kl divergence\n",
        "            # For KL divergence, see Appendix B in VAE paper or http://yunjey47.tistory.com/43\n",
        "            # Scaled by `image_size` for each individual pixel.\n",
        "            \n",
        "            #재생성한 이미지와 원래 이미지의 차이\n",
        "            reconstruction_loss = tf.nn.sigmoid_cross_entropy_with_logits(labels=x, logits=x_reconstruction_logits)\n",
        "            reconstruction_loss = tf.reduce_sum(reconstruction_loss) / batch_size\n",
        "\n",
        "            #잠재 분포 z 차이\n",
        "            #q(z|x) , p(z) 와의 KL DIV 이때, p(z)는 0,1인 정규분포이므로,\n",
        "            #D_KL(q(z|x), p(z) = 1/2∑i=1(σ2i+μ2i−ln(σ2i)−1) 로 나타낼수 있다.\n",
        "            kl_div = - 0.5 * tf.reduce_sum(1. + log_var - tf.square(mu) - tf.exp(log_var), axis=-1)\n",
        "            kl_div = tf.reduce_mean(kl_div)\n",
        "\n",
        "            loss = tf.reduce_mean(reconstruction_loss) + kl_div\n",
        "\n",
        "        gradients = tape.gradient(loss, model.trainable_variables)\n",
        "        for g in gradients:\n",
        "            tf.clip_by_norm(g, 15)\n",
        "        optimizer.apply_gradients(zip(gradients, model.trainable_variables))\n",
        "\n",
        "        if (step + 1) % 50 == 0:\n",
        "            print(\"Epoch[{}/{}], Step [{}/{}], Reconst Loss: {:.4f}, KL Div: {:.4f}\".format(epoch + 1, num_epochs, step + 1, num_batches, float(reconstruction_loss), float(kl_div)))\n",
        "\n",
        "    z = tf.random.normal((batch_size, z_dim))\n",
        "    out = model.decode(z)  # decode with sigmoid\n",
        "    out = tf.reshape(out, [-1, 28, 28]).numpy() * 255\n",
        "    out = out.astype(np.uint8)\n",
        "\n",
        "    # Save the reconstructed images of last batch\n",
        "    out_logits, _, _ = model(x[:batch_size // 2])\n",
        "    out = tf.nn.sigmoid(out_logits)  # out is just the logits, use sigmoid\n",
        "    out = tf.reshape(out, [-1, 28, 28]).numpy() * 255\n",
        "\n",
        "    x = tf.reshape(x[:batch_size // 2], [-1, 28, 28])\n",
        "\n",
        "    x_concat = tf.concat([x, out], axis=0).numpy() * 255.\n",
        "    x_concat = x_concat.astype(np.uint8)\n",
        "\n",
        "    index = 0\n",
        "    for i in range(0, 280, 28):\n",
        "        for j in range(0, 280, 28):\n",
        "            im = x_concat[index]\n",
        "            im = Image.fromarray(im, mode='L')\n",
        "            new_im.paste(im, (i, j))\n",
        "            index += 1\n",
        "\n",
        "    new_im.save('images/vae_reconstructed_epoch_%d.png' % (epoch + 1))\n",
        "    plt.imshow(np.asarray(new_im))\n",
        "    plt.show()\n",
        "    print('New images saved !')"
      ],
      "execution_count": null,
      "outputs": []
    }
  ]
}