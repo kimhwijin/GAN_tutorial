{
  "nbformat": 4,
  "nbformat_minor": 0,
  "metadata": {
    "colab": {
      "name": "vanilla_autoencoder.ipynb",
      "provenance": [],
      "collapsed_sections": [],
      "authorship_tag": "ABX9TyP3NB342Wx7b7k1GoOxgFuQ",
      "include_colab_link": true
    },
    "kernelspec": {
      "name": "python3",
      "display_name": "Python 3"
    },
    "language_info": {
      "name": "python"
    }
  },
  "cells": [
    {
      "cell_type": "markdown",
      "metadata": {
        "id": "view-in-github",
        "colab_type": "text"
      },
      "source": [
        "<a href=\"https://colab.research.google.com/github/kimhwijin/TensorflowWithKeras/blob/master/Autoencoder/vanilla_autoencoder.ipynb\" target=\"_parent\"><img src=\"https://colab.research.google.com/assets/colab-badge.svg\" alt=\"Open In Colab\"/></a>"
      ]
    },
    {
      "cell_type": "code",
      "metadata": {
        "id": "UyAJEoi_mRkq"
      },
      "source": [
        "import tensorflow as tf\n",
        "import tensorflow.keras as K\n",
        "import numpy as np\n",
        "import matplotlib.pyplot as plt"
      ],
      "execution_count": null,
      "outputs": []
    },
    {
      "cell_type": "markdown",
      "metadata": {
        "id": "Jde6_ioK16WK"
      },
      "source": [
        "바닐라 오토 인코더 특징 :\n",
        "<br>항등 신경망과 비슷해서, 단순히 입력을 재구성해서 출력\n",
        "<br>단순히 병목 계층의 유닛 개수(히든 레이어)\n",
        "<br>신경망이 픽셀 수준 재구성은 추상적 특징을 학습하는지 안하는지 보장이 안된다."
      ]
    },
    {
      "cell_type": "code",
      "metadata": {
        "id": "uzvVwaXAnqEX"
      },
      "source": [
        "\n",
        "class Encoder(K.layers.Layer):\n",
        "    def __init__(self, hidden_dim):\n",
        "        super(Encoder, self).__init__()\n",
        "        self.hidden_layer = K.layers.Dense(units=hidden_dim, activation='relu')\n",
        "\n",
        "    def call(self, input_features):\n",
        "        activation = self.hidden_layer(input_features)\n",
        "        return activation\n",
        "    \n",
        "class Decoder(K.layers.Layer):\n",
        "    def __init__(self, hidden_dim, original_dim):\n",
        "        super(Decoder, self).__init__()\n",
        "        self.output_layer = K.layers.Dense(original_dim, activation='relu')\n",
        "    \n",
        "    def call(self, encoded):\n",
        "        activation = self.output_layer(encoded)\n",
        "        return activation\n",
        "\n",
        "class Autoencoder(K.Model):\n",
        "    def __init__(self, hidden_dim, original_dim):\n",
        "        super(Autoencoder, self).__init__()\n",
        "        self.loss = []\n",
        "        self.encoder = Encoder(hidden_dim)\n",
        "        self.decoder = Decoder(hidden_dim, original_dim)\n",
        "    \n",
        "    def call(self, input_features):\n",
        "        encoded = self.encoder(input_features)\n",
        "        reconstructed = self.decoder(encoded)\n",
        "        return reconstructed\n",
        "    "
      ],
      "execution_count": null,
      "outputs": []
    },
    {
      "cell_type": "code",
      "metadata": {
        "id": "dt3hSjY615uM"
      },
      "source": [
        ""
      ],
      "execution_count": null,
      "outputs": []
    },
    {
      "cell_type": "code",
      "metadata": {
        "id": "zDqexAsqpyMs"
      },
      "source": [
        "np.random.seed(150)\n",
        "tf.random.set_seed(150)\n",
        "batch_size = 256\n",
        "num_epochs = 50\n",
        "learning_rate = 0.01\n",
        "hidden_dim = 128\n",
        "original_dim = 784 #28 * 28"
      ],
      "execution_count": null,
      "outputs": []
    },
    {
      "cell_type": "code",
      "metadata": {
        "id": "oKBvm2WeqLSe"
      },
      "source": [
        "(x_train, _), (x_test, _) = K.datasets.mnist.load_data()\n",
        "x_train = x_train / 255.\n",
        "x_test = x_test / 255.\n",
        "x_train = x_train.astype(np.float32)\n",
        "x_test = x_test.astype(np.float32)\n",
        "x_train = np.reshape(x_train, (x_train.shape[0], 784))\n",
        "x_test = np.reshape(x_test, (x_test.shape[0], 784))\n",
        "training_dataset = tf.data.Dataset.from_tensor_slices(x_train).batch(batch_size)\n",
        "test_dataset = tf.data.Dataset.from_tensor_slices(x_test)"
      ],
      "execution_count": null,
      "outputs": []
    },
    {
      "cell_type": "code",
      "metadata": {
        "id": "zsMYE8Ppq2TU"
      },
      "source": [
        "autoencoder = Autoencoder(hidden_dim, original_dim)\n",
        "optimizer = tf.keras.optimizers.Adam(learning_rate=learning_rate)\n",
        "def loss(pred, real):\n",
        "    #mean square error\n",
        "    return tf.reduce_mean(tf.square(tf.subtract(pred, real)))\n",
        "def train(loss, model, optimizer, original):\n",
        "    with tf.GradientTape() as tape:\n",
        "        pred = model(original)\n",
        "        reconstruction_error = loss(pred, original)\n",
        "        gradients = tape.gradient(reconstruction_error, model.trainable_variables)\n",
        "        gradient_variables = zip(gradients, model.trainable_variables)\n",
        "    optimizer.apply_gradients(gradient_variables)\n",
        "    return reconstruction_error\n",
        "def train_loop(model, optimizer, loss, dataset, epochs=20):\n",
        "    for epoch in range(epochs):\n",
        "        epoch_loss = 0\n",
        "        for step, batch_features in enumerate(dataset):\n",
        "            loss_values = train(loss, model, optimizer, batch_features)\n",
        "            epoch_loss += loss_values\n",
        "        model.loss.append(epoch_loss)\n",
        "        print(\"Epoch {}/{}. loss : {}\".format(epoch+1, epochs, epoch_loss.numpy()))"
      ],
      "execution_count": null,
      "outputs": []
    },
    {
      "cell_type": "code",
      "metadata": {
        "colab": {
          "base_uri": "https://localhost:8080/"
        },
        "id": "xeN6YAkos5s5",
        "outputId": "9e9d5be1-dffe-488a-bdcb-dd4868c3bf73"
      },
      "source": [
        "train_loop(autoencoder, optimizer, loss, training_dataset, num_epochs)"
      ],
      "execution_count": null,
      "outputs": [
        {
          "output_type": "stream",
          "text": [
            "Epoch1/50. loss : 5.1255693435668945\n",
            "Epoch2/50. loss : 3.1848552227020264\n",
            "Epoch3/50. loss : 3.0387356281280518\n",
            "Epoch4/50. loss : 2.978508234024048\n",
            "Epoch5/50. loss : 2.947870969772339\n",
            "Epoch6/50. loss : 2.915058135986328\n",
            "Epoch7/50. loss : 2.890587568283081\n",
            "Epoch8/50. loss : 2.906430959701538\n",
            "Epoch9/50. loss : 2.895946741104126\n",
            "Epoch10/50. loss : 2.8724451065063477\n",
            "Epoch11/50. loss : 2.881824016571045\n",
            "Epoch12/50. loss : 2.8693392276763916\n",
            "Epoch13/50. loss : 2.891218900680542\n",
            "Epoch14/50. loss : 2.896758556365967\n",
            "Epoch15/50. loss : 2.860311985015869\n",
            "Epoch16/50. loss : 2.8653409481048584\n",
            "Epoch17/50. loss : 2.8663458824157715\n",
            "Epoch18/50. loss : 2.888202428817749\n",
            "Epoch19/50. loss : 2.8709561824798584\n",
            "Epoch20/50. loss : 2.870546579360962\n",
            "Epoch21/50. loss : 2.862572193145752\n",
            "Epoch22/50. loss : 2.872026205062866\n",
            "Epoch23/50. loss : 2.8701319694519043\n",
            "Epoch24/50. loss : 2.891782760620117\n",
            "Epoch25/50. loss : 2.856743097305298\n",
            "Epoch26/50. loss : 2.865938186645508\n",
            "Epoch27/50. loss : 2.8552215099334717\n",
            "Epoch28/50. loss : 2.8677711486816406\n",
            "Epoch29/50. loss : 2.88582181930542\n",
            "Epoch30/50. loss : 2.851754903793335\n",
            "Epoch31/50. loss : 2.871225357055664\n",
            "Epoch32/50. loss : 2.8620352745056152\n",
            "Epoch33/50. loss : 2.8637595176696777\n",
            "Epoch34/50. loss : 2.857586145401001\n",
            "Epoch35/50. loss : 2.8343443870544434\n",
            "Epoch36/50. loss : 2.8899636268615723\n",
            "Epoch37/50. loss : 2.846447229385376\n",
            "Epoch38/50. loss : 2.8537399768829346\n",
            "Epoch39/50. loss : 2.858989953994751\n",
            "Epoch40/50. loss : 2.8481295108795166\n",
            "Epoch41/50. loss : 2.856699228286743\n",
            "Epoch42/50. loss : 2.8449370861053467\n",
            "Epoch43/50. loss : 2.8612589836120605\n",
            "Epoch44/50. loss : 2.8425376415252686\n",
            "Epoch45/50. loss : 2.879615068435669\n",
            "Epoch46/50. loss : 2.8420186042785645\n",
            "Epoch47/50. loss : 2.876343250274658\n",
            "Epoch48/50. loss : 2.8263237476348877\n",
            "Epoch49/50. loss : 2.8439602851867676\n",
            "Epoch50/50. loss : 2.8808400630950928\n"
          ],
          "name": "stdout"
        }
      ]
    },
    {
      "cell_type": "code",
      "metadata": {
        "colab": {
          "base_uri": "https://localhost:8080/",
          "height": 510
        },
        "id": "bDUCGFlluXco",
        "outputId": "45c3f39b-f8d8-47ce-b516-2865a8c1532c"
      },
      "source": [
        "plt.plot(range(num_epochs), autoencoder.loss)\n",
        "plt.xlabel('Epochs')\n",
        "plt.ylabel('loss')\n",
        "plt.show()\n",
        "\n",
        "fig_cnt = 10\n",
        "plt.figure(figsize=(20,4))\n",
        "for index in range(fig_cnt):\n",
        "    ax = plt.subplot(2, fig_cnt, index + 1)\n",
        "    plt.imshow(x_test[index].reshape((28, 28)), cmap='gray')\n",
        "    ax.get_xaxis().set_visible(False)\n",
        "    ax.get_yaxis().set_visible(False)\n",
        "\n",
        "    ax = plt.subplot(2, fig_cnt, index + 1 + fig_cnt)\n",
        "    plt.imshow(autoencoder(x_test)[index].numpy().reshape((28, 28)), cmap='gray')\n",
        "    ax.get_xaxis().set_visible(False)\n",
        "    ax.get_yaxis().set_visible(False)\n",
        "plt.show()"
      ],
      "execution_count": null,
      "outputs": [
        {
          "output_type": "display_data",
          "data": {
            "image/png": "[encoded data removed]",
            "text/plain": [
              "<Figure size 432x288 with 1 Axes>"
            ]
          },
          "metadata": {
            "tags": [],
            "needs_background": "light"
          }
        },
        {
          "output_type": "display_data",
          "data": {
            "image/png": "[encoded data removed]",
            "text/plain": [
              "<Figure size 1440x288 with 20 Axes>"
            ]
          },
          "metadata": {
            "tags": [],
            "needs_background": "light"
          }
        }
      ]
    }
  ]
}