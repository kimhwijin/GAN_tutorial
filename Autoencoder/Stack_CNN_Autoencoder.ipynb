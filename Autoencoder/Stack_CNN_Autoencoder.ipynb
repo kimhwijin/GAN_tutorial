{
  "nbformat": 4,
  "nbformat_minor": 0,
  "metadata": {
    "colab": {
      "name": "Stack_CNN_Autoencoder.ipynb",
      "provenance": [],
      "collapsed_sections": [],
      "mount_file_id": "1YJh0ht_HRbk55g0306_oscfCnRe_Q0Oe",
      "authorship_tag": "ABX9TyNjiEYs6JPwVwDSK4PhbTjB",
      "include_colab_link": true
    },
    "kernelspec": {
      "name": "python3",
      "display_name": "Python 3"
    },
    "language_info": {
      "name": "python"
    },
    "accelerator": "GPU"
  },
  "cells": [
    {
      "cell_type": "markdown",
      "metadata": {
        "id": "view-in-github",
        "colab_type": "text"
      },
      "source": [
        "<a href=\"https://colab.research.google.com/github/kimhwijin/TensorflowWithKeras/blob/master/Autoencoder/Stack_CNN_Autoencoder.ipynb\" target=\"_parent\"><img src=\"https://colab.research.google.com/assets/colab-badge.svg\" alt=\"Open In Colab\"/></a>"
      ]
    },
    {
      "cell_type": "code",
      "metadata": {
        "id": "9WI0T7MNwMEH"
      },
      "source": [
        "import tensorflow as tf\n",
        "import tensorflow.keras as K\n",
        "import matplotlib.pyplot as plt\n",
        "import numpy as np"
      ],
      "execution_count": 1,
      "outputs": []
    },
    {
      "cell_type": "markdown",
      "metadata": {
        "id": "U3g6_tyuwYBy"
      },
      "source": [
        "Stacked CNN Autoencoder\n",
        "<br>Autoencoder 여러개를 덧붙여 이어서 stacked autoencoder 를 만든다.\n",
        "<br>이 autoencoder는 전체로서 훈련하거나,\n",
        "<br>각각의 autoencoder를 훈련시킨후, 전체 autoencoder를 미세조정할 수 있다."
      ]
    },
    {
      "cell_type": "code",
      "metadata": {
        "id": "7lK7GUUMwWPf"
      },
      "source": [
        "np.random.seed(11)\n",
        "tf.random.set_seed(11)\n",
        "\n",
        "batch_size = 128\n",
        "max_epochs = 50\n",
        "filters = [32, 32, 16]"
      ],
      "execution_count": 2,
      "outputs": []
    },
    {
      "cell_type": "code",
      "metadata": {
        "colab": {
          "base_uri": "https://localhost:8080/"
        },
        "id": "mtZ_ql4Vx0Yf",
        "outputId": "d874c03a-18da-460a-ff66-3997022de71f"
      },
      "source": [
        "(x_train, _), (x_test, _) = K.datasets.mnist.load_data()\n",
        "x_train = x_train / 255.0\n",
        "x_test = x_test / 255.0\n",
        "x_train = x_train.astype(np.float32)\n",
        "x_test = x_test.astype(np.float32)\n",
        "\n",
        "x_train = np.reshape(x_train, (len(x_train), 28, 28, 1))\n",
        "x_test = np.reshape(x_test, (len(x_test), 28, 28, 1))\n",
        "\n",
        "noise = 0.5\n",
        "x_train_noisy = x_train + noise * np.random.normal(loc=0, scale=1.0, size=x_train.shape)\n",
        "x_test_noisy = x_test + noise * np.random.normal(loc=0, scale=1.0, size=x_test.shape)\n",
        "\n",
        "x_train_noisy = np.clip(x_train_noisy, 0, 1)\n",
        "x_test_noisy = np.clip(x_test_noisy, 0, 1)\n",
        "\n",
        "x_train_noisy = x_train_noisy.astype('float32')\n",
        "x_test_noisy = x_test_noisy.astype('float32')"
      ],
      "execution_count": 3,
      "outputs": [
        {
          "output_type": "stream",
          "text": [
            "Downloading data from https://storage.googleapis.com/tensorflow/tf-keras-datasets/mnist.npz\n",
            "11493376/11490434 [==============================] - 0s 0us/step\n"
          ],
          "name": "stdout"
        }
      ]
    },
    {
      "cell_type": "code",
      "metadata": {
        "id": "lmaGTRD_x16p"
      },
      "source": [
        "class Encoder(K.layers.Layer):\n",
        "    def __init__(self, filters):\n",
        "        super(Encoder, self).__init__()\n",
        "        self.conv1 = K.layers.Conv2D(filters=filters[0], kernel_size=3, strides=1, activation='relu', padding='same')\n",
        "        self.conv2 = K.layers.Conv2D(filters=filters[1], kernel_size=3, strides=1, activation='relu', padding='same')\n",
        "        self.conv3 = K.layers.Conv2D(filters=filters[2], kernel_size=3, strides=1, activation='relu', padding='same')\n",
        "        self.pool = K.layers.MaxPooling2D((2, 2), padding='same')\n",
        "    \n",
        "    def call(self, input_features):\n",
        "        #print(input_features.shape)\n",
        "        x = self.conv1(input_features)\n",
        "        #print(x.shape)\n",
        "        x = self.pool(x)\n",
        "        #print(x.shape)\n",
        "        x = self.conv2(x)\n",
        "        #print(x.shape)\n",
        "        x = self.pool(x)\n",
        "        #print(x.shape)\n",
        "        x = self.conv3(x)\n",
        "        #print(x.shape)\n",
        "        x = self.pool(x)\n",
        "        #print(x.shape)\n",
        "        return x\n",
        "\n",
        "class Decoder(K.layers.Layer):\n",
        "    def __init__(self, filters):\n",
        "        super(Decoder, self).__init__()\n",
        "        self.conv1 = K.layers.Conv2D(filters=filters[2], kernel_size=3, strides=1, padding='same', activation='relu')\n",
        "        self.conv2 = K.layers.Conv2D(filters=filters[1], kernel_size=3, strides=1, padding='same', activation='relu')\n",
        "        self.conv3 = K.layers.Conv2D(filters=filters[0], kernel_size=3, strides=1, padding='valid', activation='relu')\n",
        "        self.conv4 = K.layers.Conv2D(1, 3, 1, padding='same', activation='sigmoid')\n",
        "        self.upsample = K.layers.UpSampling2D((2, 2))\n",
        "    \n",
        "    def call(self, encoded):\n",
        "        #print(encoded.shape)\n",
        "        x = self.conv1(encoded)\n",
        "        #print(x.shape)\n",
        "        x = self.upsample(x)\n",
        "        #print(x.shape)\n",
        "        x = self.conv2(x)\n",
        "        #print(x.shape)\n",
        "        x = self.upsample(x)\n",
        "        #print(x.shape)\n",
        "        x = self.conv3(x)\n",
        "        #print(x.shape)\n",
        "        x = self.upsample(x)\n",
        "        #print(x.shape)\n",
        "        x = self.conv4(x)\n",
        "        #print(x.shape)\n",
        "        return x\n",
        "\n",
        "class Autoencoder(K.Model):\n",
        "    def __init__(self, filters):\n",
        "        super(Autoencoder, self).__init__()\n",
        "        self.encoder = Encoder(filters)\n",
        "        self.decoder = Decoder(filters)\n",
        "    \n",
        "    def call(self, input_features):\n",
        "        encoded = self.encoder(input_features)\n",
        "        reconstructed = self.decoder(encoded)\n",
        "        return reconstructed"
      ],
      "execution_count": 4,
      "outputs": []
    },
    {
      "cell_type": "code",
      "metadata": {
        "colab": {
          "base_uri": "https://localhost:8080/"
        },
        "id": "7_8Hh5aA0NJ5",
        "outputId": "4e39ba23-1fb8-45c8-bd6a-d458bdde4984"
      },
      "source": [
        "model = Autoencoder(filters)\n",
        "model.compile(loss='binary_crossentropy', optimizer='adam')\n",
        "loss = model.fit(x_train_noisy, x_train, validation_data=(x_test_noisy, x_test), batch_size=batch_size, epochs=max_epochs)"
      ],
      "execution_count": 5,
      "outputs": [
        {
          "output_type": "stream",
          "text": [
            "Epoch 1/50\n",
            "469/469 [==============================] - 36s 8ms/step - loss: 0.2051 - val_loss: 0.1504\n",
            "Epoch 2/50\n",
            "469/469 [==============================] - 3s 7ms/step - loss: 0.1418 - val_loss: 0.1327\n",
            "Epoch 3/50\n",
            "469/469 [==============================] - 3s 7ms/step - loss: 0.1289 - val_loss: 0.1239\n",
            "Epoch 4/50\n",
            "469/469 [==============================] - 4s 7ms/step - loss: 0.1224 - val_loss: 0.1194\n",
            "Epoch 5/50\n",
            "469/469 [==============================] - 4s 8ms/step - loss: 0.1180 - val_loss: 0.1150\n",
            "Epoch 6/50\n",
            "469/469 [==============================] - 4s 8ms/step - loss: 0.1148 - val_loss: 0.1124\n",
            "Epoch 7/50\n",
            "469/469 [==============================] - 4s 8ms/step - loss: 0.1125 - val_loss: 0.1103\n",
            "Epoch 8/50\n",
            "469/469 [==============================] - 4s 8ms/step - loss: 0.1110 - val_loss: 0.1092\n",
            "Epoch 9/50\n",
            "469/469 [==============================] - 4s 8ms/step - loss: 0.1094 - val_loss: 0.1081\n",
            "Epoch 10/50\n",
            "469/469 [==============================] - 4s 8ms/step - loss: 0.1082 - val_loss: 0.1072\n",
            "Epoch 11/50\n",
            "469/469 [==============================] - 4s 8ms/step - loss: 0.1072 - val_loss: 0.1060\n",
            "Epoch 12/50\n",
            "469/469 [==============================] - 3s 7ms/step - loss: 0.1064 - val_loss: 0.1057\n",
            "Epoch 13/50\n",
            "469/469 [==============================] - 4s 8ms/step - loss: 0.1057 - val_loss: 0.1049\n",
            "Epoch 14/50\n",
            "469/469 [==============================] - 4s 7ms/step - loss: 0.1051 - val_loss: 0.1039\n",
            "Epoch 15/50\n",
            "469/469 [==============================] - 4s 8ms/step - loss: 0.1045 - val_loss: 0.1034\n",
            "Epoch 16/50\n",
            "469/469 [==============================] - 3s 7ms/step - loss: 0.1041 - val_loss: 0.1032\n",
            "Epoch 17/50\n",
            "469/469 [==============================] - 4s 7ms/step - loss: 0.1036 - val_loss: 0.1029\n",
            "Epoch 18/50\n",
            "469/469 [==============================] - 4s 8ms/step - loss: 0.1032 - val_loss: 0.1025\n",
            "Epoch 19/50\n",
            "469/469 [==============================] - 4s 8ms/step - loss: 0.1029 - val_loss: 0.1019\n",
            "Epoch 20/50\n",
            "469/469 [==============================] - 4s 8ms/step - loss: 0.1025 - val_loss: 0.1018\n",
            "Epoch 21/50\n",
            "469/469 [==============================] - 4s 8ms/step - loss: 0.1022 - val_loss: 0.1014\n",
            "Epoch 22/50\n",
            "469/469 [==============================] - 4s 8ms/step - loss: 0.1020 - val_loss: 0.1020\n",
            "Epoch 23/50\n",
            "469/469 [==============================] - 4s 8ms/step - loss: 0.1018 - val_loss: 0.1016\n",
            "Epoch 24/50\n",
            "469/469 [==============================] - 4s 8ms/step - loss: 0.1016 - val_loss: 0.1010\n",
            "Epoch 25/50\n",
            "469/469 [==============================] - 4s 8ms/step - loss: 0.1013 - val_loss: 0.1009\n",
            "Epoch 26/50\n",
            "469/469 [==============================] - 4s 8ms/step - loss: 0.1011 - val_loss: 0.1011\n",
            "Epoch 27/50\n",
            "469/469 [==============================] - 4s 8ms/step - loss: 0.1009 - val_loss: 0.1006\n",
            "Epoch 28/50\n",
            "469/469 [==============================] - 4s 8ms/step - loss: 0.1007 - val_loss: 0.1009\n",
            "Epoch 29/50\n",
            "469/469 [==============================] - 4s 8ms/step - loss: 0.1006 - val_loss: 0.1004\n",
            "Epoch 30/50\n",
            "469/469 [==============================] - 4s 8ms/step - loss: 0.1004 - val_loss: 0.0998\n",
            "Epoch 31/50\n",
            "469/469 [==============================] - 4s 8ms/step - loss: 0.1003 - val_loss: 0.1005\n",
            "Epoch 32/50\n",
            "469/469 [==============================] - 4s 8ms/step - loss: 0.1002 - val_loss: 0.1013\n",
            "Epoch 33/50\n",
            "469/469 [==============================] - 4s 8ms/step - loss: 0.1000 - val_loss: 0.0995\n",
            "Epoch 34/50\n",
            "469/469 [==============================] - 4s 8ms/step - loss: 0.0999 - val_loss: 0.0996\n",
            "Epoch 35/50\n",
            "469/469 [==============================] - 4s 8ms/step - loss: 0.0999 - val_loss: 0.0998\n",
            "Epoch 36/50\n",
            "469/469 [==============================] - 4s 8ms/step - loss: 0.0997 - val_loss: 0.0998\n",
            "Epoch 37/50\n",
            "469/469 [==============================] - 4s 8ms/step - loss: 0.0996 - val_loss: 0.0993\n",
            "Epoch 38/50\n",
            "469/469 [==============================] - 4s 8ms/step - loss: 0.0995 - val_loss: 0.0993\n",
            "Epoch 39/50\n",
            "469/469 [==============================] - 4s 8ms/step - loss: 0.0994 - val_loss: 0.0989\n",
            "Epoch 40/50\n",
            "469/469 [==============================] - 4s 8ms/step - loss: 0.0994 - val_loss: 0.0995\n",
            "Epoch 41/50\n",
            "469/469 [==============================] - 4s 8ms/step - loss: 0.0993 - val_loss: 0.0987\n",
            "Epoch 42/50\n",
            "469/469 [==============================] - 4s 8ms/step - loss: 0.0992 - val_loss: 0.0988\n",
            "Epoch 43/50\n",
            "469/469 [==============================] - 4s 8ms/step - loss: 0.0991 - val_loss: 0.0987\n",
            "Epoch 44/50\n",
            "469/469 [==============================] - 4s 8ms/step - loss: 0.0991 - val_loss: 0.0989\n",
            "Epoch 45/50\n",
            "469/469 [==============================] - 4s 8ms/step - loss: 0.0990 - val_loss: 0.0988\n",
            "Epoch 46/50\n",
            "469/469 [==============================] - 4s 8ms/step - loss: 0.0990 - val_loss: 0.0989\n",
            "Epoch 47/50\n",
            "469/469 [==============================] - 4s 8ms/step - loss: 0.0989 - val_loss: 0.0986\n",
            "Epoch 48/50\n",
            "469/469 [==============================] - 4s 8ms/step - loss: 0.0988 - val_loss: 0.0987\n",
            "Epoch 49/50\n",
            "469/469 [==============================] - 4s 8ms/step - loss: 0.0988 - val_loss: 0.0995\n",
            "Epoch 50/50\n",
            "469/469 [==============================] - 4s 8ms/step - loss: 0.0987 - val_loss: 0.0987\n"
          ],
          "name": "stdout"
        }
      ]
    },
    {
      "cell_type": "code",
      "metadata": {
        "colab": {
          "base_uri": "https://localhost:8080/",
          "height": 265
        },
        "id": "MmrYDMps0L1S",
        "outputId": "b28dd94f-3c6b-45f8-9d34-5f738fc2411e"
      },
      "source": [
        "plt.plot(range(max_epochs), loss.history['loss'])\n",
        "plt.show()\n"
      ],
      "execution_count": 6,
      "outputs": [
        {
          "output_type": "display_data",
          "data": {
            "image/png": "[encoded data removed]",
            "text/plain": [
              "<Figure size 432x288 with 1 Axes>"
            ]
          },
          "metadata": {
            "tags": [],
            "needs_background": "light"
          }
        }
      ]
    },
    {
      "cell_type": "code",
      "metadata": {
        "colab": {
          "base_uri": "https://localhost:8080/",
          "height": 250
        },
        "id": "dCKYg81RyFHU",
        "outputId": "a56000ce-629f-4319-90c2-f45272d6b435"
      },
      "source": [
        "number = 10\n",
        "plt.figure(figsize=(20, 4))\n",
        "for index in range(number):\n",
        "    ax = plt.subplot(2, number, index + 1)\n",
        "    plt.imshow(x_test_noisy[index].reshape(28, 28), cmap='gray')\n",
        "\n",
        "    ax = plt.subplot(2, number, index + number + 1)\n",
        "    plt.imshow(tf.reshape(model(x_test_noisy)[index], (28, 28)) , cmap='gray')\n",
        "\n",
        "plt.show()"
      ],
      "execution_count": 7,
      "outputs": [
        {
          "output_type": "display_data",
          "data": {
            "image/png": "[encoded data removed]",
            "text/plain": [
              "<Figure size 1440x288 with 20 Axes>"
            ]
          },
          "metadata": {
            "tags": [],
            "needs_background": "light"
          }
        }
      ]
    }
  ]
}