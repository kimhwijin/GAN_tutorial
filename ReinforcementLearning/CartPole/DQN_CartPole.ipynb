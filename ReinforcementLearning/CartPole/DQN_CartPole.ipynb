{
  "nbformat": 4,
  "nbformat_minor": 0,
  "metadata": {
    "colab": {
      "name": "DQN_CartPole.ipynb",
      "provenance": [],
      "collapsed_sections": [],
      "mount_file_id": "1IolYi3wdMnaPYfWF5naR6E2e2NjihzXE",
      "authorship_tag": "ABX9TyN8lW3XEJhOj5wgcw7lMIPC",
      "include_colab_link": true
    },
    "kernelspec": {
      "name": "python3",
      "display_name": "Python 3"
    },
    "language_info": {
      "name": "python"
    },
    "accelerator": "TPU"
  },
  "cells": [
    {
      "cell_type": "markdown",
      "metadata": {
        "id": "view-in-github",
        "colab_type": "text"
      },
      "source": [
        "<a href=\"https://colab.research.google.com/github/kimhwijin/TensorflowWithKeras/blob/master/ReinforcementLearning/CartPole/DQN_CartPole.ipynb\" target=\"_parent\"><img src=\"https://colab.research.google.com/assets/colab-badge.svg\" alt=\"Open In Colab\"/></a>"
      ]
    },
    {
      "cell_type": "code",
      "metadata": {
        "id": "A6J28DORujJE"
      },
      "source": [
        "import random\n",
        "import gym\n",
        "#import math\n",
        "import numpy as np\n",
        "from collections import deque\n",
        "import tensorflow as tf\n",
        "import tensorflow.keras as K\n",
        "\n",
        "def preprocessing_state(state):\n",
        "    return np.reshape(state, [1, 4])\n",
        "\n",
        "def choose_action(state, epsilon):\n",
        "    if np.random.random() <= epsilon:\n",
        "        return env.action_space.sample()\n",
        "    else:\n",
        "        return np.argmax(model.predict(state))\n",
        "\n",
        "def remember(state, action, reward, next_state, done):\n",
        "    memory.append((state, action, reward, next_state, done))\n",
        "\n",
        "def replay(batch_size):\n",
        "    x_batch, y_batch = [], []\n",
        "    minibatch = random.sample(memory, min(len(memory), batch_size))\n",
        "    for state, action, reward, next_state, done in minibatch:\n",
        "        y_target = model.predict(state)\n",
        "        y_target[0][action] = reward if done else reward + gamma * np.max(model.predict(next_state)[0])\n",
        "        x_batch.append(state[0])\n",
        "        y_batch.append(y_target[0])\n",
        "\n",
        "    model.fit(np.array(x_batch), np.array(y_batch), batch_size=len(x_batch), verbose=0)\n",
        "\n",
        "EPOCHS = 1500\n",
        "THRESHOLD = 150\n",
        "MONITOR = True\n",
        "batch_size = 64\n",
        "gamma = 1.0\n",
        "epsilon = 1.0\n",
        "epsilon_min = 0.01\n",
        "epsilon_decay = 0.995\n",
        "\n",
        "env_string = 'CartPole-v0'\n",
        "env = gym.make(env_string)   \n",
        "input_size = env.observation_space.shape[0]\n",
        "action_size = env.action_space.n\n",
        "print(input_size, action_size)\n",
        "\n",
        "memory = deque(maxlen=100000)\n",
        "\n",
        "\n",
        "model = K.models.Sequential()\n",
        "model.add(K.layers.Dense(24, input_dim=input_size, activation='tanh'))\n",
        "model.add(K.layers.Dense(48, activation='tanh'))\n",
        "model.add(K.layers.Dense(action_size, activation='linear'))\n",
        "model.compile(loss='mse', optimizer=K.optimizers.Adam(learning_rate=0.01, decay=0.01))\n",
        "\n",
        "scores = deque(maxlen=100)\n",
        "avg_scores = []\n",
        "\n",
        "for e in range(EPOCHS):\n",
        "    state = env.reset()\n",
        "    state = preprocessing_state(state)\n",
        "    done = False\n",
        "    i = 0\n",
        "    while not done:\n",
        "        action = choose_action(state, epsilon)\n",
        "        next_state, reward, done, _ = env.step(action)\n",
        "        next_state = preprocessing_state(next_state)\n",
        "        remember(state, action, reward, next_state, done)\n",
        "        state = next_state\n",
        "        epsilon = max(epsilon_min, epsilon_decay * epsilon) # decrease epsilon\n",
        "        i += 1\n",
        "\n",
        "    scores.append(i)\n",
        "    mean_score = np.mean(scores)\n",
        "    avg_scores.append(mean_score)\n",
        "    if mean_score >= THRESHOLD and e >= 100:\n",
        "        print('Ran {} episodes. Solved after {} trials ✔'.format(e, e - 100))\n",
        "        break\n",
        "    if e % 100 == 0:\n",
        "        print('[Episode {}] - Mean survival time over last 100 episodes was {} ticks.'.format(e, mean_score))\n",
        "    if e % 200 == 0:\n",
        "        model.save('drive/MyDrive/Colab Notebooks/models/DQN_CartPole/CartPole-v0')\n",
        "    replay(batch_size)\n",
        "\n",
        "print('Did not solve after {} episodes 😞'.format(e))\n"
      ],
      "execution_count": null,
      "outputs": []
    },
    {
      "cell_type": "code",
      "metadata": {
        "id": "ihWBWU9a1S9V"
      },
      "source": [
        "import matplotlib.pyplot as plt\n",
        "plt.plot(avg_scores)\n",
        "plt.show()\n",
        "model.save('drive/MyDrive/Colab Notebooks/models/DQN_CartPole/CartPole-v0')"
      ],
      "execution_count": null,
      "outputs": []
    }
  ]
}