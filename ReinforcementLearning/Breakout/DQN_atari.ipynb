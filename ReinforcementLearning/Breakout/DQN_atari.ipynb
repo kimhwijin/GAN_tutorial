{
  "nbformat": 4,
  "nbformat_minor": 0,
  "metadata": {
    "colab": {
      "name": "DQN_atari.ipynb",
      "provenance": [],
      "collapsed_sections": [],
      "mount_file_id": "1EAY5lFEV4R4aZi6vOA-7jRvQXrPxjRyn",
      "authorship_tag": "ABX9TyNJ+NEy+aD/3QiDWaf6Cbyk",
      "include_colab_link": true
    },
    "kernelspec": {
      "name": "python3",
      "display_name": "Python 3"
    },
    "language_info": {
      "name": "python"
    },
    "accelerator": "TPU"
  },
  "cells": [
    {
      "cell_type": "markdown",
      "metadata": {
        "id": "view-in-github",
        "colab_type": "text"
      },
      "source": [
        "<a href=\"https://colab.research.google.com/github/kimhwijin/TensorflowWithKeras/blob/master/ReinforcementLearning/Breakout/DQN_atari.ipynb\" target=\"_parent\"><img src=\"https://colab.research.google.com/assets/colab-badge.svg\" alt=\"Open In Colab\"/></a>"
      ]
    },
    {
      "cell_type": "code",
      "metadata": {
        "colab": {
          "base_uri": "https://localhost:8080/"
        },
        "id": "v4ui6IrgvOKH",
        "outputId": "375f24eb-6321-4f1d-c71e-376fcc1ee360"
      },
      "source": [
        "! wget http://www.atarimania.com/roms/Roms.rar\n",
        "! mkdir /content/ROM/\n",
        "! unrar e /content/Roms.rar /content/ROM/\n",
        "! python -m atari_py.import_roms /content/ROM/"
      ],
      "execution_count": null,
      "outputs": [
        {
          "output_type": "stream",
          "text": [
            "--2021-08-14 09:11:42--  http://www.atarimania.com/roms/Roms.rar\n",
            "Resolving www.atarimania.com (www.atarimania.com)... 195.154.81.199\n",
            "Connecting to www.atarimania.com (www.atarimania.com)|195.154.81.199|:80... connected.\n",
            "HTTP request sent, awaiting response... 200 OK\n",
            "Length: 11128004 (11M) [application/x-rar-compressed]\n",
            "Saving to: ‘Roms.rar.1’\n",
            "\n",
            "Roms.rar.1          100%[===================>]  10.61M   628KB/s    in 18s     \n",
            "\n",
            "2021-08-14 09:12:00 (606 KB/s) - ‘Roms.rar.1’ saved [11128004/11128004]\n",
            "\n",
            "mkdir: cannot create directory ‘/content/ROM/’: File exists\n",
            "\n",
            "UNRAR 5.50 freeware      Copyright (c) 1993-2017 Alexander Roshal\n",
            "\n",
            "\n",
            "Extracting from /content/Roms.rar\n",
            "\n",
            "\n",
            "Would you like to replace the existing file /content/ROM/HC ROMS.zip\n",
            "11826711 bytes, modified on 2019-12-22 11:24\n",
            "with a new one\n",
            "11826711 bytes, modified on 2019-12-22 11:24\n",
            "\n",
            "[Y]es, [N]o, [A]ll, n[E]ver, [R]ename, [Q]uit "
          ],
          "name": "stdout"
        }
      ]
    },
    {
      "cell_type": "code",
      "metadata": {
        "id": "pg2DMaitfSfC"
      },
      "source": [
        "import random\n",
        "import gym\n",
        "import numpy as np\n",
        "from collections import deque\n",
        "import tensorflow as tf\n",
        "from tensorflow.keras.models import Sequential\n",
        "from tensorflow.keras.layers import Dense, Conv2D, MaxPooling2D, Flatten\n",
        "from tensorflow.keras.optimizers import Adam\n",
        "import matplotlib.pyplot as plt"
      ],
      "execution_count": null,
      "outputs": []
    },
    {
      "cell_type": "code",
      "metadata": {
        "id": "sG3A5oZgsX7J"
      },
      "source": [
        "EPOCHS = 1000\n",
        "THRESHOLD = 10\n",
        "MONITOR = False"
      ],
      "execution_count": null,
      "outputs": []
    },
    {
      "cell_type": "code",
      "metadata": {
        "id": "kZZJNFNNfosB"
      },
      "source": [
        "class DQN_atari():\n",
        "    def __init__(self, env_string, batch_size=64, img_size=84, m=4):\n",
        "        self.memory = deque(maxlen=100000)\n",
        "        self.env = gym.make(env_string)\n",
        "        input_size = env.observation_space.shape[0]\n",
        "        action_size = env.action_space.n\n",
        "        self.batch_size = batch_size\n",
        "        self.gamma = 1.0\n",
        "        self.epsilon = 1.0\n",
        "        self.epsilon_min = 0.01\n",
        "        self.epsilon_decay = 0.995\n",
        "        self.img_size = img_size\n",
        "        self.m = m\n",
        "\n",
        "        alpha = 0.01\n",
        "        alpha_decay = 0.01\n",
        "        \n",
        "\n",
        "        self.model = Sequential()\n",
        "        self.model.add(Conv2D(32, 8, (4,4), activation='relu', padding='valid', input_shape=(img_size, img_size, m)))\n",
        "        self.model.add(Conv2D(64, 4, (2,2), activation='relu',padding='valid'))\n",
        "        self.model.add(MaxPooling2D())\n",
        "        self.model.add( Conv2D(64, 3, (1,1), activation='relu',padding='valid'))\n",
        "        self.model.add(MaxPooling2D())\n",
        "        self.model.add(Flatten())\n",
        "        self.model.add(Dense(256, activation='elu'))\n",
        "        self.model.add(Dense(action_size, activation='linear'))\n",
        "        self.model.compile(loss='mse', optimizer=Adam(learning_rate=alpha, decay=alpha_decay))\n",
        "        self.model_target = tf.keras.models.clone_model(self.model)\n",
        "\n",
        "    def remember(self, state, action, reward, next_state, done):\n",
        "        self.memory.append((state, action, reward, next_state, done))\n",
        "    \n",
        "    def choose_action(self, state, epsilon):\n",
        "        if np.random.random() <= epsilon:\n",
        "            return self.env.action_space.sample()\n",
        "        else:\n",
        "            return np.argmax(self.model.predict(state))\n",
        "\n",
        "\n",
        "    #훈련에 필요한 중요한 이미지만 추출한다.\n",
        "    def preprocess_state(self, img):\n",
        "        img_temp = img[31:195]\n",
        "        img_temp = tf.image.rgb_to_grayscale(img_temp)\n",
        "        img_temp = tf.image.resize(img_temp, [self.img_size, self.img_size], method=tf.image.ResizeMethod.NEAREST_NEIGHBOR)\n",
        "        img_temp = tf.cast(img_temp, tf.float32)\n",
        "        return img_temp[:, :,0]\n",
        "\n",
        "    def combine_images(self, img1, img2):\n",
        "        if len(img1.shape) == 3 and img1.shape[0] == self.m:\n",
        "            im = np.append(img1[1:, :, :], np.expand_dims(img2, 0), axis=2)\n",
        "            return tf.expand_dims(im, 0)\n",
        "        else:\n",
        "            im = np.stack([img1]*self.m, axis=2)\n",
        "            return tf.expand_dims(im, 0)\n",
        "    \n",
        "    def replay(self, batch_size):\n",
        "        x_batch, y_batch = [], []\n",
        "        minibatch = random.sample(self.memory, min(len(self.memory), batch_size))\n",
        "        for state, action, reward, next_state, done in minibatch:\n",
        "            y_target = self.model_target.predict(state)\n",
        "            y_target[0][action] = reward if done else reward + self.gamma * np.max(self.model.predict(next_state)[0])\n",
        "            x_batch.append(state[0])\n",
        "            y_batch.append(y_target[0])\n",
        "        \n",
        "        self.model.fit(np.array(x_batch), np.array(y_batch), batch_size=len(x_batch), verbose=0)\n",
        "\n",
        "    def train(self):\n",
        "        scores = deque(maxlen=100)\n",
        "        avg_score = []\n",
        "\n",
        "        for e in range(EPOCHS):\n",
        "            state = self.env.reset()\n",
        "            state = self.preprocess_state(state)\n",
        "            state = self.combine_images(state, state)\n",
        "            done = False\n",
        "            i = 0\n",
        "            while not done:\n",
        "                action = self.choose_action(state, self.epsilon)\n",
        "                next_state,  reward, done, _ = self.env.step(action)\n",
        "                next_state = self.preprocess_state(next_state)\n",
        "                next_state = self.combine_images(next_state, state)\n",
        "                self.remember(state, action, reward, next_state, done)\n",
        "                state = next_state\n",
        "                self.epsilon = max(self.epsilon_min, self.epsilon * self.epsilon_decay)\n",
        "                i += reward\n",
        "\n",
        "            scores.append(i)\n",
        "            mean_score = np.mean(scores) \n",
        "            avg_score.append(mean_score)\n",
        "            if mean_score > THRESHOLD:\n",
        "                print('solved after {} trials ✔'.format(e))\n",
        "                return avg_score\n",
        "\n",
        "            if e % 10 == 0:\n",
        "                print('[Episode {}] - Average Score: {}.'.format(e, mean_score))\n",
        "                self.model_target.set_weights(self.model.get_weights())\n",
        "\n",
        "            self.replay(self.batch_size)\n",
        "\n",
        "        print('Did not solve after {} episodes 😞'.format(e))\n",
        "        return avg_scores"
      ],
      "execution_count": null,
      "outputs": []
    },
    {
      "cell_type": "code",
      "metadata": {
        "id": "_SxB0_L2uCuG"
      },
      "source": [
        "tf.keras.backend.clear_session()\n",
        "tf.config.experimental.VirtualDeviceConfiguration(memory_limit=4096)\n",
        "env_string = 'BreakoutDeterministic-v4'\n",
        "agent = DQN_atari(env_string)\n",
        "print(\"Main Model\", agent.model.summary())\n",
        "print(\"Target Model\", agent.model_target.summary())\n",
        "scores = agent.train()\n",
        "plt.plot(scores)\n",
        "plt.show()\n",
        "agent.env.close()"
      ],
      "execution_count": null,
      "outputs": []
    },
    {
      "cell_type": "code",
      "metadata": {
        "id": "o44bgTmkPlKU"
      },
      "source": [
        "model.save('drive/MyDrive/Colab Notebooks/models/DQN_CartPole/CartPole-v0')"
      ],
      "execution_count": null,
      "outputs": []
    }
  ]
}