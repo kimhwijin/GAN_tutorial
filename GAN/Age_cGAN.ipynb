{
  "nbformat": 4,
  "nbformat_minor": 0,
  "metadata": {
    "colab": {
      "name": "Age_cGAN.ipynb",
      "provenance": [],
      "collapsed_sections": [],
      "mount_file_id": "1IKT8pFC-tInsJZjmS3s9ni8KMpI9l5ez",
      "authorship_tag": "ABX9TyN/PrsbUY9ty2QHJCZEbXyt",
      "include_colab_link": true
    },
    "kernelspec": {
      "name": "python3",
      "display_name": "Python 3"
    },
    "language_info": {
      "name": "python"
    }
  },
  "cells": [
    {
      "cell_type": "markdown",
      "metadata": {
        "id": "view-in-github",
        "colab_type": "text"
      },
      "source": [
        "<a href=\"https://colab.research.google.com/github/kimhwijin/TensorflowWithKeras/blob/master/GAN/Age_cGAN.ipynb\" target=\"_parent\"><img src=\"https://colab.research.google.com/assets/colab-badge.svg\" alt=\"Open In Colab\"/></a>"
      ]
    },
    {
      "cell_type": "code",
      "metadata": {
        "id": "NgPQHOEAodRW"
      },
      "source": [
        "import math\n",
        "import time\n",
        "import matplotlib.pyplot as plt\n",
        "import numpy as np\n",
        "import tensorflow as tf\n",
        "from tensorflow.keras as K\n",
        "from tensorflow.keras  import Input, Module, layers, optimizers, utils\n",
        "from tensorflow.keras.applications import InceptionResNetV2\n",
        "from tensorflow.keras.callbacks import TensorBoard\n",
        "from keras_preprocessing import image\n",
        "from scipy.io import loadmat\n",
        "import os\n",
        "from datetime import datetime"
      ],
      "execution_count": null,
      "outputs": []
    },
    {
      "cell_type": "code",
      "metadata": {
        "colab": {
          "base_uri": "https://localhost:8080/"
        },
        "id": "vibFeKaioSnk",
        "outputId": "c2254ded-5e73-4f18-e5d2-266712fb8b4b"
      },
      "source": [
        "def load_data(wiki_dir, dataset='wiki'):\n",
        "  meta = loadmat(os.path.join(wiki_dir, \"{}.mat\".format(dataset)))\n",
        "  full_path = meta[dataset][0, 0][\"full_path\"][0]\n",
        "  dob = meta[dataset][0, 0][\"dob\"][0]\n",
        "  photo_taken = meta[dataset][0, 0][\"photo_taken\"][0]\n",
        "  age = [calculate_age(photo_taken[i], dob[i]) for i in range(len(dob))]\n",
        "  images = []\n",
        "  age_list = []\n",
        "\n",
        "  for index, image_path in enumerate(full_path):\n",
        "    images.append(image_path[0])\n",
        "    age_list.append(age[index])\n",
        "\n",
        "  return images, age_list\n",
        "\n",
        "def caluclate_age(taken, dob):\n",
        "  birth = datetime.fromordinal(max(int(dob) - 366, 1))\n",
        "  if brith.month < 7:\n",
        "    return taken - brith.year\n",
        "  else:\n",
        "    return taken - birth.year - 1\n",
        "\n",
        "images, age_list = load_data(\"drive/MyDrive/wiki_crop/\", dataset='wiki')"
      ],
      "execution_count": null,
      "outputs": [
        {
          "output_type": "stream",
          "text": [
            "False\n"
          ],
          "name": "stdout"
        }
      ]
    },
    {
      "cell_type": "code",
      "metadata": {
        "id": "44MVXf2Xs_Oh"
      },
      "source": [
        ""
      ],
      "execution_count": null,
      "outputs": []
    }
  ]
}