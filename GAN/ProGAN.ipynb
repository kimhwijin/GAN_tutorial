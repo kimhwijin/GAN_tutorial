{
  "nbformat": 4,
  "nbformat_minor": 0,
  "metadata": {
    "colab": {
      "name": "ProGAN.ipynb",
      "provenance": [],
      "collapsed_sections": [],
      "mount_file_id": "1V8pvohIVeewLJG51eawuq5_FKldQe1UX",
      "authorship_tag": "ABX9TyMbsBvnU66VnzKWHp/nLpOR",
      "include_colab_link": true
    },
    "kernelspec": {
      "name": "python3",
      "display_name": "Python 3"
    },
    "language_info": {
      "name": "python"
    },
    "accelerator": "TPU"
  },
  "cells": [
    {
      "cell_type": "markdown",
      "metadata": {
        "id": "view-in-github",
        "colab_type": "text"
      },
      "source": [
        "<a href=\"https://colab.research.google.com/github/kimhwijin/TensorflowWithKeras/blob/master/GAN/ProGAN.ipynb\" target=\"_parent\"><img src=\"https://colab.research.google.com/assets/colab-badge.svg\" alt=\"Open In Colab\"/></a>"
      ]
    },
    {
      "cell_type": "code",
      "metadata": {
        "id": "M-BKZ86cM1b2"
      },
      "source": [
        "import tensorflow as tf\n",
        "from tensorflow.keras import models, layers, datasets, optimizers\n",
        "\n",
        "from tensorflow.keras.applications.inception_v3 import InceptionV3\n",
        "\n",
        "import matplotlib.pyplot as plt\n",
        "import sys\n",
        "import numpy as np"
      ],
      "execution_count": 1,
      "outputs": []
    },
    {
      "cell_type": "code",
      "metadata": {
        "id": "RAP-rD0PPrqh"
      },
      "source": [
        "class ProGAN():\n",
        "  def __init__(self, rows, cols, channels, z=10):\n",
        "    #input shape\n",
        "    self.img_rows = rows\n",
        "    self.img_cols = cols\n",
        "    self.channels = channels\n",
        "    self.img_shape = (self.img_rows, self.img_cols, self.channels)\n",
        "    self.generated_shape = (2, 2, 1)\n",
        "    self.latent_dim = z\n",
        "\n",
        "    optimizer = optimizers.Adam(0.0002, 0.5)\n",
        "    \n",
        "    #build and compile the discriminator\n",
        "    self.discriminator = self.build_discriminator()\n",
        "    self.discriminator.compile(loss='binary_crossentropy', optimizer=optimizer, metrics=['accuracy'])\n",
        "\n",
        "    #build the generator\n",
        "    self.generator = self.build_generator()\n",
        "\n",
        "    #the generator takes noise as input and generates imgs\n",
        "    z = tf.keras.Input(shape=(self.latent_dim,))\n",
        "    img = self.generator(z)\n",
        "\n",
        "    # The discriminator takes generated images as input and determines validity\n",
        "    valid = self.discriminator(img)\n",
        "\n",
        "    #생성기 판별기 결합\n",
        "    self.combined = models.Model(z, valid)\n",
        "    self.combined.compile(loss='binary_crossentropy', optimizer=optimizer)\n",
        "\n",
        "  def build_generator(self):\n",
        "\n",
        "    model = models.Sequential()\n",
        "\n",
        "    model.add(layers.Dense(128 * 2 * 2, activation=\"relu\", input_dim=10))\n",
        "    model.add(layers.Reshape((2, 2, 128)))\n",
        "\n",
        "    model.add(layers.Conv2DTranspose(128,kernel_size=3))\n",
        "    model.add(layers.BatchNormalization(momentum=0.8))\n",
        "    model.add(layers.Activation(\"relu\"))\n",
        "\n",
        "    model.add(layers.Conv2DTranspose(128,kernel_size=3))\n",
        "    model.add(layers.BatchNormalization(momentum=0.8))\n",
        "    model.add(layers.Activation(\"relu\"))\n",
        "\n",
        "    model.add(layers.Conv2DTranspose(64,kernel_size=3))\n",
        "    model.add(layers.BatchNormalization(momentum=0.8))\n",
        "    model.add(layers.Activation(\"relu\"))\n",
        "\n",
        "    model.summary()\n",
        "\n",
        "    noise = tf.keras.Input(shape=(self.latent_dim,))\n",
        "    img = model(noise)\n",
        "\n",
        "    return models.Model(noise, img)\n",
        "\n",
        "  def build_discriminator(self):\n",
        "    print(\"gener\")\n",
        "    model = models.Sequential()\n",
        "\n",
        "    model.add(layers.Conv2D(32, kernel_size=3, strides=2, input_shape=self.generated_shape, padding='same'))\n",
        "    model.add(layers.LeakyReLU(alpha=0.2))\n",
        "    model.add(layers.Dropout(0.25))\n",
        "    model.add(layers.Conv2D(64, kernel_size=3, strides=2, padding='same'))\n",
        "    model.add(layers.ZeroPadding2D(padding=((0,1),(0,1))))\n",
        "    model.add(layers.BatchNormalization(momentum=0.8))\n",
        "    model.add(layers.LeakyReLU(alpha=0.2))\n",
        "    model.add(layers.Dropout(0.25))\n",
        "    model.add(layers.Conv2D(128, kernel_size=3, strides=2, padding=\"same\"))\n",
        "    model.add(layers.BatchNormalization(momentum=0.8))\n",
        "    model.add(layers.LeakyReLU(alpha=0.2))\n",
        "    model.add(layers.Dropout(0.25))\n",
        "    model.add(layers.Conv2D(256, kernel_size=3, strides=1, padding=\"same\"))\n",
        "    model.add(layers.BatchNormalization(momentum=0.8))\n",
        "    model.add(layers.LeakyReLU(alpha=0.2))\n",
        "    model.add(layers.Dropout(0.25))\n",
        "    model.add(layers.Flatten())\n",
        "    model.add(layers.Dense(1, activation='sigmoid'))\n",
        "\n",
        "    model.summary()\n",
        "\n",
        "    img = tf.keras.Input(shape=self.generated_shape)\n",
        "    validity = model(img)\n",
        "\n",
        "    return models.Model(img, validity)\n",
        "\n",
        "\n",
        "  def train(self, epochs, batch_size=256, save_interval=50):\n",
        "    #load dataset\n",
        "    (X_train, y_train), (x_test, y_test) = datasets.mnist.load_data()\n",
        "\n",
        "    #Rescale -1 to 1\n",
        "    X_train = X_train / 127.5 -1.\n",
        "    X_train = np.expand_dims(X_train, axis=3)\n",
        "\n",
        "    #Adversarial ground truths\n",
        "    valid = np.ones((batch_size, 1))\n",
        "    fake = np.zeros((batch_size, 1))\n",
        "\n",
        "    for epoch in range(epochs):\n",
        "\n",
        "      #판별기 훈련\n",
        "\n",
        "      #이미지의 랜덤 절반 선택\n",
        "      idx = np.random.randint(0, X_train.shape[0], batch_size)\n",
        "      imgs = X_train[idx]\n",
        "\n",
        "      #noise 생성\n",
        "      noise = np.random.normal(0, 1, (batch_size, self.latent_dim))\n",
        "      gen_imgs = self.generator.predict(noise)\n",
        "\n",
        "      r = np.concatenate([imgs, gen_imgs], axis=0)\n",
        "      p_y = np.mean(r, axis=0)\n",
        "      e = r*np.log(r/p_y)\n",
        "      e = np.sum(e, axis=1)\n",
        "      e = np.mean(e, axis=0)\n",
        "      e = np.exp(e)\n",
        "      print(\"Inception Score : \",end='')\n",
        "      print(e)\n",
        "\n",
        "\n",
        "\n",
        "      #판별기 훈련 (진짜이미지 1 , 가짜 이미지 0)\n",
        "      d_loss_real = self.discriminator.train_on_batch(imgs, valid)\n",
        "      d_loss_fake = self.discriminator.train_on_batch(gen_imgs, fake)\n",
        "      d_loss = 0.5 * np.add(d_loss_real, d_loss_fake)\n",
        "\n",
        "      #생성기 훈련\n",
        "\n",
        "      #판별기의 값이 1이 되도록\n",
        "      g_loss = self.combined.train_on_batch(noise, valid)\n",
        "\n",
        "      \n",
        "      print('%d [D loss : %f, acc : %.2f%%] [G loss : %f]' %(epoch, d_loss[0], 100*d_loss[1], g_loss))\n",
        "      \n",
        "      if epoch % save_interval == 0:\n",
        "        self.save_imgs(epoch)\n",
        "        \n",
        "  def save_imgs(self, epoch):\n",
        "    r, c = 5, 5\n",
        "    noise = np.random.normal(0, 1, (r * c, self.latent_dim))\n",
        "    gen_imgs = self.generator.predict(noise)\n",
        "\n",
        "    #Rescale image 0 - 1\n",
        "    gen_imgs = 0.5 * gen_imgs + 0.5\n",
        "\n",
        "    fig, axs = plt.subplots(r,c)\n",
        "    cnt = 0\n",
        "    for i in range(r):\n",
        "      for j in range(c):\n",
        "        axs[i,j].imshow(gen_imgs[cnt, :,:,0], cmap='gray')\n",
        "        axs[i,j].axis('off')\n",
        "        cnt += 1\n",
        "    fig.savefig('drive/MyDrive/Colab Notebooks/result_data/dcgan_mnist_%d.png' % epoch)\n",
        "\n",
        "    plt.close()"
      ],
      "execution_count": null,
      "outputs": []
    },
    {
      "cell_type": "code",
      "metadata": {
        "id": "mo3ie5IdnBdt"
      },
      "source": [
        "progan = ProGAN(28, 28, 1)"
      ],
      "execution_count": null,
      "outputs": []
    },
    {
      "cell_type": "code",
      "metadata": {
        "id": "J3i3eZyePdYU"
      },
      "source": [
        "model = create_model()\n",
        "checkpoint_path = \"drive/MyDrive/Colab Notebooks/models/MNIST/cp.ckpt\"\n",
        "model.load_weights(checkpoint_path)"
      ],
      "execution_count": null,
      "outputs": []
    },
    {
      "cell_type": "code",
      "metadata": {
        "id": "28ucbqaSNW97"
      },
      "source": [
        "def upscale_layer(layer, upscale_factor):\n",
        "  height, width = layer.get_shape[1:3]\n",
        "  size = (upscale_factor * height , upscale_factor * width)\n",
        "  upscaled_layer = tf.image.resize_nearest_neighbor(layer, size)\n",
        "\n",
        "  return upscaled_layer"
      ],
      "execution_count": null,
      "outputs": []
    },
    {
      "cell_type": "code",
      "metadata": {
        "id": "dsykTiwfNuFu"
      },
      "source": [
        "def smoothly_image_last_layer(list_of_layers, alpha):\n",
        "  last_fully_trained_layer = list_of_layers[-2]\n",
        "  last_layer_upscaled = upscale_layer(last_fully_trained_layer, 2)\n",
        "\n",
        "  larger_native_layer = list_of_layers[-1]\n",
        "\n",
        "  assert larger_native_layer.get_shape() == last_layer_upscaled.get_shape()\n",
        "\n",
        "  new_layer = (1 - alpha) * last_layer_upscaled + larger_native_layer * alpha\n",
        "\n",
        "  return new_layer"
      ],
      "execution_count": null,
      "outputs": []
    },
    {
      "cell_type": "code",
      "metadata": {
        "id": "ZXeVMmjqOzs0"
      },
      "source": [
        "def minibatch_std_layer(layer, group_size=4):\n",
        "  group_size = K.backend.minimum(group_size, tf.shape(layer)[0])\n",
        "  shape = list(K.int_shape(layer.input))\n",
        "  shape[0] = tf.shape(layer.input)[0]\n",
        "  minibatch = K.backend.reshape(layer, (group_size, -1 , shape[1] , shape[2], shape[3]))\n",
        "\n",
        "  minibatch -= tf.reduce_mean(minibatch, axis=0, keepdims=True)\n",
        "\n",
        "  minibatch = tf.reduce_mean(K.backend.square(minibatch), axis=0)\n",
        "  minibatch = K.backend.square(minibatch + 1e-8)\n",
        "\n",
        "  minibatch = tf.reduce_mean(minibatch, axis=[1,2,3], keepdims=True)\n",
        "\n",
        "  minibatch = K.backend.tile(minibatch, [group_size, 1, shape[2], shape[3]])\n",
        "  return K.backend.concatenate([layer, minibatch], axis=1)\n"
      ],
      "execution_count": null,
      "outputs": []
    },
    {
      "cell_type": "code",
      "metadata": {
        "id": "u76wCvfQRxiH"
      },
      "source": [
        "import matplotlib.pyplot as plt\n",
        "import tensorflow as tf\n",
        "import tensorflow_hub as hub\n",
        "\n",
        "progan_url = \"https://tfhub.dev/google/progan-128/1\"\n",
        "module = hub.KerasLayer(progan_url)"
      ],
      "execution_count": null,
      "outputs": []
    },
    {
      "cell_type": "code",
      "metadata": {
        "colab": {
          "base_uri": "https://localhost:8080/",
          "height": 268
        },
        "id": "CT8J5p2HbOCt",
        "outputId": "3614a467-c688-46a6-9203-1d4dfc695373"
      },
      "source": [
        "latent_dim = 512\n",
        "IMAGE_SIZE = (128,128)\n",
        "latent_vector = tf.random.normal([1, latent_dim], seed=1000)\n",
        "interpolated_images = module(latent_vector)\n",
        "plt.imshow(interpolated_images.numpy().reshape((128,128,3)))\n",
        "plt.show()"
      ],
      "execution_count": null,
      "outputs": [
        {
          "output_type": "display_data",
          "data": {
            "image/png": "[encoded data removed]",
            "text/plain": [
              "<Figure size 432x288 with 1 Axes>"
            ]
          },
          "metadata": {
            "tags": [],
            "needs_background": "light"
          }
        }
      ]
    },
    {
      "cell_type": "code",
      "metadata": {
        "colab": {
          "base_uri": "https://localhost:8080/"
        },
        "id": "XILwLSV9w_SI",
        "outputId": "3f967990-35c4-4190-a6bf-1e2ad67e849f"
      },
      "source": [
        "class MyDenseLayer(tf.keras.layers.Layer):\n",
        "  def __init__(self, num_outputs):\n",
        "    super(MyDenseLayer, self).__init__()\n",
        "    self.num_outputs = num_outputs\n",
        "\n",
        "  def build(self, input_shape):\n",
        "    print(input_shape)\n",
        "\n",
        "  def call(self, input):\n",
        "    print(input)\n",
        "    return input\n",
        "\n",
        "layer = MyDenseLayer(10)\n",
        "print(layer(tf.random.normal([10, 5])))\n",
        "#print(layer.trainable_variables)"
      ],
      "execution_count": 63,
      "outputs": [
        {
          "output_type": "stream",
          "text": [
            "(10, 5)\n",
            "tf.Tensor(\n",
            "[[-1.508789   -0.03788033  0.15119284 -0.5473662   1.087177  ]\n",
            " [ 0.27785864 -0.58629817  0.54049516 -0.60138583 -0.48297602]\n",
            " [-0.45089304  0.06711877 -1.1484954   0.0901693  -0.29280603]\n",
            " [-0.77782106 -1.5104771  -0.697866    0.61076534  0.5426677 ]\n",
            " [-0.19548991  1.1133326  -1.3298078   0.12520619  0.77839977]\n",
            " [-2.4731505   0.70979047 -0.19913195 -0.9724329  -2.201666  ]\n",
            " [ 0.89199317  0.09167212 -0.39265132  1.1577322   0.02796225]\n",
            " [ 0.02664092 -0.03763173 -1.0530379   1.2160151  -0.0122673 ]\n",
            " [ 0.3657444   1.331804    1.4453018   1.0237848   0.40014526]\n",
            " [-0.87259316  1.6184914  -0.19320422 -0.16565752  1.0525728 ]], shape=(10, 5), dtype=float32)\n",
            "tf.Tensor(\n",
            "[[-1.508789   -0.03788033  0.15119284 -0.5473662   1.087177  ]\n",
            " [ 0.27785864 -0.58629817  0.54049516 -0.60138583 -0.48297602]\n",
            " [-0.45089304  0.06711877 -1.1484954   0.0901693  -0.29280603]\n",
            " [-0.77782106 -1.5104771  -0.697866    0.61076534  0.5426677 ]\n",
            " [-0.19548991  1.1133326  -1.3298078   0.12520619  0.77839977]\n",
            " [-2.4731505   0.70979047 -0.19913195 -0.9724329  -2.201666  ]\n",
            " [ 0.89199317  0.09167212 -0.39265132  1.1577322   0.02796225]\n",
            " [ 0.02664092 -0.03763173 -1.0530379   1.2160151  -0.0122673 ]\n",
            " [ 0.3657444   1.331804    1.4453018   1.0237848   0.40014526]\n",
            " [-0.87259316  1.6184914  -0.19320422 -0.16565752  1.0525728 ]], shape=(10, 5), dtype=float32)\n"
          ],
          "name": "stdout"
        }
      ]
    },
    {
      "cell_type": "code",
      "metadata": {
        "id": "EKFGFTCAw_XP"
      },
      "source": [
        "class PixelwiseNormalization(tf.keras.layers.Layer):\n",
        "  def __init__(self):\n",
        "    super(PixelwiseNormalization, self).__init__()\n",
        "    \n",
        "  def call(self, input):\n",
        "    input_shape = input.shape\n",
        "    epsillon = 10e-8\n",
        "    divied = tf.keras.backend.square(input)\n",
        "    divied = tf.keras.backend.sum(divied,axis=-1)\n",
        "    divied = divied / tf.cast(input_shape[-1], tf.float32)\n",
        "    divied = tf.keras.backend.sqrt(divied)\n",
        "    divied = tf.expand_dims(divied, axis=-1)\n",
        "\n",
        "    return input / divied\n",
        "\n",
        "pixelwiseNormalization = PixelwiseNormalization()"
      ],
      "execution_count": null,
      "outputs": []
    },
    {
      "cell_type": "code",
      "metadata": {
        "colab": {
          "base_uri": "https://localhost:8080/"
        },
        "id": "CxCNP8LExIYK",
        "outputId": "f57616af-7894-4e92-be9e-493281a3e97d"
      },
      "source": [
        "(x_train, y_train) , (x_test, y_test) = datasets.mnist.load_data()\n",
        "x_train = np.expand_dims(x_train, axis=-1)\n",
        "resized_images = tf.image.resize(x_train, [32,32],method='nearest')\n",
        "print(x_train.shape)"
      ],
      "execution_count": 28,
      "outputs": [
        {
          "output_type": "stream",
          "text": [
            "(60000, 28, 28)\n",
            "(60000, 32, 32, 1)\n"
          ],
          "name": "stdout"
        }
      ]
    },
    {
      "cell_type": "markdown",
      "metadata": {
        "id": "vGJONbYIxCqx"
      },
      "source": [
        "MNIST 32x32 <br>\n",
        "latent : 64 <br>\n",
        "batch : 128 <br>\n",
        "[128, 64, 1, 1] ->\n",
        "[128, 32, 3, 3] -> \n",
        "[128, 16, 7, 7] ->\n",
        "[128, 8, 14, 14] -> \n",
        "[128, 4, 28, 28] ->\n",
        "[128, 1, 28, 28]\n"
      ]
    },
    {
      "cell_type": "code",
      "metadata": {
        "id": "uLqw3giQI00_"
      },
      "source": [
        "latent_dim = 64\n",
        "batch_size = 128\n",
        "generated_shape = (32,32,1)"
      ],
      "execution_count": 85,
      "outputs": []
    },
    {
      "cell_type": "code",
      "metadata": {
        "colab": {
          "base_uri": "https://localhost:8080/"
        },
        "id": "NcCPC8zUxTWJ",
        "outputId": "643d1ebd-b03a-4e3e-bf06-88572f064360"
      },
      "source": [
        "generator_32 = models.Sequential()\n",
        "generator_32.add(layers.Dense(64 * 2 * 2, activation=\"relu\", input_dim=64))\n",
        "\n",
        "generator_32.add(layers.Reshape((2,2,64)))\n",
        "\n",
        "generator_32.add(layers.Conv2D(32,kernel_size=3,padding='same'))\n",
        "generator_32.add(layers.LeakyReLU(alpha=0.2))\n",
        "generator_32.add(PixelwiseNormalization())\n",
        "generator_32.add(layers.Conv2D(32,kernel_size=3,padding='same'))\n",
        "generator_32.add(layers.LeakyReLU(alpha=0.2))\n",
        "generator_32.add(PixelwiseNormalization())\n",
        "generator_32.add(layers.UpSampling2D(interpolation='nearest'))\n",
        "\n",
        "\n",
        "generator_32.add(layers.Conv2D(16,kernel_size=3, padding='same'))\n",
        "generator_32.add(layers.LeakyReLU(alpha=0.2))\n",
        "generator_32.add(PixelwiseNormalization())\n",
        "generator_32.add(layers.Conv2D(16,kernel_size=3, padding='same'))\n",
        "generator_32.add(layers.LeakyReLU(alpha=0.2))\n",
        "generator_32.add(PixelwiseNormalization())\n",
        "generator_32.add(layers.UpSampling2D(interpolation='nearest'))\n",
        "\n",
        "\n",
        "generator_32.add(layers.Conv2D(8,kernel_size=3, padding='same'))\n",
        "generator_32.add(layers.LeakyReLU(alpha=0.2))\n",
        "generator_32.add(PixelwiseNormalization())\n",
        "generator_32.add(layers.Conv2D(8,kernel_size=3, padding='same'))\n",
        "generator_32.add(layers.LeakyReLU(alpha=0.2))\n",
        "generator_32.add(PixelwiseNormalization())\n",
        "generator_32.add(layers.UpSampling2D(interpolation='nearest'))\n",
        "\n",
        "generator_32.add(layers.Conv2D(4,kernel_size=3, padding='same'))\n",
        "generator_32.add(layers.LeakyReLU(alpha=0.2))\n",
        "generator_32.add(PixelwiseNormalization())\n",
        "generator_32.add(layers.Conv2D(4,kernel_size=3, padding='same'))\n",
        "generator_32.add(layers.LeakyReLU(alpha=0.2))\n",
        "generator_32.add(PixelwiseNormalization())\n",
        "generator_32.add(layers.UpSampling2D(interpolation='nearest'))\n",
        "\n",
        "generator_32.add(layers.Conv2D(1,kernel_size=1, padding='same', activation='tanh'))\n",
        "\n",
        "generator_32.summary()\n"
      ],
      "execution_count": 83,
      "outputs": [
        {
          "output_type": "stream",
          "text": [
            "Model: \"sequential_28\"\n",
            "_________________________________________________________________\n",
            "Layer (type)                 Output Shape              Param #   \n",
            "=================================================================\n",
            "dense_19 (Dense)             (None, 256)               16640     \n",
            "_________________________________________________________________\n",
            "reshape_18 (Reshape)         (None, 2, 2, 64)          0         \n",
            "_________________________________________________________________\n",
            "conv2d_71 (Conv2D)           (None, 2, 2, 32)          18464     \n",
            "_________________________________________________________________\n",
            "leaky_re_lu_53 (LeakyReLU)   (None, 2, 2, 32)          0         \n",
            "_________________________________________________________________\n",
            "pixelwise_normalization_18 ( (None, 2, 2, 32)          0         \n",
            "_________________________________________________________________\n",
            "conv2d_72 (Conv2D)           (None, 2, 2, 32)          9248      \n",
            "_________________________________________________________________\n",
            "leaky_re_lu_54 (LeakyReLU)   (None, 2, 2, 32)          0         \n",
            "_________________________________________________________________\n",
            "pixelwise_normalization_19 ( (None, 2, 2, 32)          0         \n",
            "_________________________________________________________________\n",
            "up_sampling2d_44 (UpSampling (None, 4, 4, 32)          0         \n",
            "_________________________________________________________________\n",
            "conv2d_73 (Conv2D)           (None, 4, 4, 16)          4624      \n",
            "_________________________________________________________________\n",
            "leaky_re_lu_55 (LeakyReLU)   (None, 4, 4, 16)          0         \n",
            "_________________________________________________________________\n",
            "pixelwise_normalization_20 ( (None, 4, 4, 16)          0         \n",
            "_________________________________________________________________\n",
            "conv2d_74 (Conv2D)           (None, 4, 4, 16)          2320      \n",
            "_________________________________________________________________\n",
            "leaky_re_lu_56 (LeakyReLU)   (None, 4, 4, 16)          0         \n",
            "_________________________________________________________________\n",
            "pixelwise_normalization_21 ( (None, 4, 4, 16)          0         \n",
            "_________________________________________________________________\n",
            "up_sampling2d_45 (UpSampling (None, 8, 8, 16)          0         \n",
            "_________________________________________________________________\n",
            "conv2d_75 (Conv2D)           (None, 8, 8, 8)           1160      \n",
            "_________________________________________________________________\n",
            "leaky_re_lu_57 (LeakyReLU)   (None, 8, 8, 8)           0         \n",
            "_________________________________________________________________\n",
            "pixelwise_normalization_22 ( (None, 8, 8, 8)           0         \n",
            "_________________________________________________________________\n",
            "conv2d_76 (Conv2D)           (None, 8, 8, 8)           584       \n",
            "_________________________________________________________________\n",
            "leaky_re_lu_58 (LeakyReLU)   (None, 8, 8, 8)           0         \n",
            "_________________________________________________________________\n",
            "pixelwise_normalization_23 ( (None, 8, 8, 8)           0         \n",
            "_________________________________________________________________\n",
            "up_sampling2d_46 (UpSampling (None, 16, 16, 8)         0         \n",
            "_________________________________________________________________\n",
            "conv2d_77 (Conv2D)           (None, 16, 16, 4)         292       \n",
            "_________________________________________________________________\n",
            "leaky_re_lu_59 (LeakyReLU)   (None, 16, 16, 4)         0         \n",
            "_________________________________________________________________\n",
            "pixelwise_normalization_24 ( (None, 16, 16, 4)         0         \n",
            "_________________________________________________________________\n",
            "conv2d_78 (Conv2D)           (None, 16, 16, 4)         148       \n",
            "_________________________________________________________________\n",
            "leaky_re_lu_60 (LeakyReLU)   (None, 16, 16, 4)         0         \n",
            "_________________________________________________________________\n",
            "pixelwise_normalization_25 ( (None, 16, 16, 4)         0         \n",
            "_________________________________________________________________\n",
            "up_sampling2d_47 (UpSampling (None, 32, 32, 4)         0         \n",
            "_________________________________________________________________\n",
            "conv2d_79 (Conv2D)           (None, 32, 32, 1)         5         \n",
            "=================================================================\n",
            "Total params: 53,485\n",
            "Trainable params: 53,485\n",
            "Non-trainable params: 0\n",
            "_________________________________________________________________\n"
          ],
          "name": "stdout"
        }
      ]
    },
    {
      "cell_type": "code",
      "metadata": {
        "colab": {
          "base_uri": "https://localhost:8080/"
        },
        "id": "KW-tN-zRIEge",
        "outputId": "eff44457-f1d2-4bb7-f0a3-7e04c646488c"
      },
      "source": [
        "dircriminator_32 = models.Sequential()\n",
        "\n",
        "dircriminator_32.add(layers.Conv2D(4, kernel_size=1, input_shape=generated_shape, padding='same'))\n",
        "dircriminator_32.add(layers.LeakyReLU(alpha=0.2))\n",
        "\n",
        "dircriminator_32.add(layers.Conv2D(4, kernel_size=3, padding='same'))\n",
        "dircriminator_32.add(layers.LeakyReLU(alpha=0.2))\n",
        "dircriminator_32.add(layers.Conv2D(8, kernel_size=3, padding='same'))\n",
        "dircriminator_32.add(layers.LeakyReLU(alpha=0.2))\n",
        "dircriminator_32.add(layers.AveragePooling2D())\n",
        "\n",
        "dircriminator_32.add(layers.Conv2D(8,kernel_size=3, padding='same'))\n",
        "dircriminator_32.add(layers.LeakyReLU(alpha=0.2))\n",
        "dircriminator_32.add(layers.Conv2D(16,kernel_size=3, padding='same'))\n",
        "dircriminator_32.add(layers.LeakyReLU(alpha=0.2))\n",
        "dircriminator_32.add(layers.AveragePooling2D())\n",
        "\n",
        "dircriminator_32.add(layers.Conv2D(16,kernel_size=3, padding='same'))\n",
        "dircriminator_32.add(layers.LeakyReLU(alpha=0.2))\n",
        "dircriminator_32.add(layers.Conv2D(32,kernel_size=3, padding='same'))\n",
        "dircriminator_32.add(layers.LeakyReLU(alpha=0.2))\n",
        "dircriminator_32.add(layers.AveragePooling2D())\n",
        "\n",
        "dircriminator_32.add(layers.Conv2D(32,kernel_size=3, padding='same'))\n",
        "dircriminator_32.add(layers.LeakyReLU(alpha=0.2))\n",
        "dircriminator_32.add(layers.Conv2D(64,kernel_size=3, padding='same'))\n",
        "dircriminator_32.add(layers.LeakyReLU(alpha=0.2))\n",
        "dircriminator_32.add(layers.AveragePooling2D())\n",
        "\n",
        "#minibatch stddev\n",
        "dircriminator_32.add(layers.Conv2D(64,kernel_size=3, padding='same'))\n",
        "dircriminator_32.add(layers.LeakyReLU(alpha=0.2))\n",
        "dircriminator_32.add(layers.Conv2D(64,kernel_size=3, padding='same'))\n",
        "dircriminator_32.add(layers.LeakyReLU(alpha=0.2))\n",
        "\n",
        "dircriminator_32.add(layers.Dense(1, activation='sigmoid'))\n",
        "dircriminator_32.summary()\n"
      ],
      "execution_count": 90,
      "outputs": [
        {
          "output_type": "stream",
          "text": [
            "Model: \"sequential_34\"\n",
            "_________________________________________________________________\n",
            "Layer (type)                 Output Shape              Param #   \n",
            "=================================================================\n",
            "conv2d_126 (Conv2D)          (None, 32, 32, 4)         8         \n",
            "_________________________________________________________________\n",
            "leaky_re_lu_103 (LeakyReLU)  (None, 32, 32, 4)         0         \n",
            "_________________________________________________________________\n",
            "conv2d_127 (Conv2D)          (None, 32, 32, 4)         148       \n",
            "_________________________________________________________________\n",
            "leaky_re_lu_104 (LeakyReLU)  (None, 32, 32, 4)         0         \n",
            "_________________________________________________________________\n",
            "conv2d_128 (Conv2D)          (None, 32, 32, 8)         296       \n",
            "_________________________________________________________________\n",
            "leaky_re_lu_105 (LeakyReLU)  (None, 32, 32, 8)         0         \n",
            "_________________________________________________________________\n",
            "average_pooling2d_19 (Averag (None, 16, 16, 8)         0         \n",
            "_________________________________________________________________\n",
            "conv2d_129 (Conv2D)          (None, 16, 16, 8)         584       \n",
            "_________________________________________________________________\n",
            "leaky_re_lu_106 (LeakyReLU)  (None, 16, 16, 8)         0         \n",
            "_________________________________________________________________\n",
            "conv2d_130 (Conv2D)          (None, 16, 16, 16)        1168      \n",
            "_________________________________________________________________\n",
            "leaky_re_lu_107 (LeakyReLU)  (None, 16, 16, 16)        0         \n",
            "_________________________________________________________________\n",
            "average_pooling2d_20 (Averag (None, 8, 8, 16)          0         \n",
            "_________________________________________________________________\n",
            "conv2d_131 (Conv2D)          (None, 8, 8, 16)          2320      \n",
            "_________________________________________________________________\n",
            "leaky_re_lu_108 (LeakyReLU)  (None, 8, 8, 16)          0         \n",
            "_________________________________________________________________\n",
            "conv2d_132 (Conv2D)          (None, 8, 8, 32)          4640      \n",
            "_________________________________________________________________\n",
            "leaky_re_lu_109 (LeakyReLU)  (None, 8, 8, 32)          0         \n",
            "_________________________________________________________________\n",
            "average_pooling2d_21 (Averag (None, 4, 4, 32)          0         \n",
            "_________________________________________________________________\n",
            "conv2d_133 (Conv2D)          (None, 4, 4, 32)          9248      \n",
            "_________________________________________________________________\n",
            "leaky_re_lu_110 (LeakyReLU)  (None, 4, 4, 32)          0         \n",
            "_________________________________________________________________\n",
            "conv2d_134 (Conv2D)          (None, 4, 4, 64)          18496     \n",
            "_________________________________________________________________\n",
            "leaky_re_lu_111 (LeakyReLU)  (None, 4, 4, 64)          0         \n",
            "_________________________________________________________________\n",
            "average_pooling2d_22 (Averag (None, 2, 2, 64)          0         \n",
            "_________________________________________________________________\n",
            "conv2d_135 (Conv2D)          (None, 2, 2, 64)          36928     \n",
            "_________________________________________________________________\n",
            "leaky_re_lu_112 (LeakyReLU)  (None, 2, 2, 64)          0         \n",
            "_________________________________________________________________\n",
            "conv2d_136 (Conv2D)          (None, 2, 2, 64)          36928     \n",
            "_________________________________________________________________\n",
            "leaky_re_lu_113 (LeakyReLU)  (None, 2, 2, 64)          0         \n",
            "_________________________________________________________________\n",
            "dense_20 (Dense)             (None, 2, 2, 1)           65        \n",
            "=================================================================\n",
            "Total params: 110,829\n",
            "Trainable params: 110,829\n",
            "Non-trainable params: 0\n",
            "_________________________________________________________________\n"
          ],
          "name": "stdout"
        }
      ]
    },
    {
      "cell_type": "code",
      "metadata": {
        "id": "t40fyizi2S4X"
      },
      "source": [
        ""
      ],
      "execution_count": null,
      "outputs": []
    }
  ]
}