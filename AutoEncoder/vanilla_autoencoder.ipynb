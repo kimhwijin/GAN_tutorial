{
  "nbformat": 4,
  "nbformat_minor": 0,
  "metadata": {
    "colab": {
      "name": "vanilla_autoencoder.ipynb",
      "provenance": [],
      "collapsed_sections": [],
      "authorship_tag": "ABX9TyMR97hCE/DEo3eDjBW7VwUr",
      "include_colab_link": true
    },
    "kernelspec": {
      "name": "python3",
      "display_name": "Python 3"
    },
    "language_info": {
      "name": "python"
    }
  },
  "cells": [
    {
      "cell_type": "markdown",
      "metadata": {
        "id": "view-in-github",
        "colab_type": "text"
      },
      "source": [
        "<a href=\"https://colab.research.google.com/github/kimhwijin/TensorflowWithKeras/blob/master/AutoEncoder/vanilla_autoencoder.ipynb\" target=\"_parent\"><img src=\"https://colab.research.google.com/assets/colab-badge.svg\" alt=\"Open In Colab\"/></a>"
      ]
    },
    {
      "cell_type": "code",
      "metadata": {
        "id": "UyAJEoi_mRkq"
      },
      "source": [
        "import tensorflow as tf\n",
        "import tensorflow.keras as K"
      ],
      "execution_count": 4,
      "outputs": []
    },
    {
      "cell_type": "code",
      "metadata": {
        "id": "uzvVwaXAnqEX"
      },
      "source": [
        "class Encoder(K.layers.Layer):\n",
        "    def __init__(self, hidden_dim):\n",
        "        super(Encoder, self).__init__()\n",
        "        self.hidden_layer = K.layers.Dense(units=hidden_dim, activation='relu')\n",
        "\n",
        "    def call(self, input_features):\n",
        "        activation = self.hidden_layer(input_features)\n",
        "        return activation\n",
        "    \n",
        "class Decoder(K.layers.Layer):\n",
        "    def __init__(self, hidden_dim, original_dim):\n",
        "        super(Decoder, self).__init__()\n",
        "        self.output_layer = K.layers.Dense(original_dim, activation='relu')\n",
        "    \n",
        "    def call(self, encoded):\n",
        "        activation = self.output_layer(encoded)\n",
        "        return activation\n",
        "\n",
        "class Autoencoder(K.Model):\n",
        "    def __init__(self, hidden_dim, original_dim):\n",
        "        super(Autoencoder, self).config/__init__()\n",
        "        self.loss = []\n",
        "        self.encoder = Encoder(hidden_dim)\n",
        "        self.decoder = Decoder(hidden_dim, original_dim)\n",
        "    \n",
        "    def call(self, input_features):\n",
        "        encoded = self.encoder(input_features)\n",
        "        reconstructed = self.decoder(encoded)\n",
        "        return reconstructed\n",
        "    "
      ],
      "execution_count": 5,
      "outputs": []
    }
  ]
}