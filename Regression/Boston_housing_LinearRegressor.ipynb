{
  "nbformat": 4,
  "nbformat_minor": 0,
  "metadata": {
    "colab": {
      "name": "Boston_housing_LinearRegressor.ipynb",
      "provenance": [],
      "collapsed_sections": [],
      "authorship_tag": "ABX9TyNRH2/I//GmGrN1cSPninbq",
      "include_colab_link": true
    },
    "kernelspec": {
      "name": "python3",
      "display_name": "Python 3"
    },
    "language_info": {
      "name": "python"
    }
  },
  "cells": [
    {
      "cell_type": "markdown",
      "metadata": {
        "id": "view-in-github",
        "colab_type": "text"
      },
      "source": [
        "<a href=\"https://colab.research.google.com/github/kimhwijin/TensorflowWithKeras/blob/master/Regression/Boston_housing_LinearRegressor.ipynb\" target=\"_parent\"><img src=\"https://colab.research.google.com/assets/colab-badge.svg\" alt=\"Open In Colab\"/></a>"
      ]
    },
    {
      "cell_type": "code",
      "metadata": {
        "id": "e6EX2dT_mHcR"
      },
      "source": [
        "from IPython.display import clear_output \n",
        "import tensorflow as tf\n",
        "import pandas as pd\n",
        "import tensorflow.feature_column as fc\n",
        "from tensorflow.keras.datasets import boston_housing"
      ],
      "execution_count": null,
      "outputs": []
    },
    {
      "cell_type": "code",
      "metadata": {
        "colab": {
          "base_uri": "https://localhost:8080/",
          "height": 204
        },
        "id": "3eLZ5anEmd0G",
        "outputId": "25ef78fc-6283-4716-de21-9c1bd4e267f5"
      },
      "source": [
        "(x_train, y_train), (x_test, y_test) = boston_housing.load_data()\n",
        "mean = x_train.mean(axis=0)\n",
        "x_train -= mean\n",
        "std = x_train.std(axis=0)\n",
        "x_train /= std\n",
        "x_test -= mean\n",
        "x_test /= std\n",
        "\n",
        "#범죄율, 주거지역 비율, 비상업 지역 비율, 찰스강 인접여부, 산화질소 농도, 평균 방의 개수, 자가 소유비율, 가중거리, 순환 고속도로거리, 재산세율, 학생대 교사비율, 흑인 비율, 하위 계층 비율\n",
        "#자가 가구의 중앙 값\n",
        "features = ['CRIM', 'ZN', 'INDUS', 'CHAS', 'NOX', 'RM', 'AGE', 'DIS', 'RAD', 'TAX', 'PTRATIO', 'B', 'LSTAT']\n",
        "x_train_df = pd.DataFrame(x_train, columns=features)\n",
        "x_test_df = pd.DataFrame(x_test, columns=features)\n",
        "y_train_df = pd.DataFrame(y_train, columns=['MEDV'])\n",
        "y_test_df = pd.DataFrame(y_test, columns=['MEDV'])\n",
        "x_train_df.head()\n"
      ],
      "execution_count": 100,
      "outputs": [
        {
          "output_type": "execute_result",
          "data": {
            "text/html": [
              "<div>\n",
              "<style scoped>\n",
              "    .dataframe tbody tr th:only-of-type {\n",
              "        vertical-align: middle;\n",
              "    }\n",
              "\n",
              "    .dataframe tbody tr th {\n",
              "        vertical-align: top;\n",
              "    }\n",
              "\n",
              "    .dataframe thead th {\n",
              "        text-align: right;\n",
              "    }\n",
              "</style>\n",
              "<table border=\"1\" class=\"dataframe\">\n",
              "  <thead>\n",
              "    <tr style=\"text-align: right;\">\n",
              "      <th></th>\n",
              "      <th>CRIM</th>\n",
              "      <th>ZN</th>\n",
              "      <th>INDUS</th>\n",
              "      <th>CHAS</th>\n",
              "      <th>NOX</th>\n",
              "      <th>RM</th>\n",
              "      <th>AGE</th>\n",
              "      <th>DIS</th>\n",
              "      <th>RAD</th>\n",
              "      <th>TAX</th>\n",
              "      <th>PTRATIO</th>\n",
              "      <th>B</th>\n",
              "      <th>LSTAT</th>\n",
              "    </tr>\n",
              "  </thead>\n",
              "  <tbody>\n",
              "    <tr>\n",
              "      <th>0</th>\n",
              "      <td>-0.272246</td>\n",
              "      <td>-0.483615</td>\n",
              "      <td>-0.435762</td>\n",
              "      <td>-0.256833</td>\n",
              "      <td>-0.165227</td>\n",
              "      <td>-0.176443</td>\n",
              "      <td>0.813062</td>\n",
              "      <td>0.116698</td>\n",
              "      <td>-0.626249</td>\n",
              "      <td>-0.595170</td>\n",
              "      <td>1.148500</td>\n",
              "      <td>0.448077</td>\n",
              "      <td>0.825220</td>\n",
              "    </tr>\n",
              "    <tr>\n",
              "      <th>1</th>\n",
              "      <td>-0.403427</td>\n",
              "      <td>2.991784</td>\n",
              "      <td>-1.333912</td>\n",
              "      <td>-0.256833</td>\n",
              "      <td>-1.215182</td>\n",
              "      <td>1.894346</td>\n",
              "      <td>-1.910361</td>\n",
              "      <td>1.247585</td>\n",
              "      <td>-0.856463</td>\n",
              "      <td>-0.348433</td>\n",
              "      <td>-1.718189</td>\n",
              "      <td>0.431906</td>\n",
              "      <td>-1.329202</td>\n",
              "    </tr>\n",
              "    <tr>\n",
              "      <th>2</th>\n",
              "      <td>0.124940</td>\n",
              "      <td>-0.483615</td>\n",
              "      <td>1.028326</td>\n",
              "      <td>-0.256833</td>\n",
              "      <td>0.628642</td>\n",
              "      <td>-1.829688</td>\n",
              "      <td>1.110488</td>\n",
              "      <td>-1.187439</td>\n",
              "      <td>1.675886</td>\n",
              "      <td>1.565287</td>\n",
              "      <td>0.784476</td>\n",
              "      <td>0.220617</td>\n",
              "      <td>-1.308500</td>\n",
              "    </tr>\n",
              "    <tr>\n",
              "      <th>3</th>\n",
              "      <td>-0.401494</td>\n",
              "      <td>-0.483615</td>\n",
              "      <td>-0.869402</td>\n",
              "      <td>-0.256833</td>\n",
              "      <td>-0.361560</td>\n",
              "      <td>-0.324558</td>\n",
              "      <td>-1.236672</td>\n",
              "      <td>1.107180</td>\n",
              "      <td>-0.511142</td>\n",
              "      <td>-1.094663</td>\n",
              "      <td>0.784476</td>\n",
              "      <td>0.448077</td>\n",
              "      <td>-0.652926</td>\n",
              "    </tr>\n",
              "    <tr>\n",
              "      <th>4</th>\n",
              "      <td>-0.005634</td>\n",
              "      <td>-0.483615</td>\n",
              "      <td>1.028326</td>\n",
              "      <td>-0.256833</td>\n",
              "      <td>1.328612</td>\n",
              "      <td>0.153642</td>\n",
              "      <td>0.694808</td>\n",
              "      <td>-0.578572</td>\n",
              "      <td>1.675886</td>\n",
              "      <td>1.565287</td>\n",
              "      <td>0.784476</td>\n",
              "      <td>0.389882</td>\n",
              "      <td>0.263497</td>\n",
              "    </tr>\n",
              "  </tbody>\n",
              "</table>\n",
              "</div>"
            ],
            "text/plain": [
              "       CRIM        ZN     INDUS  ...   PTRATIO         B     LSTAT\n",
              "0 -0.272246 -0.483615 -0.435762  ...  1.148500  0.448077  0.825220\n",
              "1 -0.403427  2.991784 -1.333912  ... -1.718189  0.431906 -1.329202\n",
              "2  0.124940 -0.483615  1.028326  ...  0.784476  0.220617 -1.308500\n",
              "3 -0.401494 -0.483615 -0.869402  ...  0.784476  0.448077 -0.652926\n",
              "4 -0.005634 -0.483615  1.028326  ...  0.784476  0.389882  0.263497\n",
              "\n",
              "[5 rows x 13 columns]"
            ]
          },
          "metadata": {
            "tags": []
          },
          "execution_count": 100
        }
      ]
    },
    {
      "cell_type": "code",
      "metadata": {
        "id": "87vCi9X6oEpp",
        "colab": {
          "base_uri": "https://localhost:8080/"
        },
        "outputId": "aadf3b96-3065-4660-d24a-7cad38ae66f3"
      },
      "source": [
        "#특징 열 객체리스트 생성\n",
        "feature_columns = []\n",
        "for feature_name in features:\n",
        "  feature_columns.append(fc.numeric_column(feature_name, dtype=tf.float32))\n",
        "print(feature_columns)"
      ],
      "execution_count": 101,
      "outputs": [
        {
          "output_type": "stream",
          "text": [
            "[NumericColumn(key='CRIM', shape=(1,), default_value=None, dtype=tf.float32, normalizer_fn=None), NumericColumn(key='ZN', shape=(1,), default_value=None, dtype=tf.float32, normalizer_fn=None), NumericColumn(key='INDUS', shape=(1,), default_value=None, dtype=tf.float32, normalizer_fn=None), NumericColumn(key='CHAS', shape=(1,), default_value=None, dtype=tf.float32, normalizer_fn=None), NumericColumn(key='NOX', shape=(1,), default_value=None, dtype=tf.float32, normalizer_fn=None), NumericColumn(key='RM', shape=(1,), default_value=None, dtype=tf.float32, normalizer_fn=None), NumericColumn(key='AGE', shape=(1,), default_value=None, dtype=tf.float32, normalizer_fn=None), NumericColumn(key='DIS', shape=(1,), default_value=None, dtype=tf.float32, normalizer_fn=None), NumericColumn(key='RAD', shape=(1,), default_value=None, dtype=tf.float32, normalizer_fn=None), NumericColumn(key='TAX', shape=(1,), default_value=None, dtype=tf.float32, normalizer_fn=None), NumericColumn(key='PTRATIO', shape=(1,), default_value=None, dtype=tf.float32, normalizer_fn=None), NumericColumn(key='B', shape=(1,), default_value=None, dtype=tf.float32, normalizer_fn=None), NumericColumn(key='LSTAT', shape=(1,), default_value=None, dtype=tf.float32, normalizer_fn=None)]\n"
          ],
          "name": "stdout"
        }
      ]
    },
    {
      "cell_type": "code",
      "metadata": {
        "id": "XffD3Cv_o2K_",
        "colab": {
          "base_uri": "https://localhost:8080/"
        },
        "outputId": "a4701210-8d94-41c4-c979-e17048a03d1f"
      },
      "source": [
        "#data set 객체를 feature 과 레이블을 배치로한 튜플을 만듬.\n",
        "def estimator_input_fn(df_data, df_label, epochs=10, shuffle=True, batch_size=32):\n",
        "  def input_function():\n",
        "    ds = tf.data.Dataset.from_tensor_slices((dict(df_data), df_label))\n",
        "    if shuffle:\n",
        "      ds = ds.shuffle(100)\n",
        "    ds = ds.batch(batch_size).repeat(epochs)\n",
        "    return ds\n",
        "  return input_function\n",
        "\n",
        "train_input_fn = estimator_input_fn(x_train_df, y_train_df)\n",
        "val_input_fn = estimator_input_fn(x_test_df, y_test_df, epochs=1, shuffle=False)\n",
        "print(train_input_fn)"
      ],
      "execution_count": 104,
      "outputs": [
        {
          "output_type": "stream",
          "text": [
            "<function estimator_input_fn.<locals>.input_function at 0x7f8b87da5c20>\n"
          ],
          "name": "stdout"
        }
      ]
    },
    {
      "cell_type": "code",
      "metadata": {
        "colab": {
          "base_uri": "https://localhost:8080/"
        },
        "id": "UQCC3zSHpzni",
        "outputId": "7212e27a-ef81-4c42-be1f-c2c4f9a8babb"
      },
      "source": [
        "linear_est = tf.estimator.LinearRegressor(feature_columns=feature_columns)\n",
        "linear_est.train(train_input_fn)\n",
        "result = linear_est.evaluate(val_input_fn)\n",
        "result = linear_est.predict(val_input_fn)\n",
        "clear_output()\n",
        "for pred, exp in zip(result, y_test[:32]):\n",
        "  print(\"Predicted value :\", pred['predictions'][0], \"expected : \", exp)"
      ],
      "execution_count": 106,
      "outputs": [
        {
          "output_type": "stream",
          "text": [
            "INFO:tensorflow:Calling model_fn.\n",
            "INFO:tensorflow:Done calling model_fn.\n",
            "INFO:tensorflow:Graph was finalized.\n",
            "INFO:tensorflow:Restoring parameters from /tmp/tmpl8n0l4m2/model.ckpt-130\n",
            "INFO:tensorflow:Running local_init_op.\n",
            "INFO:tensorflow:Done running local_init_op.\n",
            "Predicted value : -6.67315 expected :  7.2\n",
            "Predicted value : 3.0489113 expected :  18.8\n",
            "Predicted value : 4.288891 expected :  19.0\n",
            "Predicted value : 10.53796 expected :  27.0\n",
            "Predicted value : 6.7189727 expected :  22.2\n",
            "Predicted value : 3.477635 expected :  24.5\n",
            "Predicted value : 10.654866 expected :  31.2\n",
            "Predicted value : 6.841366 expected :  22.9\n",
            "Predicted value : 0.97139955 expected :  20.5\n",
            "Predicted value : 1.7582672 expected :  23.2\n",
            "Predicted value : 2.0056183 expected :  18.6\n",
            "Predicted value : 1.7537775 expected :  14.5\n",
            "Predicted value : -0.43305922 expected :  17.8\n",
            "Predicted value : 13.322069 expected :  50.0\n",
            "Predicted value : -1.7063828 expected :  20.8\n",
            "Predicted value : 5.0059986 expected :  24.3\n",
            "Predicted value : 7.070956 expected :  24.2\n",
            "Predicted value : 6.6324425 expected :  19.8\n",
            "Predicted value : 0.20539999 expected :  19.1\n",
            "Predicted value : 3.2975686 expected :  22.7\n",
            "Predicted value : -5.819104 expected :  12.0\n",
            "Predicted value : -3.0181904 expected :  10.2\n",
            "Predicted value : 4.1464934 expected :  20.0\n",
            "Predicted value : 0.53104496 expected :  18.5\n",
            "Predicted value : 7.7221 expected :  20.9\n",
            "Predicted value : 2.2799296 expected :  23.0\n",
            "Predicted value : 10.968907 expected :  27.5\n",
            "Predicted value : 10.264633 expected :  30.1\n",
            "Predicted value : -4.386304 expected :  9.5\n",
            "Predicted value : 5.455458 expected :  22.0\n",
            "Predicted value : 5.085564 expected :  21.2\n",
            "Predicted value : -1.3823872 expected :  14.1\n"
          ],
          "name": "stdout"
        }
      ]
    }
  ]
}