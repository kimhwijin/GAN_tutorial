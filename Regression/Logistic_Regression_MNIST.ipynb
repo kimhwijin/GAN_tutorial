{
  "nbformat": 4,
  "nbformat_minor": 0,
  "metadata": {
    "colab": {
      "name": "Logistic_Regression_MNIST.ipynb",
      "provenance": [],
      "collapsed_sections": [],
      "authorship_tag": "ABX9TyPRuXfA2/JexRPwEY5wn9nI",
      "include_colab_link": true
    },
    "kernelspec": {
      "name": "python3",
      "display_name": "Python 3"
    },
    "language_info": {
      "name": "python"
    }
  },
  "cells": [
    {
      "cell_type": "markdown",
      "metadata": {
        "id": "view-in-github",
        "colab_type": "text"
      },
      "source": [
        "<a href=\"https://colab.research.google.com/github/kimhwijin/TensorflowWithKeras/blob/master/Regression/Logistic_Regression_MNIST.ipynb\" target=\"_parent\"><img src=\"https://colab.research.google.com/assets/colab-badge.svg\" alt=\"Open In Colab\"/></a>"
      ]
    },
    {
      "cell_type": "code",
      "metadata": {
        "colab": {
          "base_uri": "https://localhost:8080/"
        },
        "id": "BPH7eXmS35g1",
        "outputId": "733bfcf5-1c60-426f-98f8-ee5525ed69cf"
      },
      "source": [
        "import tensorflow as tf\n",
        "from tensorflow import keras\n",
        "\n",
        "import numpy as np\n",
        "import matplotlib.pyplot as plt\n",
        "\n",
        "print(tf.__version__)"
      ],
      "execution_count": 1,
      "outputs": [
        {
          "output_type": "stream",
          "text": [
            "2.4.1\n"
          ],
          "name": "stdout"
        }
      ]
    },
    {
      "cell_type": "code",
      "metadata": {
        "id": "mOaQZUtI4W2K"
      },
      "source": [
        "#load MNIST data\n",
        "((train_data, train_labels), (eval_data, eval_labels)) = keras.datasets.mnist.load_data()\n",
        "\n",
        "#data preprocessing\n",
        "train_data = train_data/np.float32(255)\n",
        "train_labels = train_labels.astype(np.int32)\n",
        "\n",
        "eval_data = eval_data/np.float32(255)\n",
        "eval_labels = eval_labels.astype(np.int32)\n",
        "\n",
        "#define feature column 28 x 28\n",
        "feature_columns = [tf.feature_column.numeric_column('x',shape=[28,28])]"
      ],
      "execution_count": 5,
      "outputs": []
    },
    {
      "cell_type": "code",
      "metadata": {
        "colab": {
          "base_uri": "https://localhost:8080/"
        },
        "id": "LAMWj_pL5EOx",
        "outputId": "a8abde9e-544b-4175-c177-b3e652bf3251"
      },
      "source": [
        "classifier = tf.estimator.LinearClassifier(feature_columns=feature_columns,n_classes=10)\n",
        "train_input_fn = tf.compat.v1.estimator.inputs.numpy_input_fn(\n",
        "    x={\"x\" : train_data,},\n",
        "    y = train_labels,\n",
        "    batch_size = 100,\n",
        "    num_epochs=None,\n",
        "    shuffle=True\n",
        "    )\n",
        "\n",
        "classifier.train(input_fn=train_input_fn, steps=250)"
      ],
      "execution_count": 20,
      "outputs": [
        {
          "output_type": "stream",
          "text": [
            "INFO:tensorflow:Using default config.\n",
            "WARNING:tensorflow:Using temporary folder as model directory: /tmp/tmpauv7xzs1\n",
            "INFO:tensorflow:Using config: {'_model_dir': '/tmp/tmpauv7xzs1', '_tf_random_seed': None, '_save_summary_steps': 100, '_save_checkpoints_steps': None, '_save_checkpoints_secs': 600, '_session_config': allow_soft_placement: true\n",
            "graph_options {\n",
            "  rewrite_options {\n",
            "    meta_optimizer_iterations: ONE\n",
            "  }\n",
            "}\n",
            ", '_keep_checkpoint_max': 5, '_keep_checkpoint_every_n_hours': 10000, '_log_step_count_steps': 100, '_train_distribute': None, '_device_fn': None, '_protocol': None, '_eval_distribute': None, '_experimental_distribute': None, '_experimental_max_worker_delay_secs': None, '_session_creation_timeout_secs': 7200, '_checkpoint_save_graph_def': True, '_service': None, '_cluster_spec': ClusterSpec({}), '_task_type': 'worker', '_task_id': 0, '_global_id_in_cluster': 0, '_master': '', '_evaluation_master': '', '_is_chief': True, '_num_ps_replicas': 0, '_num_worker_replicas': 1}\n",
            "INFO:tensorflow:Calling model_fn.\n",
            "INFO:tensorflow:Done calling model_fn.\n",
            "INFO:tensorflow:Create CheckpointSaverHook.\n"
          ],
          "name": "stdout"
        },
        {
          "output_type": "stream",
          "text": [
            "/usr/local/lib/python3.7/dist-packages/tensorflow/python/keras/engine/base_layer_v1.py:1727: UserWarning: `layer.add_variable` is deprecated and will be removed in a future version. Please use `layer.add_weight` method instead.\n",
            "  warnings.warn('`layer.add_variable` is deprecated and '\n"
          ],
          "name": "stderr"
        },
        {
          "output_type": "stream",
          "text": [
            "INFO:tensorflow:Graph was finalized.\n",
            "INFO:tensorflow:Running local_init_op.\n",
            "INFO:tensorflow:Done running local_init_op.\n",
            "INFO:tensorflow:Calling checkpoint listeners before saving checkpoint 0...\n",
            "INFO:tensorflow:Saving checkpoints for 0 into /tmp/tmpauv7xzs1/model.ckpt.\n",
            "INFO:tensorflow:Calling checkpoint listeners after saving checkpoint 0...\n",
            "INFO:tensorflow:loss = 2.3025854, step = 0\n",
            "INFO:tensorflow:global_step/sec: 431.281\n",
            "INFO:tensorflow:loss = 0.44998986, step = 100 (0.236 sec)\n",
            "INFO:tensorflow:global_step/sec: 482.032\n",
            "INFO:tensorflow:loss = 0.29319078, step = 200 (0.205 sec)\n",
            "INFO:tensorflow:Calling checkpoint listeners before saving checkpoint 250...\n",
            "INFO:tensorflow:Saving checkpoints for 250 into /tmp/tmpauv7xzs1/model.ckpt.\n",
            "INFO:tensorflow:Calling checkpoint listeners after saving checkpoint 250...\n",
            "INFO:tensorflow:Loss for final step: 0.3953451.\n"
          ],
          "name": "stdout"
        },
        {
          "output_type": "execute_result",
          "data": {
            "text/plain": [
              "<tensorflow_estimator.python.estimator.canned.linear.LinearClassifierV2 at 0x7fd388eb04d0>"
            ]
          },
          "metadata": {
            "tags": []
          },
          "execution_count": 20
        }
      ]
    },
    {
      "cell_type": "code",
      "metadata": {
        "colab": {
          "base_uri": "https://localhost:8080/"
        },
        "id": "avpP1vw2791_",
        "outputId": "05fd7cac-d2bf-4db6-a20f-2457b71f2231"
      },
      "source": [
        "DNNclassifier = tf.estimator.DNNClassifier(feature_columns=feature_columns, n_classes=10,hidden_units=[1024,512,256])\n",
        "DNNclassifier.train(input_fn=train_input_fn, steps=250)"
      ],
      "execution_count": 23,
      "outputs": [
        {
          "output_type": "stream",
          "text": [
            "INFO:tensorflow:Using default config.\n",
            "WARNING:tensorflow:Using temporary folder as model directory: /tmp/tmp39m_v1ej\n",
            "INFO:tensorflow:Using config: {'_model_dir': '/tmp/tmp39m_v1ej', '_tf_random_seed': None, '_save_summary_steps': 100, '_save_checkpoints_steps': None, '_save_checkpoints_secs': 600, '_session_config': allow_soft_placement: true\n",
            "graph_options {\n",
            "  rewrite_options {\n",
            "    meta_optimizer_iterations: ONE\n",
            "  }\n",
            "}\n",
            ", '_keep_checkpoint_max': 5, '_keep_checkpoint_every_n_hours': 10000, '_log_step_count_steps': 100, '_train_distribute': None, '_device_fn': None, '_protocol': None, '_eval_distribute': None, '_experimental_distribute': None, '_experimental_max_worker_delay_secs': None, '_session_creation_timeout_secs': 7200, '_checkpoint_save_graph_def': True, '_service': None, '_cluster_spec': ClusterSpec({}), '_task_type': 'worker', '_task_id': 0, '_global_id_in_cluster': 0, '_master': '', '_evaluation_master': '', '_is_chief': True, '_num_ps_replicas': 0, '_num_worker_replicas': 1}\n",
            "INFO:tensorflow:Calling model_fn.\n",
            "INFO:tensorflow:Done calling model_fn.\n",
            "INFO:tensorflow:Create CheckpointSaverHook.\n",
            "INFO:tensorflow:Graph was finalized.\n",
            "INFO:tensorflow:Running local_init_op.\n",
            "INFO:tensorflow:Done running local_init_op.\n",
            "INFO:tensorflow:Calling checkpoint listeners before saving checkpoint 0...\n",
            "INFO:tensorflow:Saving checkpoints for 0 into /tmp/tmp39m_v1ej/model.ckpt.\n",
            "INFO:tensorflow:Calling checkpoint listeners after saving checkpoint 0...\n",
            "INFO:tensorflow:loss = 2.2769623, step = 0\n",
            "INFO:tensorflow:global_step/sec: 35.9009\n",
            "INFO:tensorflow:loss = 2.0721903, step = 100 (2.791 sec)\n",
            "INFO:tensorflow:global_step/sec: 33.0002\n",
            "INFO:tensorflow:loss = 1.8402662, step = 200 (3.032 sec)\n",
            "INFO:tensorflow:Calling checkpoint listeners before saving checkpoint 250...\n",
            "INFO:tensorflow:Saving checkpoints for 250 into /tmp/tmp39m_v1ej/model.ckpt.\n",
            "INFO:tensorflow:Calling checkpoint listeners after saving checkpoint 250...\n",
            "INFO:tensorflow:Loss for final step: 1.6849171.\n"
          ],
          "name": "stdout"
        },
        {
          "output_type": "execute_result",
          "data": {
            "text/plain": [
              "<tensorflow_estimator.python.estimator.canned.dnn.DNNClassifierV2 at 0x7fd386be9c50>"
            ]
          },
          "metadata": {
            "tags": []
          },
          "execution_count": 23
        }
      ]
    },
    {
      "cell_type": "code",
      "metadata": {
        "colab": {
          "base_uri": "https://localhost:8080/"
        },
        "id": "jajTPDO86P0o",
        "outputId": "9146d42b-191f-4fe3-fc3d-2a98ebb462f7"
      },
      "source": [
        "val_input_fn = tf.compat.v1.estimator.inputs.numpy_input_fn(x={'x' : eval_data}, y=eval_labels, num_epochs=1, shuffle=False)\n",
        "\n",
        "eval_results = classifier.evaluate(input_fn=val_input_fn)\n",
        "DNN_eval_results = DNNclassifier.evaluate(input_fn=val_input_fn)\n",
        "print(eval_results)\n",
        "print(DNN_eval_results)"
      ],
      "execution_count": 24,
      "outputs": [
        {
          "output_type": "stream",
          "text": [
            "INFO:tensorflow:Calling model_fn.\n",
            "INFO:tensorflow:Done calling model_fn.\n"
          ],
          "name": "stdout"
        },
        {
          "output_type": "stream",
          "text": [
            "/usr/local/lib/python3.7/dist-packages/tensorflow/python/keras/engine/base_layer_v1.py:1727: UserWarning: `layer.add_variable` is deprecated and will be removed in a future version. Please use `layer.add_weight` method instead.\n",
            "  warnings.warn('`layer.add_variable` is deprecated and '\n"
          ],
          "name": "stderr"
        },
        {
          "output_type": "stream",
          "text": [
            "INFO:tensorflow:Starting evaluation at 2021-05-25T14:34:54Z\n",
            "INFO:tensorflow:Graph was finalized.\n",
            "INFO:tensorflow:Restoring parameters from /tmp/tmpauv7xzs1/model.ckpt-250\n",
            "INFO:tensorflow:Running local_init_op.\n",
            "INFO:tensorflow:Done running local_init_op.\n",
            "INFO:tensorflow:Inference Time : 0.30854s\n",
            "INFO:tensorflow:Finished evaluation at 2021-05-25-14:34:54\n",
            "INFO:tensorflow:Saving dict for global step 250: accuracy = 0.9026, average_loss = 0.34406304, global_step = 250, loss = 0.3419576\n",
            "INFO:tensorflow:Saving 'checkpoint_path' summary for global step 250: /tmp/tmpauv7xzs1/model.ckpt-250\n",
            "INFO:tensorflow:Calling model_fn.\n",
            "INFO:tensorflow:Done calling model_fn.\n",
            "INFO:tensorflow:Starting evaluation at 2021-05-25T14:34:55Z\n",
            "INFO:tensorflow:Graph was finalized.\n",
            "INFO:tensorflow:Restoring parameters from /tmp/tmp39m_v1ej/model.ckpt-250\n",
            "INFO:tensorflow:Running local_init_op.\n",
            "INFO:tensorflow:Done running local_init_op.\n",
            "INFO:tensorflow:Inference Time : 0.96072s\n",
            "INFO:tensorflow:Finished evaluation at 2021-05-25-14:34:56\n",
            "INFO:tensorflow:Saving dict for global step 250: accuracy = 0.7338, average_loss = 1.6856381, global_step = 250, loss = 1.6841574\n",
            "INFO:tensorflow:Saving 'checkpoint_path' summary for global step 250: /tmp/tmp39m_v1ej/model.ckpt-250\n",
            "{'accuracy': 0.9026, 'average_loss': 0.34406304, 'loss': 0.3419576, 'global_step': 250}\n",
            "{'accuracy': 0.7338, 'average_loss': 1.6856381, 'loss': 1.6841574, 'global_step': 250}\n"
          ],
          "name": "stdout"
        }
      ]
    }
  ]
}