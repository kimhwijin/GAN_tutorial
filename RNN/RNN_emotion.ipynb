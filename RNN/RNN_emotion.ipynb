{
  "nbformat": 4,
  "nbformat_minor": 0,
  "metadata": {
    "colab": {
      "name": "RNN_emotion.ipynb",
      "provenance": [],
      "collapsed_sections": [],
      "mount_file_id": "12EYAkypMr19qS97q08KpTyIRO-hAEGvj",
      "authorship_tag": "ABX9TyNU5nEQyP9WR9bvjJ2g4CfX",
      "include_colab_link": true
    },
    "kernelspec": {
      "name": "python3",
      "display_name": "Python 3"
    },
    "language_info": {
      "name": "python"
    },
    "accelerator": "TPU"
  },
  "cells": [
    {
      "cell_type": "markdown",
      "metadata": {
        "id": "view-in-github",
        "colab_type": "text"
      },
      "source": [
        "<a href=\"https://colab.research.google.com/github/kimhwijin/TensorflowWithKeras/blob/master/RNN/RNN_emotion.ipynb\" target=\"_parent\"><img src=\"https://colab.research.google.com/assets/colab-badge.svg\" alt=\"Open In Colab\"/></a>"
      ]
    },
    {
      "cell_type": "code",
      "metadata": {
        "id": "Wd5fp89W79fB"
      },
      "source": [
        "import numpy as np\n",
        "import os\n",
        "import shutil\n",
        "import tensorflow as tf\n",
        "\n",
        "from sklearn.metrics import accuracy_score, confusion_matrix"
      ],
      "execution_count": 1,
      "outputs": []
    },
    {
      "cell_type": "code",
      "metadata": {
        "id": "6ldayNN28tVt"
      },
      "source": [
        "def download_and_read(url):\n",
        "  local_file = url.split('/')[-1]\n",
        "  local_file = local_file.replace(\"%20\", \" \")\n",
        "  p = tf.keras.utils.get_file(local_file, url, extract=True, cache_dir=\".\")\n",
        "  local_folder = os.path.join(\"drive/MyDrive/Datasets/UCI_ML_ES\", local_file.split('.')[0])\n",
        "  labeled_sentences = []\n",
        "  for labeled_filename in os.listdir(local_folder):\n",
        "    if labeled_filename.endswith(\"_labelled.txt\"):\n",
        "      with open(os.path.join(local_folder, labeled_filename), \"r\") as f:\n",
        "        for line in f:\n",
        "          sentence, label = line.strip().split(\"\\t\")\n",
        "          labeled_sentences.append((sentence, label))\n",
        "\n",
        "  return labeled_sentences\n",
        "labeled_sentences = download_and_read(\n",
        "    \"https://archive.ics.uci.edu/ml/machine-learning-databases/00331/sentiment%20labelled%20sentences.zip\"\n",
        ")\n",
        "sentences = [s for (s, l) in labeled_sentences]\n",
        "labels = [l for (s, l) in labeled_sentences]"
      ],
      "execution_count": 6,
      "outputs": []
    },
    {
      "cell_type": "code",
      "metadata": {
        "id": "7faFpFQj_YXc"
      },
      "source": [
        ""
      ],
      "execution_count": null,
      "outputs": []
    }
  ]
}