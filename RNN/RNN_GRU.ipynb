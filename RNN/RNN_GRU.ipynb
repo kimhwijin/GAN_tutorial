{
  "nbformat": 4,
  "nbformat_minor": 0,
  "metadata": {
    "colab": {
      "name": "RNN_GRU.ipynb",
      "provenance": [],
      "collapsed_sections": [],
      "mount_file_id": "1CaTN-HXgC4VODkp2_NQZ5C7POtIaWczA",
      "authorship_tag": "ABX9TyPQGrt7zbZjj/AcnuHjFz2T",
      "include_colab_link": true
    },
    "kernelspec": {
      "name": "python3",
      "display_name": "Python 3"
    },
    "language_info": {
      "name": "python"
    }
  },
  "cells": [
    {
      "cell_type": "markdown",
      "metadata": {
        "id": "view-in-github",
        "colab_type": "text"
      },
      "source": [
        "<a href=\"https://colab.research.google.com/github/kimhwijin/TensorflowWithKeras/blob/master/RNN/RNN_GRU.ipynb\" target=\"_parent\"><img src=\"https://colab.research.google.com/assets/colab-badge.svg\" alt=\"Open In Colab\"/></a>"
      ]
    },
    {
      "cell_type": "code",
      "metadata": {
        "id": "qC6j7Et6AxnU"
      },
      "source": [
        "import os\n",
        "import tensorflow as tf\n",
        "import numpy as np\n",
        "import re\n",
        "import shutil\n",
        "\n",
        "CHECKPOINT_DIR = 'drive/MyDrive/Colab Notebooks/models/RNN/alice'\n",
        "DATA_DIR = 'drive/MyDrive/Datasets/alice'\n"
      ],
      "execution_count": 1,
      "outputs": []
    },
    {
      "cell_type": "code",
      "metadata": {
        "colab": {
          "base_uri": "https://localhost:8080/"
        },
        "id": "xld6PvK3PP5p",
        "outputId": "8f4f2b28-fb90-4b35-a9df-7fcc9a1e5978"
      },
      "source": [
        "def download_and_read(urls):\n",
        "  texts = []\n",
        "  for i, url in enumerate(urls):\n",
        "    p = tf.keras.utils.get_file(\"ex1-{:d}.txt\".format(i), url, cache_dir=\".\")\n",
        "    text = open(p, \"r\").read()\n",
        "    text = text.replace(\"\\ufeff\", \"\")\n",
        "    text = text.replace(\"\\n\", \" \")\n",
        "    text = re.sub(r'\\s+', \" \", text)\n",
        "    texts.extend(text)\n",
        "  return texts\n",
        "\n",
        "texts = download_and_read([\n",
        "                           \"https://www.gutenberg.org/cache/epub/28885/pg28885.txt\",\n",
        "                           \"https://www.gutenberg.org/files/12/12-0.txt\"\n",
        "])\n",
        "\n",
        "vocab = sorted(set(texts))\n",
        "print(\"vocab size:{:d}\".format(len(vocab)))\n",
        "\n",
        "#어휘 문자에서 정수로 매핑\n",
        "char2idx = {c:i for i, c in enumerate(vocab)}\n",
        "idx2char = {i:c for c , i in char2idx.items()}\n",
        "\n",
        "#텍스트 수치화\n",
        "texts_as_ints = np.array([char2idx[c] for c in texts])\n",
        "data = tf.data.Dataset.from_tensor_slices(texts_as_ints)\n",
        "\n",
        "#예측하기 전에 보여줄 문자 개수\n",
        "seq_length = 100\n",
        "sequences = data.batch(seq_length + 1, drop_remainder=True)\n",
        "\n",
        "def split_train_labels(sequence):\n",
        "  input_seq = sequence[0:-1]\n",
        "  output_seq = sequence[1:]\n",
        "  return input_seq, output_seq\n",
        "\n",
        "sequences = sequences.map(split_train_labels)\n",
        "batch_size = 64\n",
        "steps_per_epoch = len(texts) // seq_length // batch_size\n",
        "dataset = sequences.shuffle(10000).batch(batch_size, drop_remainder=True)\n"
      ],
      "execution_count": 6,
      "outputs": [
        {
          "output_type": "stream",
          "text": [
            "vocab size:92\n"
          ],
          "name": "stdout"
        }
      ]
    },
    {
      "cell_type": "code",
      "metadata": {
        "id": "Qemf4M0XZTF6"
      },
      "source": [
        "class CharGenModel(tf.keras.Model):\n",
        "  def __init__(self, vocab_size, num_timesteps, embedding_dim, rnn_output_dim, **kwargs):\n",
        "    super(CharGenModel, self).__init__(**kwargs)\n",
        "    self.embedding_layer = tf.keras.layers.Embedding(vocab_size, embedding_dim)\n",
        "    self.rnn_layer = tf.keras.layers.GRU(num_timesteps, recurrent_initializer=\"glorot_uniform\", recurrent_activation=\"sigmoid\", stateful=True, return_sequences=True)\n",
        "    self.dense_layer = tf.keras.layers.Dense(vocab_size)\n",
        "  def call(self, x):\n",
        "    x = self.embedding_layer(x)\n",
        "    x = self.rnn_layer(x)\n",
        "    x = self.dense_layer(x)\n",
        "    return x\n",
        "\n",
        "vocab_size = len(vocab)\n",
        "embedding_dim = 256\n",
        "rnn_output_dim = 1024\n",
        "\n",
        "model = CharGenModel(vocab_size, seq_length, embedding_dim, rnn_output_dim)\n",
        "model.build(input_shape=(batch_size, seq_length))"
      ],
      "execution_count": 10,
      "outputs": []
    },
    {
      "cell_type": "code",
      "metadata": {
        "id": "VmW1qV5IauAG"
      },
      "source": [
        "def loss(labels, predictions):\n",
        "  return tf.keras.losses.sparse_categorical_crossentropy(labels, predictions, from_logits=True)\n",
        "model.compile(optimizer=tf.optimizers.Adam(), loss=loss)W"
      ],
      "execution_count": null,
      "outputs": []
    },
    {
      "cell_type": "code",
      "metadata": {
        "id": "O1q78VPGbWxu"
      },
      "source": [
        ""
      ],
      "execution_count": null,
      "outputs": []
    }
  ]
}