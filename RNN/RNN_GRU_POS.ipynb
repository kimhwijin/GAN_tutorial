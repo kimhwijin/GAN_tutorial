{
  "nbformat": 4,
  "nbformat_minor": 0,
  "metadata": {
    "colab": {
      "name": "RNN_GRU_POS.ipynb",
      "provenance": [],
      "collapsed_sections": [],
      "mount_file_id": "1VHGskTxLWVnpGbyC9utcRpYw2mc9TQNs",
      "authorship_tag": "ABX9TyN4h+0pOLCMj68BRdmhdeqs",
      "include_colab_link": true
    },
    "kernelspec": {
      "name": "python3",
      "display_name": "Python 3"
    },
    "language_info": {
      "name": "python"
    },
    "accelerator": "TPU"
  },
  "cells": [
    {
      "cell_type": "markdown",
      "metadata": {
        "id": "view-in-github",
        "colab_type": "text"
      },
      "source": [
        "<a href=\"https://colab.research.google.com/github/kimhwijin/TensorflowWithKeras/blob/master/RNN/RNN_GRU_POS.ipynb\" target=\"_parent\"><img src=\"https://colab.research.google.com/assets/colab-badge.svg\" alt=\"Open In Colab\"/></a>"
      ]
    },
    {
      "cell_type": "code",
      "metadata": {
        "id": "peXGEtd8qfDh"
      },
      "source": [
        "#품사 테그\n",
        "#Penn Treebank 의 테그된 품사 dataset의 10%를 사용한다.\n",
        "#입력 : 단어 시퀀스, 출력 : 단어에 맞는 품사의 시퀀스"
      ],
      "execution_count": 1,
      "outputs": []
    },
    {
      "cell_type": "code",
      "metadata": {
        "colab": {
          "base_uri": "https://localhost:8080/"
        },
        "id": "FZcnqGOlrqe3",
        "outputId": "98c0e801-d49f-4213-f876-c96a9de54281"
      },
      "source": [
        "import nltk\n",
        "nltk.download(\"treebank\")"
      ],
      "execution_count": 3,
      "outputs": [
        {
          "output_type": "stream",
          "text": [
            "[nltk_data] Downloading package treebank to /root/nltk_data...\n",
            "[nltk_data]   Unzipping corpora/treebank.zip.\n"
          ],
          "name": "stdout"
        },
        {
          "output_type": "execute_result",
          "data": {
            "text/plain": [
              "True"
            ]
          },
          "metadata": {
            "tags": []
          },
          "execution_count": 3
        }
      ]
    },
    {
      "cell_type": "code",
      "metadata": {
        "id": "WhNIq0Mar3mX"
      },
      "source": [
        "import os\n",
        "import numpy as np\n",
        "import tensorflow as tf\n",
        "import shutil"
      ],
      "execution_count": 4,
      "outputs": []
    },
    {
      "cell_type": "code",
      "metadata": {
        "colab": {
          "base_uri": "https://localhost:8080/"
        },
        "id": "vsJttjegr7m0",
        "outputId": "93b2e57d-adef-49f7-9796-0119c3ed0411"
      },
      "source": [
        "def download_and_read(dataset_dir, num_pairs=None):\n",
        "  sent_filename = os.path.join(dataset_dir, \"treebank-sents.txt\")\n",
        "  poss_filename = os.path.join(dataset_dir, \"treebank-poss.txt\")\n",
        "  print(poss_filename)\n",
        "  if not(os.path.exists(sent_filename) and os.path.exists(poss_filename)):\n",
        "    import nltk\n",
        "    if not os.path.exists(dataset_dir):\n",
        "      os.makedirs(dataset_dir)\n",
        "    fsents = open(sent_filename, \"w\")\n",
        "    fposs = open(poss_filename, \"w\")\n",
        "    #tag된 문장 목록\n",
        "    sentences = nltk.corpus.treebank.tagged_sents()\n",
        "    for sent in sentences:\n",
        "      fsents.write(\" \".join([w for w, p in sent]) + \"\\n\")\n",
        "      fposs.write(\" \".join([p for w, p in sent]) + \"\\n\")\n",
        "    \n",
        "    fsents.close()\n",
        "    fposs.close()\n",
        "  \n",
        "  sents, poss = [], []\n",
        "  with open(sent_filename, \"r\") as fsent:\n",
        "    for idx, line in enumerate(fsent):\n",
        "      sents.append(line.strip())\n",
        "      if num_pairs is not None and idx >= num_pairs:\n",
        "        break\n",
        "  with open(poss_filename, \"r\") as fposs:\n",
        "    for idx, line in enumerate(fposs):\n",
        "      poss.append(line.strip())\n",
        "      if num_pairs is not None and idx >= num_pairs:\n",
        "        break\n",
        "  \n",
        "  return sents, poss\n",
        "\n",
        "DATASET_DIR = \"drive/MyDrive/Datasets/treebank_pos\"\n",
        "sents, poss = download_and_read(DATASET_DIR)\n",
        "assert(len(sents) == len(poss))\n",
        "print(\"# of records : {:d}\".format(len(sents)))"
      ],
      "execution_count": 11,
      "outputs": [
        {
          "output_type": "stream",
          "text": [
            "drive/MyDrive/Datasets/treebank_pos/treebank-poss.txt\n",
            "# of records : 3914\n"
          ],
          "name": "stdout"
        }
      ]
    },
    {
      "cell_type": "code",
      "metadata": {
        "colab": {
          "base_uri": "https://localhost:8080/"
        },
        "id": "HGXYoN2_tqsP",
        "outputId": "81c02ec5-b3a9-4ad0-a767-af33206f3764"
      },
      "source": [
        "def tokenize_and_build_vocab(texts, vocab_size=None, lower=True):\n",
        "  if vocab_size is None:\n",
        "    tokenizer = tf.keras.preprocessing.text.Tokenizer(lower=lower)\n",
        "  else:\n",
        "    tokenizer = tf.keras.preprocessing.text.Tokenizer(num_words=vocab_size + 1, oov_token=\"UNK\", lower=lower)\n",
        "  \n",
        "  tokenizer.fit_on_texts(texts)\n",
        "  if vocab_size is not None:\n",
        "    tokenizer.word_index = {e:i for e, i in tokenizer.word_index.items() if i <= vocab_size + 1}\n",
        "  \n",
        "  word2idx = tokenizer.word_index\n",
        "  idx2word = {v:k for k,v in word2idx.items()}\n",
        "  return word2idx, idx2word, tokenizer\n",
        "\n",
        "word2idx_s, idx2word_s, tokenizer_s = tokenize_and_build_vocab(sents, 9927)\n",
        "word2idx_t, idx2word_t, tokenizer_t = tokenize_and_build_vocab(poss, vocab_size=38, lower=False)\n",
        "source_vocab_size = len(word2idx_s)\n",
        "target_vocab_size = len(word2idx_t)\n",
        "\n",
        "print(\"vocab size (source): {:d}, (target) : {:d}\".format(source_vocab_size, target_vocab_size))"
      ],
      "execution_count": 18,
      "outputs": [
        {
          "output_type": "stream",
          "text": [
            "vocab size (source): 9928, (target) : 39\n"
          ],
          "name": "stdout"
        }
      ]
    },
    {
      "cell_type": "code",
      "metadata": {
        "colab": {
          "base_uri": "https://localhost:8080/"
        },
        "id": "cHdvkiZJyjek",
        "outputId": "f2695bf6-21cb-44ca-c3ab-64c776f86feb"
      },
      "source": [
        "seq_lengths = np.array([len(s.split()) for s in sents])\n",
        "print([(p, np.percentile(seq_lengths, p)) for p in [75, 80, 90, 95, 99, 99.9, 100]])\n"
      ],
      "execution_count": 21,
      "outputs": [
        {
          "output_type": "stream",
          "text": [
            "[(75, 33.0), (80, 35.0), (90, 41.0), (95, 47.0), (99, 58.0), (99.9, 93.56600000000799), (100, 271.0)]\n"
          ],
          "name": "stdout"
        }
      ]
    },
    {
      "cell_type": "code",
      "metadata": {
        "colab": {
          "base_uri": "https://localhost:8080/"
        },
        "id": "M1HsUe7azqBH",
        "outputId": "9cdf811a-6bfb-4864-a2e5-1d188026bc1e"
      },
      "source": [
        "max_seqlen = 271\n",
        "sents_as_ints = tokenizer_s.texts_to_sequences(sents)\n",
        "sents_as_ints = tf.keras.preprocessing.sequence.pad_sequences(sents_as_ints, maxlen=max_seqlen, padding=\"post\")\n",
        "poss_as_ints = tokenizer_t.texts_to_sequences(poss)\n",
        "poss_as_ints = tf.keras.preprocessing.sequence.pad_sequences(poss_as_ints, maxlen=max_seqlen, padding=\"post\")\n",
        "\n",
        "poss_as_catints = []\n",
        "for p in poss_as_ints:\n",
        "  poss_as_catints.append(tf.keras.utils.to_categorical(p, num_classes=target_vocab_size+1, dtype=\"int32\"))\n",
        "poss_as_catints = tf.keras.preprocessing.sequence.pad_sequences(poss_as_catints, maxlen=max_seqlen)\n",
        "print(poss_as_catints.shape)\n",
        "\n",
        "dataset = tf.data.Dataset.from_tensor_slices((sents_as_ints, poss_as_catints))\n",
        "\n",
        "idx2word_s[0], idx2word_t[0] = \"PAD\", \"PAD\"\n",
        "\n",
        "dataset = dataset.shuffle(10000)\n",
        "test_size = len(sents) // 3\n",
        "val_size = (len(sents) - test_size) // 10\n",
        "test_dataset = dataset.take(test_size)\n",
        "val_dataset = dataset.skip(test_size).take(val_size)\n",
        "train_dataset = dataset.skip(test_size + val_size)\n",
        "\n",
        "batch_size = 128\n",
        "test_dataset = test_dataset.batch(batch_size)\n",
        "val_dataset = val_dataset.batch(batch_size)\n",
        "train_dataset = train_dataset.batch(batch_size)"
      ],
      "execution_count": 25,
      "outputs": [
        {
          "output_type": "stream",
          "text": [
            "(3914, 271, 40)\n"
          ],
          "name": "stdout"
        }
      ]
    },
    {
      "cell_type": "code",
      "metadata": {
        "id": "7FXOW1-E2ncP"
      },
      "source": [
        ""
      ],
      "execution_count": null,
      "outputs": []
    }
  ]
}