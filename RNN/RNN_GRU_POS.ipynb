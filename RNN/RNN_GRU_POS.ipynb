{
  "nbformat": 4,
  "nbformat_minor": 0,
  "metadata": {
    "colab": {
      "name": "RNN_GRU_POS.ipynb",
      "provenance": [],
      "collapsed_sections": [],
      "mount_file_id": "1VHGskTxLWVnpGbyC9utcRpYw2mc9TQNs",
      "authorship_tag": "ABX9TyOULqlZB76FDhHkTNIsnXxx",
      "include_colab_link": true
    },
    "kernelspec": {
      "name": "python3",
      "display_name": "Python 3"
    },
    "language_info": {
      "name": "python"
    },
    "accelerator": "TPU"
  },
  "cells": [
    {
      "cell_type": "markdown",
      "metadata": {
        "id": "view-in-github",
        "colab_type": "text"
      },
      "source": [
        "<a href=\"https://colab.research.google.com/github/kimhwijin/TensorflowWithKeras/blob/master/RNN/RNN_GRU_POS.ipynb\" target=\"_parent\"><img src=\"https://colab.research.google.com/assets/colab-badge.svg\" alt=\"Open In Colab\"/></a>"
      ]
    },
    {
      "cell_type": "code",
      "metadata": {
        "id": "peXGEtd8qfDh"
      },
      "source": [
        "#품사 테그\n",
        "#Penn Treebank 의 테그된 품사 dataset의 10%를 사용한다.\n",
        "#입력 : 단어 시퀀스, 출력 : 단어에 맞는 품사의 시퀀스"
      ],
      "execution_count": 1,
      "outputs": []
    },
    {
      "cell_type": "code",
      "metadata": {
        "colab": {
          "base_uri": "https://localhost:8080/"
        },
        "id": "FZcnqGOlrqe3",
        "outputId": "98c0e801-d49f-4213-f876-c96a9de54281"
      },
      "source": [
        "import nltk\n",
        "nltk.download(\"treebank\")"
      ],
      "execution_count": 3,
      "outputs": [
        {
          "output_type": "stream",
          "text": [
            "[nltk_data] Downloading package treebank to /root/nltk_data...\n",
            "[nltk_data]   Unzipping corpora/treebank.zip.\n"
          ],
          "name": "stdout"
        },
        {
          "output_type": "execute_result",
          "data": {
            "text/plain": [
              "True"
            ]
          },
          "metadata": {
            "tags": []
          },
          "execution_count": 3
        }
      ]
    },
    {
      "cell_type": "code",
      "metadata": {
        "id": "WhNIq0Mar3mX"
      },
      "source": [
        "import os\n",
        "import numpy as np\n",
        "import tensorflow as tf\n",
        "import shutil"
      ],
      "execution_count": 4,
      "outputs": []
    },
    {
      "cell_type": "code",
      "metadata": {
        "colab": {
          "base_uri": "https://localhost:8080/"
        },
        "id": "vsJttjegr7m0",
        "outputId": "93b2e57d-adef-49f7-9796-0119c3ed0411"
      },
      "source": [
        "def download_and_read(dataset_dir, num_pairs=None):\n",
        "  sent_filename = os.path.join(dataset_dir, \"treebank-sents.txt\")\n",
        "  poss_filename = os.path.join(dataset_dir, \"treebank-poss.txt\")\n",
        "  print(poss_filename)\n",
        "  if not(os.path.exists(sent_filename) and os.path.exists(poss_filename)):\n",
        "    import nltk\n",
        "    if not os.path.exists(dataset_dir):\n",
        "      os.makedirs(dataset_dir)\n",
        "    fsents = open(sent_filename, \"w\")\n",
        "    fposs = open(poss_filename, \"w\")\n",
        "    #tag된 문장 목록\n",
        "    sentences = nltk.corpus.treebank.tagged_sents()\n",
        "    for sent in sentences:\n",
        "      fsents.write(\" \".join([w for w, p in sent]) + \"\\n\")\n",
        "      fposs.write(\" \".join([p for w, p in sent]) + \"\\n\")\n",
        "    \n",
        "    fsents.close()\n",
        "    fposs.close()\n",
        "  \n",
        "  sents, poss = [], []\n",
        "  with open(sent_filename, \"r\") as fsent:\n",
        "    for idx, line in enumerate(fsent):\n",
        "      sents.append(line.strip())\n",
        "      if num_pairs is not None and idx >= num_pairs:\n",
        "        break\n",
        "  with open(poss_filename, \"r\") as fposs:\n",
        "    for idx, line in enumerate(fposs):\n",
        "      poss.append(line.strip())\n",
        "      if num_pairs is not None and idx >= num_pairs:\n",
        "        break\n",
        "  \n",
        "  return sents, poss\n",
        "\n",
        "DATASET_DIR = \"drive/MyDrive/Datasets/treebank_pos\"\n",
        "sents, poss = download_and_read(DATASET_DIR)\n",
        "assert(len(sents) == len(poss))\n",
        "print(\"# of records : {:d}\".format(len(sents)))"
      ],
      "execution_count": 11,
      "outputs": [
        {
          "output_type": "stream",
          "text": [
            "drive/MyDrive/Datasets/treebank_pos/treebank-poss.txt\n",
            "# of records : 3914\n"
          ],
          "name": "stdout"
        }
      ]
    },
    {
      "cell_type": "code",
      "metadata": {
        "id": "HGXYoN2_tqsP"
      },
      "source": [
        ""
      ],
      "execution_count": null,
      "outputs": []
    }
  ]
}