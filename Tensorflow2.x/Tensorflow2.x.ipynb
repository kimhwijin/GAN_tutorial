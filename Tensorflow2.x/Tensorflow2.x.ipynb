{
  "nbformat": 4,
  "nbformat_minor": 0,
  "metadata": {
    "colab": {
      "name": "Tensorflow2.x.ipynb",
      "provenance": [],
      "collapsed_sections": [],
      "authorship_tag": "ABX9TyMleMwIwX3f+lINfICL5d/T",
      "include_colab_link": true
    },
    "kernelspec": {
      "name": "python3",
      "display_name": "Python 3"
    },
    "language_info": {
      "name": "python"
    }
  },
  "cells": [
    {
      "cell_type": "markdown",
      "metadata": {
        "id": "view-in-github",
        "colab_type": "text"
      },
      "source": [
        "<a href=\"https://colab.research.google.com/github/kimhwijin/TensorflowWithKeras/blob/master/Tensorflow2.x/Tensorflow2.x.ipynb\" target=\"_parent\"><img src=\"https://colab.research.google.com/assets/colab-badge.svg\" alt=\"Open In Colab\"/></a>"
      ]
    },
    {
      "cell_type": "code",
      "metadata": {
        "colab": {
          "base_uri": "https://localhost:8080/"
        },
        "id": "yVcb6oTUzkCO",
        "outputId": "461cc035-63a1-4dda-ed39-a3f85d4fe282"
      },
      "source": [
        "import tensorflow as tf\n",
        "import timeit\n",
        "def linear_layer(x):\n",
        "  return 3 * x + 2\n",
        "\n",
        "@tf.function\n",
        "def simple_nn(x):\n",
        "  return tf.nn.relu(linear_layer(x))\n",
        "\n",
        "def simple_function(x):\n",
        "  return 3 * x\n",
        "\n",
        "#simple_nn #<tensorflow.python.eager.def_function.Function at 0x7f9736390ad0>\n",
        "#simple_function #<function __main__.simple_function>\n",
        "\n",
        "cell = tf.keras.layers.LSTMCell(100)\n",
        "\n",
        "@tf.function\n",
        "def fn(input, state):\n",
        "  return cell(input,state)\n",
        "\n",
        "input = tf.zeros([100,100])\n",
        "state = [tf.zeros([100,100])] * 2\n",
        "\n",
        "#워밍업\n",
        "cell(input,state)\n",
        "fn(input,state)\n",
        "\n",
        "graph_time = timeit.timeit(lambda: cell(input,state), number=100)\n",
        "auto_graph_time = timeit.timeit(lambda: fn(input,state), number=100)\n",
        "print('graph time :', graph_time)\n",
        "print('auto graph time :', auto_graph_time)"
      ],
      "execution_count": 5,
      "outputs": [
        {
          "output_type": "stream",
          "text": [
            "graph time : 0.12537865199999487\n",
            "auto graph time : 0.10789341600002444\n"
          ],
          "name": "stdout"
        }
      ]
    }
  ]
}