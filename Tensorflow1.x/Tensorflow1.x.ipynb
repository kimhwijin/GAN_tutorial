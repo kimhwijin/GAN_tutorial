{
  "nbformat": 4,
  "nbformat_minor": 0,
  "metadata": {
    "colab": {
      "name": "Tensorflow1.x.ipynb",
      "provenance": [],
      "collapsed_sections": [],
      "mount_file_id": "1XZLTqJju_HwzVT7PaBxhRCjwZDx8VnLB",
      "authorship_tag": "ABX9TyNaYHQ2fz+h5uLZkk3vUh5I",
      "include_colab_link": true
    },
    "kernelspec": {
      "name": "python3",
      "display_name": "Python 3"
    },
    "language_info": {
      "name": "python"
    }
  },
  "cells": [
    {
      "cell_type": "markdown",
      "metadata": {
        "id": "view-in-github",
        "colab_type": "text"
      },
      "source": [
        "<a href=\"https://colab.research.google.com/github/kimhwijin/TensorflowWithKeras/blob/master/Tensorflow1.x/Tensorflow1.x.ipynb\" target=\"_parent\"><img src=\"https://colab.research.google.com/assets/colab-badge.svg\" alt=\"Open In Colab\"/></a>"
      ]
    },
    {
      "cell_type": "code",
      "metadata": {
        "colab": {
          "base_uri": "https://localhost:8080/"
        },
        "id": "YthzIdLkUo0s",
        "outputId": "8bb4efa3-6bf9-4556-b50d-c9f0ddca7b58"
      },
      "source": [
        "import tensorflow.compat.v1 as tf\n",
        "import numpy as np\n",
        "tf.disable_v2_behavior()\n",
        "\n",
        "v_1 = tf.constant([1,2,3,4])\n",
        "v_2 = tf.constant([2,1,5,3])\n",
        "v_add = tf.add(v_1,v_2)\n",
        "\n",
        "with tf.Session() as sess:\n",
        "  message = tf.constant(\"hello world\")\n",
        "  print(sess.run(v_add))\n",
        "  print(sess.run(message))\n",
        "  print(sess.run(message).decode())\n",
        "  t_1 = tf.constant(4)\n",
        "  t_2 = tf.constant([4,3,2])\n",
        "  zero_t = tf.zeros([5,4],tf.float32)\n",
        "  one_t = tf.ones_like(zero_t)\n",
        "  t = tf.Variable([[1,2,3],[3,4,5],[5,6,7]])\n",
        "  range_t = tf.linspace(2.0,5.0,5) # 균등 분포\n",
        "  range_t = tf.range(10,15,5) # 균일히 증가\n",
        "  t_random = tf.random_normal([2,3], mean=2.0, stddev=4, seed=12) # 정규분포\n",
        "  t_random = tf.truncated_normal([1,5],mean=0,stddev=2,seed=12) #잘려진 정규분포\n",
        "  t_random = tf.random_uniform([2,3],minval=0,maxval=4,seed=12) # minval, maxval 범위\n",
        "  tf.random_crop(t_random,[2,5],seed=12) # 특정 크기로 절단\n",
        "  tf.random_shuffle(t_random)\n",
        "  tf.set_random_seed(45) # 모든 세션의 랜덤 텐서의 시드를 설정한다.\n",
        "\n",
        "  rand_t = tf.random_uniform([50,50], 0, 10, seed=0)\n",
        "  t_a = tf.Variable(rand_t)\n",
        "  t_b = tf.Variable(rand_t) #균등분포 랜덤 값으로 초기화\n",
        "  weights = tf.Variable(tf.random_normal([100,100],mean=0.0,stddev=2))\n",
        "  bias = tf.Variable(tf.zeros([100]), name='biases')\n",
        "  weight2 = tf.Variable(weights.initialized_value(), name='w2') #위의 가중치로 변수 w2를 초기화한다.\n",
        "  initial_op = tf.global_variables_initializer() #연산 객체를 초기화 해주는 객체\n",
        "  bias = tf.Variable(tf.zeros([100,100]))\n",
        "  sess.run(bias.initializer) #변수 개별적 초기화\n",
        "  \n",
        "  saver = tf.train.Saver() #모든 변수저장 Saver class\n",
        "  x = tf.placeholder('float',shape=None,name=None)\n",
        "  y = x * 2\n",
        "  data = tf.random_uniform([3,2],10)\n",
        "  x_data = sess.run(data)\n",
        "  print(sess.run(y,feed_dict={x:x_data})) # [[16.338106   8.4631815] [ 6.279848  15.92954  ] [14.346416   5.494562 ]]\n",
        "  #값을 알려면 명시적으로 run을 원하는 텐서값과 실행해야한다.\n",
        "\n",
        "  \n",
        "\n",
        "\n",
        "\n"
      ],
      "execution_count": 31,
      "outputs": [
        {
          "output_type": "stream",
          "text": [
            "[3 3 8 7]\n",
            "b'hello world'\n",
            "hello world\n",
            "[[10.962763   2.4219265]\n",
            " [ 5.904028   4.0484314]\n",
            " [14.742862  13.087857 ]]\n"
          ],
          "name": "stdout"
        }
      ]
    },
    {
      "cell_type": "code",
      "metadata": {
        "id": "hoC_Pb35iE2V"
      },
      "source": [
        "tf.reset_default_graph()\n",
        "in_a = tf.placeholder(dtype=tf.float32,shape=(2))\n",
        "\n",
        "def model(x):\n",
        "  with tf.variable_scope('matmul'):\n",
        "    w = tf.get_variable(\"W\", initializer=tf.ones(shape=(2,2)))\n",
        "    b = tf.get_variable(\"b\", initializer=tf.zeros(shape=(2)))\n",
        "    return x * w + b\n",
        "  \n",
        "out_a = model(in_a)\n",
        "\n",
        "with tf.Session() as sess:\n",
        "  sess.run(tf.global_variables_initializer())\n",
        "  outs = sess.run([out_a],feed_dict={in_a:[1,0]})\n",
        "  writer = tf.summary.FileWriter(\"drive/MyDrive/Colab Notebooks/logs/\",sess.graph)\n"
      ],
      "execution_count": 52,
      "outputs": []
    },
    {
      "cell_type": "code",
      "metadata": {
        "colab": {
          "base_uri": "https://localhost:8080/",
          "height": 17
        },
        "id": "rA94DEvuwRM3",
        "outputId": "6f1c7116-815b-4a60-a469-1a172d6155ec"
      },
      "source": [
        ""
      ],
      "execution_count": 53,
      "outputs": [
        {
          "output_type": "display_data",
          "data": {
            "application/javascript": [
              "\n",
              "    async function download(id, filename, size) {\n",
              "      if (!google.colab.kernel.accessAllowed) {\n",
              "        return;\n",
              "      }\n",
              "      const div = document.createElement('div');\n",
              "      const label = document.createElement('label');\n",
              "      label.textContent = `Downloading \"${filename}\": `;\n",
              "      div.appendChild(label);\n",
              "      const progress = document.createElement('progress');\n",
              "      progress.max = size;\n",
              "      div.appendChild(progress);\n",
              "      document.body.appendChild(div);\n",
              "\n",
              "      const buffers = [];\n",
              "      let downloaded = 0;\n",
              "\n",
              "      const channel = await google.colab.kernel.comms.open(id);\n",
              "      // Send a message to notify the kernel that we're ready.\n",
              "      channel.send({})\n",
              "\n",
              "      for await (const message of channel.messages) {\n",
              "        // Send a message to notify the kernel that we're ready.\n",
              "        channel.send({})\n",
              "        if (message.buffers) {\n",
              "          for (const buffer of message.buffers) {\n",
              "            buffers.push(buffer);\n",
              "            downloaded += buffer.byteLength;\n",
              "            progress.value = downloaded;\n",
              "          }\n",
              "        }\n",
              "      }\n",
              "      const blob = new Blob(buffers, {type: 'application/binary'});\n",
              "      const a = document.createElement('a');\n",
              "      a.href = window.URL.createObjectURL(blob);\n",
              "      a.download = filename;\n",
              "      div.appendChild(a);\n",
              "      a.click();\n",
              "      div.remove();\n",
              "    }\n",
              "  "
            ],
            "text/plain": [
              "<IPython.core.display.Javascript object>"
            ]
          },
          "metadata": {
            "tags": []
          }
        },
        {
          "output_type": "display_data",
          "data": {
            "application/javascript": [
              "download(\"download_76531899-d00a-4040-b67a-28bc2645de3b\", \"events.out.tfevents.1621429102.1d3686e98434\", 1579)"
            ],
            "text/plain": [
              "<IPython.core.display.Javascript object>"
            ]
          },
          "metadata": {
            "tags": []
          }
        }
      ]
    }
  ]
}