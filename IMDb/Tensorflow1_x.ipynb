{
  "nbformat": 4,
  "nbformat_minor": 0,
  "metadata": {
    "colab": {
      "name": "Tensorflow1.x.ipynb",
      "provenance": [],
      "collapsed_sections": [],
      "authorship_tag": "ABX9TyNUmxyW7AbI7ZZ7BE1Tl/Wn",
      "include_colab_link": true
    },
    "kernelspec": {
      "name": "python3",
      "display_name": "Python 3"
    },
    "language_info": {
      "name": "python"
    }
  },
  "cells": [
    {
      "cell_type": "markdown",
      "metadata": {
        "id": "view-in-github",
        "colab_type": "text"
      },
      "source": [
        "<a href=\"https://colab.research.google.com/github/kimhwijin/TensorflowWithKeras/blob/master/IMDb/Tensorflow1_x.ipynb\" target=\"_parent\"><img src=\"https://colab.research.google.com/assets/colab-badge.svg\" alt=\"Open In Colab\"/></a>"
      ]
    },
    {
      "cell_type": "code",
      "metadata": {
        "colab": {
          "base_uri": "https://localhost:8080/"
        },
        "id": "YthzIdLkUo0s",
        "outputId": "e0d0d809-187e-4bcd-f63f-616370fa4b11"
      },
      "source": [
        "import tensorflow.compat.v1 as tf\n",
        "import numpy as np\n",
        "tf.disable_v2_behavior()\n",
        "\n",
        "v_1 = tf.constant([1,2,3,4])\n",
        "v_2 = tf.constant([2,1,5,3])\n",
        "v_add = tf.add(v_1,v_2)\n",
        "\n",
        "with tf.Session() as sess:\n",
        "  message = tf.constant(\"hello world\")\n",
        "  print(sess.run(v_add))\n",
        "  print(sess.run(message))\n",
        "  print(sess.run(message).decode())\n",
        "  t_1 = tf.constant(4)\n",
        "  t_2 = tf.constant([4,3,2])\n",
        "  zero_t = tf.zeros([5,4],tf.float32)\n",
        "  one_t = tf.ones_like(zero_t)\n",
        "  t = tf.Variable([[1,2,3],[3,4,5],[5,6,7]])\n",
        "  range_t = tf.linspace(2.0,5.0,5) # 균등 분포\n",
        "  range_t = tf.range(10,15,5) # 균일히 증가\n",
        "  t_random = tf.random_normal([2,3], mean=2.0, stddev=4, seed=12) # 정규분포\n",
        "  t_random = tf.truncated_normal([1,5],mean=0,stddev=2,seed=12) #잘려진 정규분포\n",
        "  t_random = tf.random_uniform([2,3],minval=0,maxval=4,seed=12) # minval, maxval 범위\n",
        "  tf.random_crop(t_random,[2,5],seed=12) # 특정 크기로 절단\n",
        "  tf.random_shuffle(t_random)\n",
        "  tf.set_random_seed(45) # 모든 세션의 랜덤 텐서의 시드를 설정한다.\n",
        "\n",
        "  rand_t = tf.random_uniform([50,50], 0, 10, seed=0)\n",
        "  t_a = tf.Variable(rand_t)\n",
        "  t_b = tf.Variable(rand_t) #균등분포 랜덤 값으로 초기화\n",
        "  weights = tf.Variable(tf.random_normal([100,100],mean=0.0,stddev=2))\n",
        "  bias = tf.Variable(tf.zeros([100]), name='biases')\n",
        "  weight2 = tf.Variable(weights.initialized_value(), name='w2') #위의 가중치로 변수 w2를 초기화한다.\n",
        "  initial_op = tf.global_variables_initializer() #연산 객체를 초기화 해주는 객체\n",
        "  bias = tf.Variable(tf.zeros([100,100]))\n",
        "  sess.run(bias.initializer) #변수 개별적 초기화\n",
        "  \n",
        "  saver = tf.train.Saver() #모든 변수저장 Saver class\n",
        "  x = tf.placeholder('float',shape=None,name=None)\n",
        "  y = x * 2\n",
        "  data = tf.random_uniform([3,2],10)\n",
        "  x_data = sess.run(data)\n",
        "  print(sess.run(y,feed_dict={x:x_data})) # [[16.338106   8.4631815] [ 6.279848  15.92954  ] [14.346416   5.494562 ]]\n",
        "  #값을 알려면 명시적으로 run을 원하는 텐서값과 실행해야한다.\n",
        "\n",
        "  \n",
        "\n",
        "\n"
      ],
      "execution_count": 26,
      "outputs": [
        {
          "output_type": "stream",
          "text": [
            "WARNING:tensorflow:From /usr/local/lib/python3.7/dist-packages/tensorflow/python/compat/v2_compat.py:96: disable_resource_variables (from tensorflow.python.ops.variable_scope) is deprecated and will be removed in a future version.\n",
            "Instructions for updating:\n",
            "non-resource variables are not supported in the long term\n",
            "[3 3 8 7]\n",
            "b'hello world'\n",
            "hello world\n",
            "[[ 2.512823   3.1006222]\n",
            " [ 2.8854504 13.115934 ]\n",
            " [10.308151   3.9227028]]\n"
          ],
          "name": "stdout"
        }
      ]
    },
    {
      "cell_type": "code",
      "metadata": {
        "id": "hoC_Pb35iE2V"
      },
      "source": [
        "in_a = tf.placeholder(dtype=tf.float32, shape(2))\n",
        "\n",
        "def model(x):\n",
        "  with tf.variable_scope('matmul'):\n",
        "    w = tf.get_variable(\"W\", initializer=tf.ones(shape=(2,2)))\n",
        "    b = tf.get_variable(\"b\", initializer=tf.zeros(shape=(2)))\n",
        "    return x * w + b\n",
        "  \n",
        "out_a = model(in_a)\n",
        "\n",
        "with tf.Session() as sess:\n",
        "  sess.run(tf.global_variables_initializer())\n",
        "  outs = sess.run([out_a],feed_dict={in_a:[1,0]})\n",
        "  writer = tf.summary.FileWriter(\".logs/examples\",sess.graph)\n"
      ],
      "execution_count": null,
      "outputs": []
    }
  ]
}