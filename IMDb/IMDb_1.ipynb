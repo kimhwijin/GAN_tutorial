{
  "nbformat": 4,
  "nbformat_minor": 0,
  "metadata": {
    "colab": {
      "name": "IMDb#1.ipynb",
      "provenance": [],
      "collapsed_sections": [],
      "authorship_tag": "ABX9TyPvYhhHnDJ0wRGN5l5fEQcg",
      "include_colab_link": true
    },
    "kernelspec": {
      "name": "python3",
      "display_name": "Python 3"
    },
    "language_info": {
      "name": "python"
    },
    "accelerator": "TPU"
  },
  "cells": [
    {
      "cell_type": "markdown",
      "metadata": {
        "id": "view-in-github",
        "colab_type": "text"
      },
      "source": [
        "<a href=\"https://colab.research.google.com/github/kimhwijin/TensorflowWithKeras/blob/master/IMDb_1.ipynb\" target=\"_parent\"><img src=\"https://colab.research.google.com/assets/colab-badge.svg\" alt=\"Open In Colab\"/></a>"
      ]
    },
    {
      "cell_type": "code",
      "metadata": {
        "id": "pCvVy3ivNRUY"
      },
      "source": [
        "import tensorflow as tf\n",
        "from tensorflow.keras import datasets,layers,models,preprocessing\n",
        "import tensorflow_datasets as tfds\n",
        "\n",
        "max_len = 200\n",
        "n_words = 10000\n",
        "dim_embedding = 256\n",
        "EPOCHS = 20\n",
        "BATCH_SIZE = 500"
      ],
      "execution_count": 2,
      "outputs": []
    },
    {
      "cell_type": "code",
      "metadata": {
        "id": "8XZAFeeuNfOt"
      },
      "source": [
        "def load_data():\n",
        "  #데이터 로드\n",
        "  (X_train, y_train) , (X_test, y_test) = datasets.imdb.load_data(num_words=n_words)\n",
        "  #문장을 max_len이 되도록 채워 넣는다.\n",
        "  X_train = preprocessing.sequence.pad_sequences(X_train,maxlen=max_len)\n",
        "  X_test = preprocessing.sequence.pad_sequences(X_test,maxlen=max_len)\n",
        "  return (X_train, y_train), (X_test, y_test)  "
      ],
      "execution_count": 3,
      "outputs": []
    },
    {
      "cell_type": "code",
      "metadata": {
        "id": "rwrd5BqGOe03"
      },
      "source": [
        "def build_model():\n",
        "  model = models.Sequential()\n",
        "  #input : eEmbedding Layer\n",
        "  #모델은 크기의 정수 행렬을 입력으로 취한다.(batch, input_length).\n",
        "  #output : (input_length, dim_embedding).\n",
        "  #입력의 가장큰 정수는 n_words 보다 작거나 같다.(어휘 크기)\n",
        "  model.add(layers.Embedding(n_words,dim_embedding,input_length=max_len))\n",
        "  model.add(layers.Dropout(0.3))\n",
        "\n",
        "  #각 n_words 특징에서 특징 벡터의 최댓값을 취한다.\n",
        "  model.add(layers.GlobalMaxPooling1D())\n",
        "  model.add(layers.Dense(128,activation='relu'))\n",
        "  model.add(layers.Dropout(0.5))\n",
        "  model.add(layers.Dense(1,activation='sigmoid'))\n",
        "  return model\n",
        "  "
      ],
      "execution_count": 5,
      "outputs": []
    },
    {
      "cell_type": "code",
      "metadata": {
        "colab": {
          "base_uri": "https://localhost:8080/"
        },
        "id": "TsMFIw5hPdvu",
        "outputId": "a1fd1631-8e3d-4619-f718-b11abbcdc065"
      },
      "source": [
        "(X_train, y_train), (X_test, y_test) = load_data()\n",
        "model = build_model()\n",
        "model.summary()\n",
        "\n",
        "model.compile(optimizer = \"adam\", loss = \"binary_crossentropy\", metrics=['accuracy'])\n",
        "score = model.fit(X_train,y_train,epochs=EPOCHS,batch_size=BATCH_SIZE,validation_data=(X_test,y_test))\n",
        "\n",
        "score = model.evaluate(X_train, y_test, batch_size=BATCH_SIZE)\n",
        "print(\"\\nTest Score : \", score[0])\n",
        "print(\"Test Accuracy : \", score[1])\n"
      ],
      "execution_count": 6,
      "outputs": [
        {
          "output_type": "stream",
          "text": [
            "Downloading data from https://storage.googleapis.com/tensorflow/tf-keras-datasets/imdb.npz\n",
            "17465344/17464789 [==============================] - 0s 0us/step\n"
          ],
          "name": "stdout"
        },
        {
          "output_type": "stream",
          "text": [
            "<string>:6: VisibleDeprecationWarning: Creating an ndarray from ragged nested sequences (which is a list-or-tuple of lists-or-tuples-or ndarrays with different lengths or shapes) is deprecated. If you meant to do this, you must specify 'dtype=object' when creating the ndarray\n",
            "/usr/local/lib/python3.7/dist-packages/tensorflow/python/keras/datasets/imdb.py:159: VisibleDeprecationWarning: Creating an ndarray from ragged nested sequences (which is a list-or-tuple of lists-or-tuples-or ndarrays with different lengths or shapes) is deprecated. If you meant to do this, you must specify 'dtype=object' when creating the ndarray\n",
            "  x_train, y_train = np.array(xs[:idx]), np.array(labels[:idx])\n",
            "/usr/local/lib/python3.7/dist-packages/tensorflow/python/keras/datasets/imdb.py:160: VisibleDeprecationWarning: Creating an ndarray from ragged nested sequences (which is a list-or-tuple of lists-or-tuples-or ndarrays with different lengths or shapes) is deprecated. If you meant to do this, you must specify 'dtype=object' when creating the ndarray\n",
            "  x_test, y_test = np.array(xs[idx:]), np.array(labels[idx:])\n"
          ],
          "name": "stderr"
        },
        {
          "output_type": "stream",
          "text": [
            "Model: \"sequential\"\n",
            "_________________________________________________________________\n",
            "Layer (type)                 Output Shape              Param #   \n",
            "=================================================================\n",
            "embedding (Embedding)        (None, 200, 256)          2560000   \n",
            "_________________________________________________________________\n",
            "dropout (Dropout)            (None, 200, 256)          0         \n",
            "_________________________________________________________________\n",
            "global_max_pooling1d (Global (None, 256)               0         \n",
            "_________________________________________________________________\n",
            "dense (Dense)                (None, 128)               32896     \n",
            "_________________________________________________________________\n",
            "dropout_1 (Dropout)          (None, 128)               0         \n",
            "_________________________________________________________________\n",
            "dense_1 (Dense)              (None, 1)                 129       \n",
            "=================================================================\n",
            "Total params: 2,593,025\n",
            "Trainable params: 2,593,025\n",
            "Non-trainable params: 0\n",
            "_________________________________________________________________\n",
            "Epoch 1/20\n",
            "50/50 [==============================] - 31s 595ms/step - loss: 0.6873 - accuracy: 0.5593 - val_loss: 0.6380 - val_accuracy: 0.8059\n",
            "Epoch 2/20\n",
            "50/50 [==============================] - 29s 587ms/step - loss: 0.5438 - accuracy: 0.8165 - val_loss: 0.3652 - val_accuracy: 0.8600\n",
            "Epoch 3/20\n",
            "50/50 [==============================] - 29s 575ms/step - loss: 0.2984 - accuracy: 0.8784 - val_loss: 0.3047 - val_accuracy: 0.8748\n",
            "Epoch 4/20\n",
            "50/50 [==============================] - 29s 578ms/step - loss: 0.2205 - accuracy: 0.9171 - val_loss: 0.2936 - val_accuracy: 0.8782\n",
            "Epoch 5/20\n",
            "50/50 [==============================] - 29s 575ms/step - loss: 0.1755 - accuracy: 0.9358 - val_loss: 0.2877 - val_accuracy: 0.8782\n",
            "Epoch 6/20\n",
            "50/50 [==============================] - 29s 583ms/step - loss: 0.1400 - accuracy: 0.9532 - val_loss: 0.2924 - val_accuracy: 0.8748\n",
            "Epoch 7/20\n",
            "50/50 [==============================] - 29s 580ms/step - loss: 0.1071 - accuracy: 0.9678 - val_loss: 0.3017 - val_accuracy: 0.8711\n",
            "Epoch 8/20\n",
            "50/50 [==============================] - 29s 579ms/step - loss: 0.0789 - accuracy: 0.9768 - val_loss: 0.3148 - val_accuracy: 0.8676\n",
            "Epoch 9/20\n",
            "50/50 [==============================] - 29s 577ms/step - loss: 0.0597 - accuracy: 0.9850 - val_loss: 0.3353 - val_accuracy: 0.8624\n",
            "Epoch 10/20\n",
            "50/50 [==============================] - 29s 576ms/step - loss: 0.0451 - accuracy: 0.9902 - val_loss: 0.3499 - val_accuracy: 0.8620\n",
            "Epoch 11/20\n",
            "50/50 [==============================] - 29s 578ms/step - loss: 0.0321 - accuracy: 0.9941 - val_loss: 0.3708 - val_accuracy: 0.8574\n",
            "Epoch 12/20\n",
            "50/50 [==============================] - 29s 581ms/step - loss: 0.0249 - accuracy: 0.9949 - val_loss: 0.3851 - val_accuracy: 0.8588\n",
            "Epoch 13/20\n",
            "50/50 [==============================] - 29s 590ms/step - loss: 0.0189 - accuracy: 0.9962 - val_loss: 0.4069 - val_accuracy: 0.8550\n",
            "Epoch 14/20\n",
            "50/50 [==============================] - 30s 591ms/step - loss: 0.0169 - accuracy: 0.9976 - val_loss: 0.4224 - val_accuracy: 0.8524\n",
            "Epoch 15/20\n",
            "50/50 [==============================] - 29s 591ms/step - loss: 0.0116 - accuracy: 0.9988 - val_loss: 0.4366 - val_accuracy: 0.8530\n",
            "Epoch 16/20\n",
            "50/50 [==============================] - 29s 591ms/step - loss: 0.0103 - accuracy: 0.9986 - val_loss: 0.4513 - val_accuracy: 0.8519\n",
            "Epoch 17/20\n",
            "50/50 [==============================] - 29s 588ms/step - loss: 0.0085 - accuracy: 0.9991 - val_loss: 0.4635 - val_accuracy: 0.8527\n",
            "Epoch 18/20\n",
            "50/50 [==============================] - 29s 589ms/step - loss: 0.0073 - accuracy: 0.9991 - val_loss: 0.4835 - val_accuracy: 0.8494\n",
            "Epoch 19/20\n",
            "50/50 [==============================] - 29s 588ms/step - loss: 0.0064 - accuracy: 0.9993 - val_loss: 0.4916 - val_accuracy: 0.8504\n",
            "Epoch 20/20\n",
            "50/50 [==============================] - 29s 585ms/step - loss: 0.0053 - accuracy: 0.9995 - val_loss: 0.5017 - val_accuracy: 0.8496\n",
            "50/50 [==============================] - 3s 66ms/step - loss: 3.6688 - accuracy: 0.4963\n",
            "\n",
            "Test Score :  3.6688032150268555\n",
            "Test Accuracy :  0.4963200092315674\n"
          ],
          "name": "stdout"
        }
      ]
    },
    {
      "cell_type": "code",
      "metadata": {
        "id": "j0A0n8ZpRQEB"
      },
      "source": [
        "#예측하기\n",
        "#predictions = model.predict(x)"
      ],
      "execution_count": null,
      "outputs": []
    }
  ]
}